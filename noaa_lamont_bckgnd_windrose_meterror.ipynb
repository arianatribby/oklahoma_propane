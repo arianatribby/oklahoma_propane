{
 "cells": [
  {
   "cell_type": "code",
   "execution_count": null,
   "id": "fc06fdc6-5a40-489f-9bae-c85b4c7b3e18",
   "metadata": {},
   "outputs": [],
   "source": [
    "import sys\n",
    "import os\n",
    "import pandas as pd\n",
    "import numpy as np\n",
    "import scipy.stats as st\n",
    "import glob\n",
    "import datetime\n",
    "import time\n",
    "import numba\n",
    "import scipy as sc\n",
    "\n",
    "import bokeh\n",
    "from bokeh.models import DatetimeTickFormatter, NumeralTickFormatter, ColumnDataSource, ColorBar\n",
    "from bokeh.plotting import figure\n",
    "from bokeh.layouts import gridplot, row, column\n",
    "from bokeh.transform import linear_cmap\n",
    "from bokeh.palettes import Viridis\n",
    "import bokeh.io\n",
    "import bokeh.plotting\n",
    "\n",
    "bokeh.io.output_notebook()\n",
    "import holoviews as hv\n",
    "import bebi103\n",
    "hv.extension('bokeh')"
   ]
  },
  {
   "cell_type": "markdown",
   "id": "9853b570-1bbd-41ab-abcb-e5f9a0460baa",
   "metadata": {},
   "source": [
    "Windrose data source below \n",
    "\n",
    "I am using the NOAA data that has already been filtered for the fresh emission percentile \n",
    "\n",
    "All of this will be for Lamont area"
   ]
  },
  {
   "cell_type": "markdown",
   "id": "ea1ef026-116e-429a-8d06-9241fd4180c2",
   "metadata": {},
   "source": [
    "## Doing example using NOAA data from propane bayes project \n",
    "See \"All years\" section for analysis using newer NOAA data (which has less data in comparison)"
   ]
  },
  {
   "cell_type": "code",
   "execution_count": null,
   "id": "71b871f6-2689-4096-b09e-92964e1cbb40",
   "metadata": {},
   "outputs": [],
   "source": [
    "# NOAA_flask = pd.read_csv('/Users/arianatribby/git/propane_bayes_local/data/processing/NOAAfreshemissions.csv')\n",
    "# this is the wrong noaa data, see below for the right one \n",
    "NOAA_flask = pd.read_csv('/Users/arianatribby/git/oklahoma_propane/data/processing/newNOAA_freshemiss.csv')\n",
    "\n"
   ]
  },
  {
   "cell_type": "code",
   "execution_count": null,
   "id": "a94299d3-5a98-40b2-ac6a-8b6fb1453cbc",
   "metadata": {},
   "outputs": [],
   "source": [
    "NOAA_flask.head()"
   ]
  },
  {
   "cell_type": "code",
   "execution_count": null,
   "id": "50f87748-7a37-4d0a-9f84-c86147b79e28",
   "metadata": {},
   "outputs": [],
   "source": [
    "noaa = NOAA_flask.loc[NOAA_flask['sample_site_code'] == 'SGP']"
   ]
  },
  {
   "cell_type": "code",
   "execution_count": null,
   "id": "7a06b5bf-ee9d-4b2e-8420-f29f715f91d9",
   "metadata": {},
   "outputs": [],
   "source": [
    "noaa.tail()"
   ]
  },
  {
   "cell_type": "markdown",
   "id": "8f43af8b-1960-4df7-8d70-d33a6df0f8f4",
   "metadata": {},
   "source": [
    "First separate out the tower from the aircraft. See when each type of data was taken. "
   ]
  },
  {
   "cell_type": "code",
   "execution_count": null,
   "id": "8a548476-9b9c-40fb-8aa8-eba285e6f7ff",
   "metadata": {},
   "outputs": [],
   "source": [
    "fh = 400\n",
    "fw = 400\n",
    "\n",
    "p = bokeh.plotting.figure(frame_height=fh, \n",
    "                          frame_width=fw, title='')\n",
    "\n",
    "p.circle(noaa.completetime.values, noaa.sample_altitude.values*1e-3, \n",
    "         size=5, fill_alpha=.5)\n",
    "\n",
    "p.xaxis[0].formatter = DatetimeTickFormatter(months=['%b %Y'],years=['%Y'])\n",
    "# p.xaxis[0].formatter = DatetimeTickFormatter(days=['%b %Y'])\n",
    "p.xaxis.axis_label = \"flask sample time\"\n",
    "p.yaxis.axis_label = \"sample altitude (km)\"\n",
    "p.xaxis.axis_label_text_font_size = \"16pt\"\n",
    "p.yaxis.axis_label_text_font_size = \"16pt\"\n",
    "p.xaxis.major_label_text_font_size = \"15pt\"\n",
    "p.yaxis.major_label_text_font_size = \"15pt\"\n",
    "p.xaxis.major_tick_line_width = 3\n",
    "p.yaxis.major_tick_line_width = 3\n",
    "p.axis.axis_label_text_font_style = 'bold'\n",
    "bokeh.io.show(p)\n",
    "\n",
    "# formatting https://docs.bokeh.org/en/2.4.2/docs/reference/models/formatters.html "
   ]
  },
  {
   "cell_type": "code",
   "execution_count": null,
   "id": "34762123-5d99-4f80-938c-4427b35bb404",
   "metadata": {},
   "outputs": [],
   "source": [
    "noaa_tower = noaa.loc[noaa['sample_altitude'] < 400]"
   ]
  },
  {
   "cell_type": "markdown",
   "id": "50787670-002d-4272-bb1a-ebfb134b6753",
   "metadata": {},
   "source": [
    "Also, tccon starts in 2017 summer, so start with that. Going to only analyze the summer data. But you don't have summer data for 2018 at the moment. Waiting for NOAA to send data. "
   ]
  },
  {
   "cell_type": "code",
   "execution_count": null,
   "id": "8c0f9808-e76b-4516-b534-f9f1c4ed7373",
   "metadata": {},
   "outputs": [],
   "source": [
    "noaatowersummer = noaa_tower.loc[(noaa_tower['dt_time'] > '2017-06') & \n",
    "                                 (noaa_tower['dt_time'] < '2017-10')]"
   ]
  },
  {
   "cell_type": "markdown",
   "id": "940fe7f2-b321-4d4c-b8f1-4829f892e436",
   "metadata": {},
   "source": [
    "What time of the day did these measurements occur"
   ]
  },
  {
   "cell_type": "code",
   "execution_count": null,
   "id": "cc3ad51c-9f68-4e9a-b114-16e7faf61ad8",
   "metadata": {},
   "outputs": [],
   "source": [
    "noaatowersummer.dt_time.values"
   ]
  },
  {
   "cell_type": "code",
   "execution_count": null,
   "id": "bab44219-f40e-4750-97b0-a8eac3f11ff6",
   "metadata": {},
   "outputs": [],
   "source": [
    "noaatowersummer.tail()"
   ]
  },
  {
   "cell_type": "markdown",
   "id": "b8d36661-a0c1-49ae-85c5-00d3c837f8c0",
   "metadata": {},
   "source": [
    "I double checked the raw file. Before 2017, there were more flasks that were taken at different times (even after filtering for tower observations), but beyond 2017 there were only 18, 19, and 20 th hour flask. That is not taking into account the filtering for fresh emissions. So I believe this (I thought maybe there was an issue with the time values, but the raw file had the time hour written out and this variable was just a compilation of the time year, month, day, hour). \n",
    "\n",
    "So tccon has best observations at noon, but this doesn't have that. oh well? "
   ]
  },
  {
   "cell_type": "markdown",
   "id": "bbd70a52-734f-42dd-9da0-8dc9461882f8",
   "metadata": {},
   "source": [
    "### Wind data"
   ]
  },
  {
   "cell_type": "markdown",
   "id": "d26788ad-c0d2-4450-bbcd-16f3f2a154d3",
   "metadata": {},
   "source": [
    "Getting correlations between NOAA tower and aircraft flask with wind roses from https://mesonet.agron.iastate.edu/sites/windrose.phtml?station=WDG&network=OK_ASOS and you clicked on custom wind rose https://mesonet.agron.iastate.edu/request/download.phtml?network=OK_ASOS\n",
    "\n",
    "And selecting the blackwell station because that seems to be the closest. Selected the variables of interest and utc time. \n"
   ]
  },
  {
   "cell_type": "code",
   "execution_count": null,
   "id": "24f917eb-6231-4864-b9d2-e081493b62f4",
   "metadata": {},
   "outputs": [],
   "source": [
    "wind = pd.read_csv('../../data/windrose/BKN.csv')"
   ]
  },
  {
   "cell_type": "code",
   "execution_count": null,
   "id": "d9be6be5-a1df-4cdc-bdfe-b9eb9625fb5f",
   "metadata": {},
   "outputs": [],
   "source": [
    "wind.tail()"
   ]
  },
  {
   "cell_type": "code",
   "execution_count": null,
   "id": "527497f6-5d58-4e2b-97a6-e8635d356ae9",
   "metadata": {},
   "outputs": [],
   "source": [
    "newwindtime = [datetime.datetime.timestamp(datetime.datetime.strptime(x, \"%Y-%m-%d %H:%M\")) for x in wind.valid.values]"
   ]
  },
  {
   "cell_type": "code",
   "execution_count": null,
   "id": "d287e027-2588-4d22-b857-6ea5f4adfa9f",
   "metadata": {},
   "outputs": [],
   "source": [
    "wind['timestamp'] = newwindtime"
   ]
  },
  {
   "cell_type": "code",
   "execution_count": null,
   "id": "6c6a0c48-f162-4263-94fc-fedbe82ff147",
   "metadata": {},
   "outputs": [],
   "source": [
    "f = sc.interpolate.interp1d(wind.timestamp.values,wind.drct.values, kind='nearest')\n",
    "g = sc.interpolate.interp1d(wind.timestamp.values,wind.sped.values, kind='nearest')"
   ]
  },
  {
   "cell_type": "code",
   "execution_count": null,
   "id": "c1f5c961-0a3a-49cf-b2ae-a4fe9d05d39e",
   "metadata": {},
   "outputs": [],
   "source": [
    "newdirct = f(noaatowersummer.completetime.values)\n",
    "newspd = g(noaatowersummer.completetime.values)"
   ]
  },
  {
   "cell_type": "code",
   "execution_count": null,
   "id": "90d33c2c-d909-4bec-9b39-b3a12a99106e",
   "metadata": {},
   "outputs": [],
   "source": [
    "newspd"
   ]
  },
  {
   "cell_type": "code",
   "execution_count": null,
   "id": "22370b4a-437f-418b-b397-1445728f720e",
   "metadata": {},
   "outputs": [],
   "source": [
    "newdirct"
   ]
  },
  {
   "cell_type": "markdown",
   "id": "8d8a7cc1-a5b8-47a0-b39c-c3f4cbdd0ef0",
   "metadata": {},
   "source": [
    "The reason these are nan is because the data is nan for the wind direction near those time values.  "
   ]
  },
  {
   "cell_type": "code",
   "execution_count": null,
   "id": "1e149a27-9970-481d-b19e-2131d2224d71",
   "metadata": {},
   "outputs": [],
   "source": [
    "noaatowersummer.dt_time.values[9:12]"
   ]
  },
  {
   "cell_type": "code",
   "execution_count": null,
   "id": "b45a4b8a-1fe9-4479-9e4e-b5b828c9513c",
   "metadata": {},
   "outputs": [],
   "source": [
    "noaatowersummer.dt_time.values[19:22]"
   ]
  },
  {
   "cell_type": "code",
   "execution_count": null,
   "id": "1bac3b22-76ac-43b9-a8b8-811cca44b717",
   "metadata": {},
   "outputs": [],
   "source": [
    "newdirct[10] = 200.\n",
    "newdirct[20] = 180."
   ]
  },
  {
   "cell_type": "markdown",
   "id": "9ab9cc6b-85ff-4bbf-90ee-84e32875a5bc",
   "metadata": {},
   "source": [
    "color this by wind direction\n"
   ]
  },
  {
   "cell_type": "code",
   "execution_count": null,
   "id": "ce74bf00-7c50-4be5-9dd9-3485d11e2a1b",
   "metadata": {},
   "outputs": [],
   "source": [
    "fh = 400\n",
    "fw = 400\n",
    "\n",
    "p = bokeh.plotting.figure(frame_height=fh, \n",
    "                          frame_width=fw, title='June-Sept 2017 Tower SGP')\n",
    "\n",
    "source = ColumnDataSource(dict(x=noaatowersummer.c2h6.values*1e-3, \n",
    "                               y=noaatowersummer.c3h8.values*1e-3, \n",
    "                               z=newdirct))\n",
    "mapper = linear_cmap(field_name='z', palette=Viridis[5],\n",
    "                     low=min(newdirct) ,high=max(newdirct))\n",
    "p.circle(x='x',y='y',line_color=mapper,color=mapper,fill_alpha=.5,\n",
    "         size=10,source=source)\n",
    "color_bar = ColorBar(color_mapper=mapper['transform'],\n",
    "                     width=8, title='Wind direction (degrees)',\n",
    "                     major_label_text_font_size=\"15pt\",\n",
    "                     title_standoff=20,\n",
    "                     label_standoff=5,\n",
    "                     title_text_font_size=\"15pt\",\n",
    "                     location=(0,0))\n",
    "p.add_layout(color_bar, 'right')\n",
    "p.xaxis.axis_label = \"C₂H₆ (ppb)\"\n",
    "p.yaxis.axis_label = \"C₃H₈ (ppb)\"\n",
    "p.xaxis.axis_label_text_font_size = \"16pt\"\n",
    "p.yaxis.axis_label_text_font_size = \"16pt\"\n",
    "p.xaxis.major_label_text_font_size = \"15pt\"\n",
    "p.yaxis.major_label_text_font_size = \"15pt\"\n",
    "p.xaxis.major_tick_line_width = 3\n",
    "p.yaxis.major_tick_line_width = 3\n",
    "p.axis.axis_label_text_font_style = 'bold'\n",
    "p.title.text_font_size = \"16pt\"\n",
    "bokeh.io.show(p)\n"
   ]
  },
  {
   "cell_type": "markdown",
   "id": "abd11b8c-4908-4c60-9e81-f5a5cc9fe83f",
   "metadata": {},
   "source": [
    "size of glyphs - relative magnitude of wind speed"
   ]
  },
  {
   "cell_type": "code",
   "execution_count": null,
   "id": "33695d35-cb9f-4934-938c-8f75daac3637",
   "metadata": {},
   "outputs": [],
   "source": [
    "fh = 400\n",
    "fw = 400\n",
    "\n",
    "p = bokeh.plotting.figure(frame_height=fh, \n",
    "                          frame_width=fw, title='June-Sept 2017 Tower SGP')\n",
    "\n",
    "source = ColumnDataSource(dict(x=noaatowersummer.c2h6.values*1e-3, \n",
    "                               y=noaatowersummer.c3h8.values*1e-3, \n",
    "                               z=newdirct,\n",
    "                               q=newspd/20))\n",
    "mapper = linear_cmap(field_name='z', palette=Viridis[5],\n",
    "                     low=min(newdirct) ,high=max(newdirct))\n",
    "p.circle(x='x',y='y',line_color=mapper,color=mapper,fill_alpha=.5,\n",
    "         radius='q',source=source)\n",
    "color_bar = ColorBar(color_mapper=mapper['transform'],\n",
    "                     width=8, title='Wind direction (degrees)',\n",
    "                     major_label_text_font_size=\"15pt\",\n",
    "                     title_standoff=20,\n",
    "                     label_standoff=5,\n",
    "                     title_text_font_size=\"15pt\",\n",
    "                     location=(0,0))\n",
    "p.add_layout(color_bar, 'right')\n",
    "p.xaxis.axis_label = \"C₂H₆ (ppb)\"\n",
    "p.yaxis.axis_label = \"C₃H₈ (ppb)\"\n",
    "p.xaxis.axis_label_text_font_size = \"16pt\"\n",
    "p.yaxis.axis_label_text_font_size = \"16pt\"\n",
    "p.xaxis.major_label_text_font_size = \"15pt\"\n",
    "p.yaxis.major_label_text_font_size = \"15pt\"\n",
    "p.xaxis.major_tick_line_width = 3\n",
    "p.yaxis.major_tick_line_width = 3\n",
    "p.axis.axis_label_text_font_style = 'bold'\n",
    "p.title.text_font_size = \"16pt\"\n",
    "bokeh.io.show(p)\n",
    "\n"
   ]
  },
  {
   "cell_type": "code",
   "execution_count": null,
   "id": "1b63a1a1-9032-424b-8a67-c1bd76046001",
   "metadata": {},
   "outputs": [],
   "source": [
    "len(noaatowersummer)"
   ]
  },
  {
   "cell_type": "markdown",
   "id": "68459c0d-b41b-442d-8764-dcca93f87de6",
   "metadata": {},
   "source": [
    "### Now repeat for aircraft"
   ]
  },
  {
   "cell_type": "code",
   "execution_count": null,
   "id": "c98bd9df-ad39-4912-b2ea-1d9be5d07286",
   "metadata": {},
   "outputs": [],
   "source": [
    "noaa_plane = noaa.loc[noaa['sample_altitude'] > 400]"
   ]
  },
  {
   "cell_type": "markdown",
   "id": "1544af4f-68f5-40b1-8c86-a125643f6377",
   "metadata": {},
   "source": [
    "Plane had limited observations. Check when they occured, only look at the summer data. "
   ]
  },
  {
   "cell_type": "markdown",
   "id": "8b89895d-b040-4d4e-a7a4-d96c15525995",
   "metadata": {},
   "source": [
    "Not good, you don't have anything for 2017-2018 "
   ]
  },
  {
   "cell_type": "markdown",
   "id": "cc3a5f7d-72c7-4a70-ab67-40f3bffd6fa1",
   "metadata": {},
   "source": [
    "#### Prepare data for footprints \n",
    "Prepare a csv file that has 4 columns: lat,lon,time,height - all this is needed to make the footprints."
   ]
  },
  {
   "cell_type": "code",
   "execution_count": null,
   "id": "0c38d0ba-a877-4bfc-9d65-0bb2851d212d",
   "metadata": {},
   "outputs": [],
   "source": [
    "noaatowersummer.columns"
   ]
  },
  {
   "cell_type": "markdown",
   "id": "d531bb8d-21fb-46f9-b274-b83e9bc9412c",
   "metadata": {},
   "source": [
    "STILT needs sample_intake_height"
   ]
  },
  {
   "cell_type": "code",
   "execution_count": null,
   "id": "5d94b1b7-db85-4017-b6de-624ef0815021",
   "metadata": {},
   "outputs": [],
   "source": [
    "towertocsv = noaatowersummer[['lat','lon','dt_time','completetime','sample_intake_height']]"
   ]
  },
  {
   "cell_type": "code",
   "execution_count": null,
   "id": "e83851c7-fda2-431c-8ccd-db477e933b4f",
   "metadata": {},
   "outputs": [],
   "source": [
    "towertocsv.to_csv('../../data/windrose/noaa_summer2017tower_varsforfootprint.csv')"
   ]
  },
  {
   "cell_type": "markdown",
   "id": "4ab6ed88-1a7a-4dc2-8d0f-d45501b6b322",
   "metadata": {},
   "source": [
    "# All years "
   ]
  },
  {
   "cell_type": "code",
   "execution_count": null,
   "id": "86f7de6d-5997-4879-8fd4-03fc5e437259",
   "metadata": {},
   "outputs": [],
   "source": [
    "wind2017 = wind.copy()"
   ]
  },
  {
   "cell_type": "code",
   "execution_count": null,
   "id": "770944b7-7c99-4460-81b9-e9ca0d606ff9",
   "metadata": {},
   "outputs": [],
   "source": [
    "wind2018 = pd.read_csv('../../data/windrose/BKN-2018.csv')\n",
    "wind2019 = pd.read_csv('../../data/windrose/BKN-2019.csv')\n",
    "wind2020 = pd.read_csv('../../data/windrose/BKN-2020.csv')\n",
    "wind2021 = pd.read_csv('../../data/windrose/BKN-2021.csv')"
   ]
  },
  {
   "cell_type": "code",
   "execution_count": null,
   "id": "60afa36d-47e7-4595-91b4-70d8c1c638f7",
   "metadata": {},
   "outputs": [],
   "source": [
    "wind2017.drop(['peak_wind_drct','peak_wind_time'],axis=1,inplace=True)"
   ]
  },
  {
   "cell_type": "markdown",
   "id": "f8320488-30ed-4434-8346-67c67e92afa7",
   "metadata": {},
   "source": [
    "Put everything in a single dataframe"
   ]
  },
  {
   "cell_type": "code",
   "execution_count": null,
   "id": "ee8bb99c-0959-4b48-9064-366484c051d8",
   "metadata": {},
   "outputs": [],
   "source": [
    "# 2021 data is good, but not including it in since only have NOAA until 2020\n",
    "\n",
    "wind_all_years = pd.concat([wind2017, wind2018, wind2019, wind2020], ignore_index=True)"
   ]
  },
  {
   "cell_type": "markdown",
   "id": "3139c8cb-03dc-4f14-88e6-8d5599cbe3e0",
   "metadata": {},
   "source": [
    "Generate timestamp for interpolation to noaa time"
   ]
  },
  {
   "cell_type": "code",
   "execution_count": null,
   "id": "39a15c34-1f31-40ad-9acf-15ac187424cf",
   "metadata": {},
   "outputs": [],
   "source": [
    "newwindtime = [datetime.datetime.timestamp(datetime.datetime.strptime(x, \"%Y-%m-%d %H:%M\")) for x in wind_all_years.valid.values]"
   ]
  },
  {
   "cell_type": "code",
   "execution_count": null,
   "id": "3141a4fb-3cbf-4d96-bbb3-f039b5d3aab4",
   "metadata": {},
   "outputs": [],
   "source": [
    "wind_all_years['timestamp'] = newwindtime"
   ]
  },
  {
   "cell_type": "code",
   "execution_count": null,
   "id": "84bc0b7c-174e-41a7-86b1-f57be47b8470",
   "metadata": {},
   "outputs": [],
   "source": [
    "f = sc.interpolate.interp1d(wind_all_years.timestamp.values,wind_all_years.drct.values, kind='nearest')\n",
    "g = sc.interpolate.interp1d(wind_all_years.timestamp.values,wind_all_years.sped.values, kind='nearest')"
   ]
  },
  {
   "cell_type": "markdown",
   "id": "e61b61a3-692a-4350-b34c-0cd51b3100b3",
   "metadata": {},
   "source": [
    "Grab noaa fresh data for all years "
   ]
  },
  {
   "cell_type": "code",
   "execution_count": null,
   "id": "81acd3a2-f806-46d9-becc-eb2d4cd8a3ae",
   "metadata": {},
   "outputs": [],
   "source": [
    "NOAA_fresh_summerallyears = pd.read_csv('../../data/processing/newNOAA_freshemiss2016to2020.csv')\n",
    "NOAAoldandfresh_allyears = pd.read_csv('../../data/processing/newNOAA_oldandfreshemiss2016to2020.csv')"
   ]
  },
  {
   "cell_type": "markdown",
   "id": "745244a0-9580-4b87-abea-05e16715d227",
   "metadata": {},
   "source": [
    "Remove 2016 NOAA data since won't have tccon data for that time period"
   ]
  },
  {
   "cell_type": "code",
   "execution_count": null,
   "id": "c8a69847-1019-4e52-9b81-58f4ca188185",
   "metadata": {},
   "outputs": [],
   "source": [
    "NOAA_fresh_summerallyears.drop(NOAA_fresh_summerallyears.loc[NOAA_fresh_summerallyears['year'] == 2016].index, inplace=True)\n",
    "NOAAoldandfresh_allyears.drop(NOAAoldandfresh_allyears.loc[NOAAoldandfresh_allyears['year'] == 2016].index, inplace=True)"
   ]
  },
  {
   "cell_type": "code",
   "execution_count": null,
   "id": "397aa416-25ba-43c7-bc41-f8c401324308",
   "metadata": {},
   "outputs": [],
   "source": [
    "newdirct = f(NOAA_fresh_summerallyears.completetime.values)\n",
    "newspd = g(NOAA_fresh_summerallyears.completetime.values)\n",
    "\n",
    "newdirct_all = f(NOAAoldandfresh_allyears.completetime.values)\n",
    "newspd_all = g(NOAAoldandfresh_allyears.completetime.values)"
   ]
  },
  {
   "cell_type": "markdown",
   "id": "6cc54c1d-2081-4793-a09b-0cb6d2b29268",
   "metadata": {},
   "source": [
    "Check for NaNs (not due to NOAA but due to missing met data)"
   ]
  },
  {
   "cell_type": "code",
   "execution_count": null,
   "id": "81c9b215-d712-41c4-9127-5b98cc2d8196",
   "metadata": {},
   "outputs": [],
   "source": [
    "newdirct_all"
   ]
  },
  {
   "cell_type": "code",
   "execution_count": null,
   "id": "4e13f103-e057-46a5-bbc3-5d6706cf75a8",
   "metadata": {},
   "outputs": [],
   "source": [
    "newspd"
   ]
  },
  {
   "cell_type": "markdown",
   "id": "9a6e11bf-bdeb-4790-9774-c6a2be2f32d4",
   "metadata": {},
   "source": [
    "Linearly interpolate data"
   ]
  },
  {
   "cell_type": "code",
   "execution_count": null,
   "id": "c0d17d3f-8ac3-4c6e-b362-2216889e2620",
   "metadata": {},
   "outputs": [],
   "source": [
    "mask = np.isnan(newdirct)\n",
    "newdirct[mask] = np.interp(np.flatnonzero(mask), np.flatnonzero(~mask), newdirct[~mask])\n",
    "\n",
    "print(newdirct)"
   ]
  },
  {
   "cell_type": "code",
   "execution_count": null,
   "id": "08e07bf8-2dbf-4fb9-9f73-32915ec20200",
   "metadata": {},
   "outputs": [],
   "source": [
    "mask = np.isnan(newdirct_all)\n",
    "newdirct_all[mask] = np.interp(np.flatnonzero(mask), np.flatnonzero(~mask), newdirct_all[~mask])\n",
    "\n",
    "print(newdirct_all)"
   ]
  },
  {
   "cell_type": "markdown",
   "id": "8210e4ca-d1ae-4665-95a2-3b795633788e",
   "metadata": {},
   "source": [
    "color this by wind direction\n"
   ]
  },
  {
   "cell_type": "code",
   "execution_count": null,
   "id": "35178769-a864-434e-8a89-a9d7b1a3414e",
   "metadata": {},
   "outputs": [],
   "source": [
    "fh = 400\n",
    "fw = 400\n",
    "\n",
    "p = bokeh.plotting.figure(frame_height=fh, \n",
    "                          frame_width=fw, title='2017-2020 Tower+Plane SGP')\n",
    "\n",
    "source = ColumnDataSource(dict(x=NOAA_fresh_summerallyears.c2h6.values*1e-3, \n",
    "                               y=NOAA_fresh_summerallyears.c3h8.values*1e-3, \n",
    "                               z=newdirct))\n",
    "mapper = linear_cmap(field_name='z', palette=Viridis[5],\n",
    "                     low=min(newdirct) ,high=max(newdirct))\n",
    "p.circle(x='x',y='y',line_color=mapper,color=mapper,fill_alpha=.5,\n",
    "         size=10,source=source)\n",
    "color_bar = ColorBar(color_mapper=mapper['transform'],\n",
    "                     width=8, title='Wind direction (degrees)',\n",
    "                     major_label_text_font_size=\"15pt\",\n",
    "                     title_standoff=20,\n",
    "                     label_standoff=5,\n",
    "                     title_text_font_size=\"15pt\",\n",
    "                     location=(0,0))\n",
    "p.add_layout(color_bar, 'right')\n",
    "p.xaxis.axis_label = \"C₂H₆ (ppb)\"\n",
    "p.yaxis.axis_label = \"C₃H₈ (ppb)\"\n",
    "p.xaxis.axis_label_text_font_size = \"16pt\"\n",
    "p.yaxis.axis_label_text_font_size = \"16pt\"\n",
    "p.xaxis.major_label_text_font_size = \"15pt\"\n",
    "p.yaxis.major_label_text_font_size = \"15pt\"\n",
    "p.xaxis.major_tick_line_width = 3\n",
    "p.yaxis.major_tick_line_width = 3\n",
    "p.axis.axis_label_text_font_style = 'bold'\n",
    "p.title.text_font_size = \"16pt\"\n",
    "bokeh.io.show(p)\n"
   ]
  },
  {
   "cell_type": "markdown",
   "id": "be4da698-b978-4c27-9bb4-522ac7c782bc",
   "metadata": {},
   "source": [
    "size of glyphs - relative magnitude of wind speed"
   ]
  },
  {
   "cell_type": "code",
   "execution_count": null,
   "id": "7affbad9-7cbb-4f39-9cd1-edbe435bdf5f",
   "metadata": {},
   "outputs": [],
   "source": [
    "fh = 400\n",
    "fw = 400\n",
    "\n",
    "p = bokeh.plotting.figure(frame_height=fh, \n",
    "                          frame_width=fw, title='2017-2020 Tower+Plane SGP')\n",
    "\n",
    "source = ColumnDataSource(dict(x=NOAA_fresh_summerallyears.c2h6.values*1e-3, \n",
    "                               y=NOAA_fresh_summerallyears.c3h8.values*1e-3, \n",
    "                               z=newdirct,\n",
    "                               q=newspd/20))\n",
    "mapper = linear_cmap(field_name='z', palette=Viridis[5],\n",
    "                     low=min(newdirct) ,high=max(newdirct))\n",
    "p.circle(x='x',y='y',line_color=mapper,color=mapper,fill_alpha=.5,\n",
    "         radius='q',source=source)\n",
    "color_bar = ColorBar(color_mapper=mapper['transform'],\n",
    "                     width=8, title='Wind direction (degrees)',\n",
    "                     major_label_text_font_size=\"15pt\",\n",
    "                     title_standoff=20,\n",
    "                     label_standoff=5,\n",
    "                     title_text_font_size=\"15pt\",\n",
    "                     location=(0,0))\n",
    "p.add_layout(color_bar, 'right')\n",
    "p.xaxis.axis_label = \"C₂H₆ (ppb)\"\n",
    "p.yaxis.axis_label = \"C₃H₈ (ppb)\"\n",
    "p.xaxis.axis_label_text_font_size = \"16pt\"\n",
    "p.yaxis.axis_label_text_font_size = \"16pt\"\n",
    "p.xaxis.major_label_text_font_size = \"15pt\"\n",
    "p.yaxis.major_label_text_font_size = \"15pt\"\n",
    "p.xaxis.major_tick_line_width = 3\n",
    "p.yaxis.major_tick_line_width = 3\n",
    "p.axis.axis_label_text_font_style = 'bold'\n",
    "p.title.text_font_size = \"16pt\"\n",
    "bokeh.io.show(p)\n",
    "\n"
   ]
  },
  {
   "cell_type": "code",
   "execution_count": null,
   "id": "3eef0d69-23bf-4afe-893a-0265d2cba365",
   "metadata": {},
   "outputs": [],
   "source": [
    "NOAA_fresh_summerallyears.groupby(['year','month'])['c2h6'].count()"
   ]
  },
  {
   "cell_type": "markdown",
   "id": "de2f4862-03a2-4cc3-9862-f58ac728ecd6",
   "metadata": {},
   "source": [
    "### Get background \n",
    "Have to get the ch4 and bootstrapping "
   ]
  },
  {
   "cell_type": "code",
   "execution_count": null,
   "id": "94e26d02-4a85-4e0f-94c6-c275ba953ede",
   "metadata": {},
   "outputs": [],
   "source": [
    "fh = 400\n",
    "fw = 400\n",
    "\n",
    "# NOAAoldandfresh_allyears\n",
    "\n",
    "p = bokeh.plotting.figure(frame_height=fh, frame_width=fw, title='', x_axis_type=\"log\", y_axis_type=\"log\")\n",
    "colors = bokeh.palettes.d3['Category20'][20]\n",
    "\n",
    "\n",
    "source = ColumnDataSource(dict(x=NOAAoldandfresh_allyears.c2h6.values*1e-3, \n",
    "                               y=NOAAoldandfresh_allyears.c3h8.values*1e-3, \n",
    "                               z=newdirct_all,\n",
    "                               q=newspd_all/100))\n",
    "mapper = linear_cmap(field_name='z', palette=Viridis[5],\n",
    "                     low=min(newdirct_all) ,high=max(newdirct_all))\n",
    "p.circle(x='x',y='y',line_color=mapper,color=mapper,fill_alpha=.5,source=source, size=10)\n",
    "color_bar = ColorBar(color_mapper=mapper['transform'],\n",
    "                     width=8, title='Wind direction (degrees)',\n",
    "                     major_label_text_font_size=\"15pt\",\n",
    "                     title_standoff=20,\n",
    "                     label_standoff=5,\n",
    "                     title_text_font_size=\"15pt\",\n",
    "                     location=(0,0))\n",
    "p.add_layout(color_bar, 'right')\n",
    "p.xaxis.axis_label = \"C₂H₆ (ppb)\"\n",
    "p.yaxis.axis_label = \"C₃H₈ (ppb)\"\n",
    "p.xaxis.axis_label_text_font_size = \"16pt\"\n",
    "p.yaxis.axis_label_text_font_size = \"16pt\"\n",
    "p.xaxis.major_label_text_font_size = \"15pt\"\n",
    "p.yaxis.major_label_text_font_size = \"15pt\"\n",
    "p.xaxis.major_tick_line_width = 3\n",
    "p.yaxis.major_tick_line_width = 3\n",
    "p.axis.axis_label_text_font_style = 'bold'\n",
    "p.legend.label_text_font_size = '14pt'\n",
    "\n",
    "p.legend.location = \"bottom_right\"\n",
    "bokeh.io.show(p)\n",
    "\n"
   ]
  },
  {
   "cell_type": "code",
   "execution_count": null,
   "id": "5e840271-5645-4863-9883-d8a7bd3d4973",
   "metadata": {},
   "outputs": [],
   "source": [
    "print(len(NOAAoldandfresh_allyears.loc[NOAAoldandfresh_allyears['c3h8'] < 1000]))\n",
    "print(len(NOAAoldandfresh_allyears.loc[NOAAoldandfresh_allyears['c3h8'] > 1000]))"
   ]
  },
  {
   "cell_type": "markdown",
   "id": "2f2bf425-b839-4b89-8462-be8006ab98cb",
   "metadata": {},
   "source": [
    "Paul: The background is not going to have a huge effect. The fresh emissions will inform most of the posterior anyway. So you should just choose a couple of values below the knee and can try using one or the other to get the background. So Don't worry about choosing a specific wind direction when choosing the background value. Just get an average point and then get the co-emitted ch4 corresponding to the index. \n",
    " "
   ]
  },
  {
   "cell_type": "code",
   "execution_count": null,
   "id": "d3316157-097a-45b6-9151-0077735b75c7",
   "metadata": {},
   "outputs": [],
   "source": [
    "print(np.median(NOAAoldandfresh_allyears.loc[NOAAoldandfresh_allyears['c3h8'] < 1000]['c3h8']))\n",
    "aged = NOAAoldandfresh_allyears.loc[NOAAoldandfresh_allyears['c3h8'] < 1000]"
   ]
  },
  {
   "cell_type": "code",
   "execution_count": null,
   "id": "3a55d6bd-80a0-4405-a542-f5f7e3d3dde2",
   "metadata": {},
   "outputs": [],
   "source": [
    "vals = [x for x in abs(aged['c3h8'] - np.median(aged['c3h8']))]\n"
   ]
  },
  {
   "cell_type": "code",
   "execution_count": null,
   "id": "74610e62-741c-41de-96e3-327b568895f9",
   "metadata": {},
   "outputs": [],
   "source": [
    "np.argmin(vals)"
   ]
  },
  {
   "cell_type": "code",
   "execution_count": null,
   "id": "c2073f60-cce8-4f91-bfa4-76ce0a19e81e",
   "metadata": {},
   "outputs": [],
   "source": [
    "vals[81]"
   ]
  },
  {
   "cell_type": "code",
   "execution_count": null,
   "id": "a01f132c-00dc-4a1f-afcb-51132a863047",
   "metadata": {},
   "outputs": [],
   "source": [
    "c3background_val = np.median(aged['c3h8'])\n",
    "c3background_ind = np.argmin(vals)"
   ]
  },
  {
   "cell_type": "code",
   "execution_count": null,
   "id": "d0395d04-f4c9-4451-bf03-df79dce0c7f8",
   "metadata": {},
   "outputs": [],
   "source": [
    "ch4background_val = aged.ch4.values[c3background_ind]\n",
    "c2background_val = aged.c2h6.values[c3background_ind]"
   ]
  },
  {
   "cell_type": "markdown",
   "id": "ded73e8a-7e85-4ca2-9d10-b94dbb913f71",
   "metadata": {},
   "source": [
    "The lat/lon/time associated with this background number: "
   ]
  },
  {
   "cell_type": "code",
   "execution_count": null,
   "id": "f46d08fa-d5e3-45ed-8b2f-6945c3009f40",
   "metadata": {},
   "outputs": [],
   "source": [
    "ind_bigarr = np.argmin(NOAAoldandfresh_allyears.c3h8 - c3background_val)"
   ]
  },
  {
   "cell_type": "code",
   "execution_count": null,
   "id": "bc7886e1-5f90-4cd9-b9ea-4cafa74c8cc6",
   "metadata": {},
   "outputs": [],
   "source": [
    "backgroundinfo_df = NOAAoldandfresh_allyears.iloc[ind_bigarr]\n",
    "backgroundinfo_df"
   ]
  },
  {
   "cell_type": "markdown",
   "id": "3cf9e93e-a331-4bac-be5e-245dced8b7ba",
   "metadata": {},
   "source": [
    "Add an anomaly variable to the fresh emissions dataframe  "
   ]
  },
  {
   "cell_type": "code",
   "execution_count": null,
   "id": "ff52d9a5-6032-45b0-8434-3e4f2225f717",
   "metadata": {},
   "outputs": [],
   "source": [
    "NOAA_fresh_summerallyears['ch4_anomaly'] = NOAA_fresh_summerallyears.ch4.values - ch4background_val\n",
    "NOAA_fresh_summerallyears['c3h8_anomaly'] = NOAA_fresh_summerallyears.c3h8.values - c3background_val\n",
    "NOAA_fresh_summerallyears['c2h6_anomaly'] = NOAA_fresh_summerallyears.c2h6.values - c2background_val"
   ]
  },
  {
   "cell_type": "code",
   "execution_count": null,
   "id": "08932315-c1ea-4357-8e0c-f42c47c2d150",
   "metadata": {},
   "outputs": [],
   "source": [
    "@numba.njit\n",
    "def draw_bs_sample(data):\n",
    "    \"\"\"Draw a bootstrap sample from a 1D data set.\"\"\"\n",
    "    return np.random.choice(data, size=len(data))\n",
    "\n",
    "\n",
    "@numba.njit\n",
    "def draw_bs_pairs(x, y):\n",
    "    \"\"\"Draw a pairs bootstrap sample.\"\"\"\n",
    "    inds = np.arange(len(x))\n",
    "    bs_inds = draw_bs_sample(inds)\n",
    "\n",
    "    return x[bs_inds], y[bs_inds]"
   ]
  },
  {
   "cell_type": "code",
   "execution_count": null,
   "id": "d14c68c6-dfe1-40fa-a0cb-4bed5f2e29ae",
   "metadata": {},
   "outputs": [],
   "source": [
    "def draw_bs_pairs_reps_slope(x, y, size=1):\n",
    "    \"\"\"\n",
    "    Draw bootstrap pairs replicates.\n",
    "    \"\"\"\n",
    "    slopereps = np.empty(size)\n",
    "    interceptreps = np.empty(size)\n",
    "    for i in range(size):\n",
    "        slope, intercept, r_value, p_value, std_err = st.linregress(*draw_bs_pairs(x, y))\n",
    "        slopereps[i] = slope\n",
    "        \n",
    "    return slopereps"
   ]
  },
  {
   "cell_type": "code",
   "execution_count": null,
   "id": "68b5f6d0-470d-4e4c-b2d3-afaba5311150",
   "metadata": {},
   "outputs": [],
   "source": [
    "def draw_bs_threes(x, y, z):\n",
    "    inds = np.arange(len(x))\n",
    "    bs_inds = draw_bs_sample(inds)\n",
    "    \n",
    "    return x[bs_inds], y[bs_inds], z[bs_inds]"
   ]
  },
  {
   "cell_type": "code",
   "execution_count": null,
   "id": "489d8aa4-d333-4559-b015-7e9c83472905",
   "metadata": {},
   "outputs": [],
   "source": [
    "def draw_bs_threes_reps(x, y, z, size=1):\n",
    "    stdreps_x = np.empty(size)\n",
    "    stdreps_y = np.empty(size)\n",
    "    stdreps_z = np.empty(size)\n",
    "    \n",
    "    for i in range(size):\n",
    "        xs, ys, zs = draw_bs_threes(x,y,z)\n",
    "        stdreps_x[i] = np.std(xs)\n",
    "        stdreps_y[i] = np.std(ys)\n",
    "        stdreps_z[i] = np.std(zs)\n",
    "    \n",
    "    return stdreps_x, stdreps_y, stdreps_z"
   ]
  },
  {
   "cell_type": "markdown",
   "id": "475e71d1-919f-4d3d-a224-dbc7540acb65",
   "metadata": {},
   "source": [
    "Get the CI for the correlation for use in the emissions file."
   ]
  },
  {
   "cell_type": "code",
   "execution_count": null,
   "id": "da68135d-ca18-42c4-8ed5-feb891bf9d73",
   "metadata": {},
   "outputs": [],
   "source": [
    "# Get reps\n",
    "bs_reps_C3C1 = draw_bs_pairs_reps_slope(NOAA_fresh_summerallyears['ch4_anomaly'].values,\n",
    "                                        NOAA_fresh_summerallyears['c3h8_anomaly'].values*1e-3, size=10000)\n",
    "bs_reps_C2C1 = draw_bs_pairs_reps_slope(NOAA_fresh_summerallyears['ch4_anomaly'].values,\n",
    "                                        NOAA_fresh_summerallyears['c2h6_anomaly'].values*1e-3, size=10000)\n",
    "print((np.percentile(bs_reps_C3C1, [2.5, 97.5])),'c3/c1 ppb/ppb pctile')\n",
    "print((np.percentile(bs_reps_C2C1, [2.5, 97.5])),'c2/c1 ppb/ppb pctile')"
   ]
  },
  {
   "cell_type": "markdown",
   "id": "e67192cb-9756-406e-9e7c-539fe2cf2b48",
   "metadata": {},
   "source": [
    "Instead of this, I am going to use the 2017 average C3/C1 and C/C1 from the oklahoma site from my 2022 paper, since those included a lot more data (not just a few summer points) and the background was constructed using all points below 1000 ppt instead of choosing just a single one. SO NOT using the CI above for the emissions."
   ]
  },
  {
   "cell_type": "markdown",
   "id": "3242e4ac-968f-47f2-9c51-a9a2165115f9",
   "metadata": {},
   "source": [
    "HOWEVER, do need to get the geophysical error for the points that you are using in the inversion. "
   ]
  },
  {
   "cell_type": "code",
   "execution_count": null,
   "id": "4641e0f1-5be1-4b4c-91a1-78b4a65787ef",
   "metadata": {},
   "outputs": [],
   "source": [
    "bs_repsC3, bs_repsC2, bs_repsC1 = draw_bs_threes_reps(NOAA_fresh_summerallyears['c3h8_anomaly'].values*1e-3,\n",
    "                                                     NOAA_fresh_summerallyears['c2h6_anomaly'].values*1e-3,\n",
    "                                                     NOAA_fresh_summerallyears['ch4_anomaly'].values, size=10000)"
   ]
  },
  {
   "cell_type": "code",
   "execution_count": null,
   "id": "267b93c1-59d5-42d4-993d-95a50402f59b",
   "metadata": {},
   "outputs": [],
   "source": [
    "print('anomaly average standard deviation from pairs bootstrapping, units of ppb')\n",
    "print(np.mean(bs_repsC3))\n",
    "print(np.mean(bs_repsC2))\n",
    "print(np.mean(bs_repsC1))"
   ]
  },
  {
   "cell_type": "markdown",
   "id": "8514451a-0b5b-4ab7-b31f-d7b5e9533750",
   "metadata": {},
   "source": [
    "### Save out data needed for stilt "
   ]
  },
  {
   "cell_type": "code",
   "execution_count": null,
   "id": "d588c8a8-a047-42d1-941c-0dd52a60480d",
   "metadata": {},
   "outputs": [],
   "source": [
    "NOAA_fresh_summerallyears.columns"
   ]
  },
  {
   "cell_type": "code",
   "execution_count": null,
   "id": "7ad4c55b-094e-43dc-a619-865fe81184f0",
   "metadata": {},
   "outputs": [],
   "source": [
    "noaaforstilt = NOAA_fresh_summerallyears[['lat','lon','dt_time','intake_height']]"
   ]
  },
  {
   "cell_type": "code",
   "execution_count": null,
   "id": "a1219e18-735f-4c9a-8bc3-8106f2a28d2a",
   "metadata": {},
   "outputs": [],
   "source": [
    "noaaforstilt.to_csv('/Users/arianatribby/git/oklahoma_propane/data/windrose/noaa_summer2017to2020summer_forstilt.csv')"
   ]
  },
  {
   "cell_type": "markdown",
   "id": "f2cae8e8-2454-4d02-8453-ddb239f33971",
   "metadata": {},
   "source": [
    "Saving out the anomaly values in units of ppb "
   ]
  },
  {
   "cell_type": "code",
   "execution_count": null,
   "id": "fbce9225-879e-4839-813f-4e9a00c7e988",
   "metadata": {},
   "outputs": [],
   "source": [
    "noaa_anomalystilt = NOAA_fresh_summerallyears[['lat','lon','dt_time','intake_height','c3h8_anomaly','c2h6_anomaly','ch4_anomaly']]\n",
    "noaa_anomalystilt['c3h8_anomaly'] = NOAA_fresh_summerallyears['c3h8_anomaly']*1e-3\n",
    "noaa_anomalystilt['c2h6_anomaly'] = NOAA_fresh_summerallyears['c2h6_anomaly']*1e-3\n"
   ]
  },
  {
   "cell_type": "code",
   "execution_count": null,
   "id": "4e9abb7a-6328-459c-9103-3abc0967f637",
   "metadata": {},
   "outputs": [],
   "source": [
    "noaa_anomalystilt.to_csv('/Users/arianatribby/git/oklahoma_propane/data/windrose/noaa_summer2017to2020summer_forstilt_withflasks.csv')"
   ]
  },
  {
   "cell_type": "markdown",
   "id": "fd1ce0a6-1eba-4403-ba01-d5a88d07ce15",
   "metadata": {},
   "source": [
    "### Compare this windspeed and direction with meterology data used for STILT\n",
    "Compare 3 days before (and all in between too) \n",
    "Ask if you can use Josh code to grab the HERR and ERA5 and GFS to compare them. Can use this to decide the met fields, and also to get the uncertainty in wind which will help inform the inversion uncertainty. "
   ]
  },
  {
   "cell_type": "code",
   "execution_count": null,
   "id": "42e3cf74-765c-4e22-86e8-4d3c3494e297",
   "metadata": {},
   "outputs": [],
   "source": []
  }
 ],
 "metadata": {
  "kernelspec": {
   "display_name": "oklahoma_propane_env",
   "language": "python",
   "name": "oklahoma_propane_env"
  },
  "language_info": {
   "codemirror_mode": {
    "name": "ipython",
    "version": 3
   },
   "file_extension": ".py",
   "mimetype": "text/x-python",
   "name": "python",
   "nbconvert_exporter": "python",
   "pygments_lexer": "ipython3",
   "version": "3.8.11"
  }
 },
 "nbformat": 4,
 "nbformat_minor": 5
}
