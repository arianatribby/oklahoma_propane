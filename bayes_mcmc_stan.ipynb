{
 "cells": [
  {
   "cell_type": "code",
   "execution_count": null,
   "id": "79c0c886-6b74-4ac6-ae5d-3b5597f49235",
   "metadata": {},
   "outputs": [],
   "source": [
    "import sys\n",
    "import glob\n",
    "import os\n",
    "import pandas as pd\n",
    "import numpy as np\n",
    "import scipy.stats as st\n",
    "import xarray as xr\n",
    "import cartopy.crs as ccrs\n",
    "import cartopy\n",
    "\n",
    "import io\n",
    "import cmdstanpy\n",
    "import arviz as az\n",
    "from IPython.display import Image\n",
    "\n",
    "import bokeh\n",
    "from bokeh.plotting import figure, output_file, show\n",
    "from bokeh.layouts import gridplot, row, column\n",
    "import bokeh.io\n",
    "import bokeh.plotting\n",
    "from bokeh import palettes\n",
    "from bokeh.models import Legend\n",
    "from scipy import odr\n",
    "import matplotlib.pyplot as plt\n",
    "from matplotlib import colors\n",
    "\n",
    "\n",
    "from bokeh.palettes import Spectral6\n",
    "from bokeh.models import ColorBar, ColumnDataSource\n",
    "from bokeh.transform import linear_cmap\n",
    "\n",
    "from IPython.display import Image\n",
    "from datetime import datetime, timedelta\n",
    "\n",
    "bokeh.io.output_notebook()\n",
    "import holoviews as hv\n",
    "import bebi103\n",
    "hv.extension('bokeh')"
   ]
  },
  {
   "cell_type": "code",
   "execution_count": null,
   "id": "79c4cd32-1acb-433d-b8ed-519666075b07",
   "metadata": {},
   "outputs": [],
   "source": [
    "noaa = pd.read_csv('/Users/arianatribby/git/oklahoma_propane/data/windrose/noaa_summer2017to2020summer_forstilt_withflasks.csv')"
   ]
  },
  {
   "cell_type": "code",
   "execution_count": null,
   "id": "bde3e68f-e769-4c79-ba5b-7adbded81dd8",
   "metadata": {},
   "outputs": [],
   "source": [
    "emissions_1degby1deg = xr.open_dataset('/Users/arianatribby/git/oklahoma_propane/data/processing/wellhead_emiss_for_footprint.nc4')"
   ]
  },
  {
   "cell_type": "markdown",
   "id": "1713c35e-2d02-4c19-b3d5-82b18129bece",
   "metadata": {},
   "source": [
    "Load the footprints. There is an issue with stilt modeling and it is skipping some days. So get rid of those days for now. "
   ]
  },
  {
   "cell_type": "code",
   "execution_count": null,
   "id": "56be575b-a502-4834-9d23-0a060b99b934",
   "metadata": {},
   "outputs": [],
   "source": [
    "# footprints_alldays1 = xr.open_mfdataset('/Users/arianatribby/git/oklahoma_propane/data/stilt_hpc_downloads/noaa_flasknair2017_2020/201706081920_-97.489_36.607_60_foot.nc')\n",
    "\n",
    "# footprints_alldays2 = xr.open_mfdataset('/Users/arianatribby/git/oklahoma_propane/data/stilt_hpc_downloads/noaa_flasknair2017_2020/201706151921_-97.489_36.607_60_foot.nc')\n",
    "\n",
    "# xr.concat([footprints_alldays1,footprints_alldays2],dim='time')"
   ]
  },
  {
   "cell_type": "markdown",
   "id": "6c3a283f-b732-4359-a5f2-fd6d69c2d6f0",
   "metadata": {},
   "source": [
    "I have to use concat to open all of the datasets instead of open_mfdataset because that function (at least for this newer version of xarray that is on this env) uses both xr.merge and xr.concat. The merge function does not allow nonmonotonic sequences (which is your case for the time). But the concat just pastes on the end of the variable so that will work. It also keeps the lon,lat dimensions. "
   ]
  },
  {
   "cell_type": "code",
   "execution_count": null,
   "id": "67d6d065-d532-478a-835d-6d782f8ff88a",
   "metadata": {},
   "outputs": [],
   "source": [
    "footprints_alldays = xr.concat([xr.open_dataset(f) for f in glob.glob('/Users/arianatribby/git/oklahoma_propane/data/stilt_hpc_downloads/noaa_flasknair2017_2020/*.nc')], dim='time')\n"
   ]
  },
  {
   "cell_type": "code",
   "execution_count": null,
   "id": "abfdcd72-8f62-4ac9-b3f0-58915e3bfc4f",
   "metadata": {},
   "outputs": [],
   "source": [
    "indlist = list(range(0,31)) + list(range(38,72)) + list(range(74,139))"
   ]
  },
  {
   "cell_type": "code",
   "execution_count": null,
   "id": "066368bb-fb45-4cee-8236-95a192ceaf15",
   "metadata": {},
   "outputs": [],
   "source": [
    "noaa_subset = noaa.iloc[indlist]\n",
    "subset_footprints = footprints_alldays.isel(time=indlist)"
   ]
  },
  {
   "cell_type": "code",
   "execution_count": null,
   "id": "821cbe7c-fedc-488f-89a4-7951a8ba8261",
   "metadata": {},
   "outputs": [],
   "source": [
    "def timeforsel(timestr, hours2subtract, timestr_format):\n",
    "    dt = datetime.strptime(timestr, timestr_format)\n",
    "    newtime = dt - timedelta(hours=hours2subtract)\n",
    "    return np.datetime64(str(newtime))"
   ]
  },
  {
   "cell_type": "code",
   "execution_count": null,
   "id": "be0fb503-3d8e-45ed-b7ce-3c3700f71e52",
   "metadata": {},
   "outputs": [],
   "source": [
    "twelvehour = [timeforsel(x, 12, '%Y-%m-%d %H:%M:%S') for x in noaa_subset.dt_time]\n",
    "eighteenhour = [timeforsel(x, 18, '%Y-%m-%d %H:%M:%S') for x in noaa_subset.dt_time]\n",
    "twentyfourhour = [timeforsel(x, 24, '%Y-%m-%d %H:%M:%S') for x in noaa_subset.dt_time]\n",
    "thirtynhour = [timeforsel(x, 30, '%Y-%m-%d %H:%M:%S') for x in noaa_subset.dt_time]\n",
    "thirtysixhour = [timeforsel(x, 36, '%Y-%m-%d %H:%M:%S') for x in noaa_subset.dt_time]\n",
    "fortytwohour = [timeforsel(x, 42, '%Y-%m-%d %H:%M:%S') for x in noaa_subset.dt_time]\n",
    "fortyeighthour = [timeforsel(x, 48, '%Y-%m-%d %H:%M:%S') for x in noaa_subset.dt_time]\n",
    "fiftyfourhour = [timeforsel(x, 54, '%Y-%m-%d %H:%M:%S') for x in noaa_subset.dt_time]\n",
    "sixtyhour = [timeforsel(x, 60, '%Y-%m-%d %H:%M:%S') for x in noaa_subset.dt_time]\n",
    "sixtysixhour = [timeforsel(x, 66, '%Y-%m-%d %H:%M:%S') for x in noaa_subset.dt_time]\n",
    "seventytwohour = [timeforsel(x, 72, '%Y-%m-%d %H:%M:%S') for x in noaa_subset.dt_time]"
   ]
  },
  {
   "cell_type": "code",
   "execution_count": null,
   "id": "886dc58c-5579-472e-94a7-328ea56068b4",
   "metadata": {},
   "outputs": [],
   "source": [
    "f, ax = plt.subplots(subplot_kw=dict(projection=ccrs.PlateCarree()))\n",
    "f.set_figwidth(7)\n",
    "f.set_figheight(7)\n",
    "plotdf = footprints_alldays.sel(time=twelvehour).sum(dim='time')\n",
    "mask = plotdf.foot.values == 0.\n",
    "# plotdf['signal4log'] = xr.where(mask, np.nan, plotdf.foot.values)\n",
    "signal4log = xr.where(mask, np.nan, plotdf.foot.values)\n",
    "\n",
    "\n",
    "# p = ax.pcolormesh(plotdf.lon, plotdf.lat, plotdf.signal4log, \n",
    "#                   norm=colors.LogNorm(vmin=plotdf.signal4log.min(), vmax=plotdf.signal4log.max()))\n",
    "\n",
    "\n",
    "p = ax.pcolormesh(plotdf.lon, plotdf.lat, signal4log, \n",
    "                  norm=colors.LogNorm(vmin=np.nanmin(signal4log), vmax=np.nanmax(signal4log)))\n",
    "\n",
    "plt.title('NOAA flask all summer days time - 12 hours')\n",
    "plt.colorbar(p)\n",
    "ax.add_feature(cartopy.feature.STATES)\n",
    "plt.show()"
   ]
  },
  {
   "cell_type": "code",
   "execution_count": null,
   "id": "6d275dd4-221b-4feb-acda-e8469e1a5379",
   "metadata": {},
   "outputs": [],
   "source": [
    "f, ax = plt.subplots(subplot_kw=dict(projection=ccrs.PlateCarree()))\n",
    "f.set_figwidth(7)\n",
    "f.set_figheight(7)\n",
    "plotdf = footprints_alldays.sum(dim='time')\n",
    "mask = plotdf.foot.values == 0.\n",
    "# plotdf['signal4log'] = xr.where(mask, np.nan, plotdf.foot.values)\n",
    "signal4log = xr.where(mask, np.nan, plotdf.foot.values)\n",
    "\n",
    "\n",
    "# p = ax.pcolormesh(plotdf.lon, plotdf.lat, plotdf.signal4log, \n",
    "#                   norm=colors.LogNorm(vmin=plotdf.signal4log.min(), vmax=plotdf.signal4log.max()))\n",
    "\n",
    "\n",
    "p = ax.pcolormesh(plotdf.lon, plotdf.lat, signal4log, \n",
    "                  norm=colors.LogNorm(vmin=np.nanmin(signal4log), vmax=np.nanmax(signal4log)))\n",
    "\n",
    "plt.title('NOAA flask all summer days time : 1-72 hours')\n",
    "plt.colorbar(p)\n",
    "ax.add_feature(cartopy.feature.STATES)\n",
    "plt.show()"
   ]
  },
  {
   "cell_type": "markdown",
   "id": "ac615b5f-34e8-4aa8-a827-3bba03aca99c",
   "metadata": {},
   "source": [
    "# Prior Visualization\n",
    "\n",
    "Zhang et al (where we derived the emissions from) is based on tropomi observations from may 2018 to march 2019. So i am assuming the emissions are pretty accurate (so the scaling factor will be centered at 1). "
   ]
  },
  {
   "cell_type": "code",
   "execution_count": null,
   "id": "110b9324-da68-4df0-9c5d-912c53cdc445",
   "metadata": {},
   "outputs": [],
   "source": [
    "fh = 300\n",
    "fw = 300\n",
    "p = bokeh.plotting.figure(frame_height=fh, frame_width=fw, title='')\n",
    "p.line(np.linspace(0, 2), st.norm.pdf(np.linspace(0,2), 1, .3), line_width=2, color='black')\n",
    "p.xaxis.axis_label = \"x (scaling factor, unitless)\"\n",
    "p.yaxis.axis_label = \"PDF\"\n",
    "p.xaxis.axis_label_text_font_size = \"16pt\"\n",
    "p.yaxis.axis_label_text_font_size = \"16pt\"\n",
    "p.xaxis.major_label_text_font_size = \"15pt\"\n",
    "p.yaxis.major_label_text_font_size = \"15pt\"\n",
    "p.xaxis.major_tick_line_width = 3\n",
    "p.yaxis.major_tick_line_width = 3\n",
    "p.axis.axis_label_text_font_style = 'bold'\n",
    "bokeh.io.show(p)"
   ]
  },
  {
   "cell_type": "markdown",
   "id": "4f99ab62-c381-487d-9909-cdbd5d3a3294",
   "metadata": {},
   "source": [
    "The uncertainty in mole fraction is estimated to be 50%. This parameter is the tccon/flask observation uncertainty + stilt ppb uncertainty (that is dependent on the meteorology uncertainty due to winds). Right now we are estimating a 50% error. "
   ]
  },
  {
   "cell_type": "code",
   "execution_count": null,
   "id": "ef4132fc-672e-4707-8570-bf3675e80bf9",
   "metadata": {},
   "outputs": [],
   "source": [
    "max(noaa.ch4_anomaly)"
   ]
  },
  {
   "cell_type": "code",
   "execution_count": null,
   "id": "a5e1a17e-658a-4dcb-b67a-7daf413ed63a",
   "metadata": {},
   "outputs": [],
   "source": [
    "# 10**9 is the conversion factor for ppb but since this is the anomaly, decrease by a factor of 10\n",
    "fluxperkg_toC3ppb = (44.097*(10**8))/1000\n",
    "fluxperkg_toC2ppb = (30.07*(10**8))/1000\n",
    "fluxperkg_toC1ppb = (16.04*(10**8))/1000"
   ]
  },
  {
   "cell_type": "code",
   "execution_count": null,
   "id": "4e312f60-772e-458e-a75a-8a4303312c72",
   "metadata": {},
   "outputs": [],
   "source": [
    "footprints_alldays.sum(dim='time')"
   ]
  },
  {
   "cell_type": "code",
   "execution_count": null,
   "id": "3d14ed70-eb29-42a2-9818-382b1f0dc9f8",
   "metadata": {},
   "outputs": [],
   "source": [
    "emissions_1degby1deg['ch4_kgs']"
   ]
  },
  {
   "cell_type": "code",
   "execution_count": null,
   "id": "2539a184-73d7-44aa-8606-2a77c319d935",
   "metadata": {},
   "outputs": [],
   "source": [
    "footprints_alldays.sum(dim='time')*emissions_1degby1deg['ch4_kgs']"
   ]
  },
  {
   "cell_type": "code",
   "execution_count": null,
   "id": "199ac507-e95f-490a-9de4-de0e11356e61",
   "metadata": {},
   "outputs": [],
   "source": [
    "f, ax = plt.subplots(subplot_kw=dict(projection=ccrs.PlateCarree()))\n",
    "f.set_figwidth(7)\n",
    "f.set_figheight(7)\n",
    "plotdf = footprints_alldays.sum(dim='time')*emissions_1degby1deg['ch4_kgs']*fluxperkg_toC1ppb\n",
    "mask = plotdf.foot.values == 0.\n",
    "# plotdf['signal4log'] = xr.where(mask, np.nan, plotdf.foot.values)\n",
    "signal4log = xr.where(mask, np.nan, plotdf.foot.values)\n",
    "\n",
    "\n",
    "# p = ax.pcolormesh(plotdf.lon, plotdf.lat, plotdf.signal4log, \n",
    "#                   norm=colors.LogNorm(vmin=plotdf.signal4log.min(), vmax=plotdf.signal4log.max()))\n",
    "\n",
    "\n",
    "p = ax.pcolormesh(plotdf.lon, plotdf.lat, signal4log, \n",
    "                  norm=colors.LogNorm(vmin=np.nanmin(signal4log), vmax=np.nanmax(signal4log)))\n",
    "\n",
    "plt.title('NOAA flask all summer days time : 1-72 hours')\n",
    "plt.colorbar(p)\n",
    "ax.add_feature(cartopy.feature.STATES)\n",
    "plt.show()"
   ]
  },
  {
   "cell_type": "code",
   "execution_count": null,
   "id": "48add71b-d0d9-4162-9e39-5c3fbf76c1f0",
   "metadata": {},
   "outputs": [],
   "source": [
    "the_fifty_percent_error_est = emissions_1degby1deg['ch4_kgs']"
   ]
  },
  {
   "cell_type": "code",
   "execution_count": null,
   "id": "8c36709b-b106-435d-85ca-6eb4468b8913",
   "metadata": {},
   "outputs": [],
   "source": [
    "fh = 300\n",
    "fw = 300\n",
    "p = bokeh.plotting.figure(frame_height=fh, frame_width=fw, title='')\n",
    "p.line(plane_df.tropht.values, plane_df['sigma_likelihood'].values, size=4, color='black')\n",
    "p.xaxis.axis_label = \"σ (Variability in ppb)\"\n",
    "p.yaxis.axis_label = \"PDF\"\n",
    "p.xaxis.axis_label_text_font_size = \"16pt\"\n",
    "p.yaxis.axis_label_text_font_size = \"16pt\"\n",
    "p.xaxis.major_label_text_font_size = \"15pt\"\n",
    "p.yaxis.major_label_text_font_size = \"15pt\"\n",
    "p.xaxis.major_tick_line_width = 3\n",
    "p.yaxis.major_tick_line_width = 3\n",
    "p.axis.axis_label_text_font_style = 'bold'\n",
    "bokeh.io.show(p)"
   ]
  },
  {
   "cell_type": "markdown",
   "id": "167becfe-38ed-44a5-a27e-579667df1c27",
   "metadata": {},
   "source": [
    "# Model with summing all .1x.1 as a single grid cell\n",
    "## Over entire 3 days \n",
    "Multiplying the emissions (units of kg/s) by the time that we are doing inversion over"
   ]
  },
  {
   "cell_type": "code",
   "execution_count": null,
   "id": "c14d29be-08b7-43a0-bb31-371e044b1be6",
   "metadata": {},
   "outputs": [],
   "source": [
    "hour_totalsecs = 60*60\n",
    "ch4_E_kgs = emissions_1degby1deg['ch4_kgs'].sum().values*72*hour_totalsecs\n",
    "ch4_E_kgs_unc = emissions_1degby1deg['ch4_kgs_unc'].sum().values*72*hour_totalsecs\n",
    "\n",
    "c3h8_E_kgs = emissions_1degby1deg['c3h8_kgs'].sum().values*72*hour_totalsecs\n",
    "c3h8_E_kgs_unc = emissions_1degby1deg['c3h8_kgs_unc'].sum().values*72*hour_totalsecs\n",
    "\n",
    "c2h6_E_kgs = emissions_1degby1deg['c2h6_kgs'].sum().values*72*hour_totalsecs\n",
    "c2h6_E_kgs_unc = emissions_1degby1deg['c2h6_kgs_unc'].sum().values*72*hour_totalsecs"
   ]
  },
  {
   "cell_type": "code",
   "execution_count": null,
   "id": "b52222e4-8f79-4afe-803a-402dcc0e702e",
   "metadata": {},
   "outputs": [],
   "source": []
  }
 ],
 "metadata": {
  "kernelspec": {
   "display_name": "oklahoma_propane_env",
   "language": "python",
   "name": "oklahoma_propane_env"
  },
  "language_info": {
   "codemirror_mode": {
    "name": "ipython",
    "version": 3
   },
   "file_extension": ".py",
   "mimetype": "text/x-python",
   "name": "python",
   "nbconvert_exporter": "python",
   "pygments_lexer": "ipython3",
   "version": "3.8.11"
  }
 },
 "nbformat": 4,
 "nbformat_minor": 5
}
