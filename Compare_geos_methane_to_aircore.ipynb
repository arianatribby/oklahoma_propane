{
 "cells": [
  {
   "cell_type": "markdown",
   "metadata": {},
   "source": [
    "I only did spin-up for 1 year for methane, and I want to make sure that methane looks like aircore - what i might expect or if it really messed it up. \n",
    "\n",
    "First, going to check a single file called the following on ccycle:  \n",
    "\n",
    "```\n",
    "/oco2-data/tccon/analysis/jlaugh/Notebooks/TCCON/GGG2020-AICF/Data/aircores/v20201223/level2/Flight_20161018/launch1/AirCoreGMD007_201610181722_v20200103.txt\n",
    "```\n",
    "\n",
    "That you downloaded onto local and extracted relevant variables and converted to csv on 2/16/22. \n",
    "\n",
    "I uploaded that csv file to s3 and is stored in the same location on s3 as this notebook, ie do this \n",
    "\n",
    "```\n",
    "aws s3 cp s3://geosfp-fullchem-20160601-20160605/AirCoreGMD007_201610181722_v20200103.txt . \n",
    "aws s3 cp s3://geosfp-fullchem-20160601-20160605/OutputDir/GEOSChem.SpeciesConc.20160601_0000z.nc4 .\n",
    "```"
   ]
  },
  {
   "cell_type": "code",
   "execution_count": 29,
   "metadata": {},
   "outputs": [],
   "source": [
    "import sys\n",
    "import csv\n",
    "import pandas as pd\n",
    "import numpy as np\n",
    "import pytz\n",
    "import glob\n",
    "import datetime\n",
    "import matplotlib.pyplot as plt\n",
    "import cartopy.crs as ccrs\n",
    "import cartopy.feature as cfeature\n",
    "import xarray as xr"
   ]
  },
  {
   "cell_type": "markdown",
   "metadata": {},
   "source": [
    "FIRST, test how off the time is when you read it directly from UTC \n"
   ]
  },
  {
   "cell_type": "code",
   "execution_count": 17,
   "metadata": {},
   "outputs": [],
   "source": [
    "test = pd.read_csv('AC_GMD010_201807251658_R0.ict.csv')"
   ]
  },
  {
   "cell_type": "code",
   "execution_count": null,
   "metadata": {},
   "outputs": [],
   "source": [
    "test.head()"
   ]
  },
  {
   "cell_type": "code",
   "execution_count": null,
   "metadata": {},
   "outputs": [],
   "source": [
    "datetime.datetime.utcfromtimestamp(test['Mid_UTC'].values[0])"
   ]
  },
  {
   "cell_type": "markdown",
   "metadata": {},
   "source": [
    "Yup, ver off. Need to use start time from the file. "
   ]
  },
  {
   "cell_type": "code",
   "execution_count": 18,
   "metadata": {},
   "outputs": [],
   "source": [
    "def converttodf(inputs):\n",
    "    fieldnames = []\n",
    "    for filename in inputs:\n",
    "      with open(filename, \"r\", newline=\"\") as f_in:\n",
    "        reader = csv.reader(f_in)\n",
    "        headers = next(reader)\n",
    "        for h in headers:\n",
    "          if h not in fieldnames:\n",
    "            fieldnames.append(h)\n",
    "\n",
    "\n",
    "    # # # Then copy the data\n",
    "    with open(\"out.csv\", \"w\", newline=\"\") as f_out:   # Comment 2 below\n",
    "      writer = csv.DictWriter(f_out, fieldnames=fieldnames)\n",
    "      writer.writeheader()\n",
    "      for filename in inputs:\n",
    "        with open(filename, \"r\", newline=\"\") as f_in:\n",
    "          reader = csv.DictReader(f_in)  # Uses the field names in this file\n",
    "          for line in reader:\n",
    "            writer.writerow(line)\n",
    "\n",
    "    df = pd.read_csv(\"out.csv\")\n",
    "\n",
    "    # insert NaN for -9999 values (be careful of lon values that are negative) \n",
    "    df.loc[:,:] < -99998 \n",
    "    df_raw = df.where(~(df.loc[:,:] < -99998), other= np.NaN)\n",
    "    \n",
    "    complete_time_all_campaigns = []\n",
    "    # insert completetime ..........................................\n",
    "    for i,x in enumerate(inputs):\n",
    "        \n",
    "#         dateyr = x.split('AC_GMD007_')[1].rsplit('_')[0][0:4]\n",
    "#         datemn = x.split('AC_GMD007_')[1].rsplit('_')[0][4:6]\n",
    "#         datedy = x.split('AC_GMD007_')[1].rsplit('_')[0][6:8]\n",
    "        dateyr = x.rsplit(\"_\",2)[1].rsplit('_')[0][0:4]\n",
    "        datemn = x.rsplit(\"_\",2)[1].rsplit('_')[0][4:6]\n",
    "        datedy = x.rsplit(\"_\",2)[1].rsplit('_')[0][6:8]\n",
    "        \n",
    "\n",
    "        file_df = pd.read_csv(inputs[i])\n",
    "        file_time_list = file_df['Mid_UTC'].tolist()\n",
    "        \n",
    "        \n",
    "        # add completetime\n",
    "        utc = pytz.UTC\n",
    "        file_name_dtdelta = datetime.datetime(int(dateyr), int(datemn), int(datedy), 0, 0, 0)\n",
    "        file_name_dtdelta = utc.localize(file_name_dtdelta)\n",
    "        total_time = [datetime.timedelta(0,x)+file_name_dtdelta for x in file_time_list]\n",
    "        complete_time_all_campaigns.append(total_time)\n",
    "\n",
    "    complete_time_all_campaigns = np.concatenate(complete_time_all_campaigns).ravel()\n",
    "    df_raw['completetime'] = complete_time_all_campaigns\n",
    "    \n",
    "    return df_raw"
   ]
  },
  {
   "cell_type": "code",
   "execution_count": 20,
   "metadata": {},
   "outputs": [
    {
     "name": "stdout",
     "output_type": "stream",
     "text": [
      "/home/ubuntu/AC_GMD010_201807251658_R0.ict.csv\n",
      "['/home/ubuntu/AC_GMD010_201807251658_R0.ict.csv']\n"
     ]
    }
   ],
   "source": [
    "path = \"/home/ubuntu/AC_GMD010_201807251658_R0.ict.csv\"\n",
    "inputs = sorted(glob.glob(path))\n",
    "print(path)\n",
    "print(inputs)"
   ]
  },
  {
   "cell_type": "code",
   "execution_count": 21,
   "metadata": {},
   "outputs": [],
   "source": [
    "aircore_df = converttodf(inputs)"
   ]
  },
  {
   "cell_type": "code",
   "execution_count": 23,
   "metadata": {},
   "outputs": [],
   "source": [
    "# https://stackoverflow.com/questions/35337299/python-datetime-to-float-with-millisecond-precision\n",
    "res = [i.timestamp() for i in aircore_df['completetime']]\n",
    "\n",
    "aircore_df['completetime'] = res"
   ]
  },
  {
   "cell_type": "code",
   "execution_count": 24,
   "metadata": {},
   "outputs": [
    {
     "data": {
      "text/html": [
       "<div>\n",
       "<style scoped>\n",
       "    .dataframe tbody tr th:only-of-type {\n",
       "        vertical-align: middle;\n",
       "    }\n",
       "\n",
       "    .dataframe tbody tr th {\n",
       "        vertical-align: top;\n",
       "    }\n",
       "\n",
       "    .dataframe thead th {\n",
       "        text-align: right;\n",
       "    }\n",
       "</style>\n",
       "<table border=\"1\" class=\"dataframe\">\n",
       "  <thead>\n",
       "    <tr style=\"text-align: right;\">\n",
       "      <th></th>\n",
       "      <th>Mid_UTC</th>\n",
       "      <th>LAT</th>\n",
       "      <th>LON</th>\n",
       "      <th>P</th>\n",
       "      <th>GPS_ALT</th>\n",
       "      <th>CH4</th>\n",
       "      <th>CH4_unc</th>\n",
       "      <th>THETA</th>\n",
       "      <th>upper_alt_unc_lim_ch4</th>\n",
       "      <th>lower_alt_unc_lim_ch4</th>\n",
       "      <th>completetime</th>\n",
       "    </tr>\n",
       "  </thead>\n",
       "  <tbody>\n",
       "    <tr>\n",
       "      <th>0</th>\n",
       "      <td>66693.62</td>\n",
       "      <td>36.69109</td>\n",
       "      <td>-97.41193</td>\n",
       "      <td>955.46</td>\n",
       "      <td>591.03</td>\n",
       "      <td>1993.96</td>\n",
       "      <td>1.58</td>\n",
       "      <td>309.79</td>\n",
       "      <td>75.06</td>\n",
       "      <td>76.83</td>\n",
       "      <td>1.532543e+09</td>\n",
       "    </tr>\n",
       "    <tr>\n",
       "      <th>1</th>\n",
       "      <td>66709.63</td>\n",
       "      <td>36.69100</td>\n",
       "      <td>-97.41190</td>\n",
       "      <td>953.46</td>\n",
       "      <td>601.99</td>\n",
       "      <td>1993.53</td>\n",
       "      <td>1.58</td>\n",
       "      <td>309.70</td>\n",
       "      <td>69.91</td>\n",
       "      <td>72.45</td>\n",
       "      <td>1.532544e+09</td>\n",
       "    </tr>\n",
       "    <tr>\n",
       "      <th>2</th>\n",
       "      <td>66723.90</td>\n",
       "      <td>36.69083</td>\n",
       "      <td>-97.41172</td>\n",
       "      <td>951.42</td>\n",
       "      <td>612.40</td>\n",
       "      <td>1993.38</td>\n",
       "      <td>1.58</td>\n",
       "      <td>309.78</td>\n",
       "      <td>98.48</td>\n",
       "      <td>122.53</td>\n",
       "      <td>1.532544e+09</td>\n",
       "    </tr>\n",
       "    <tr>\n",
       "      <th>3</th>\n",
       "      <td>66736.98</td>\n",
       "      <td>36.69067</td>\n",
       "      <td>-97.41178</td>\n",
       "      <td>949.30</td>\n",
       "      <td>624.67</td>\n",
       "      <td>1993.43</td>\n",
       "      <td>1.58</td>\n",
       "      <td>310.01</td>\n",
       "      <td>60.10</td>\n",
       "      <td>88.55</td>\n",
       "      <td>1.532544e+09</td>\n",
       "    </tr>\n",
       "    <tr>\n",
       "      <th>4</th>\n",
       "      <td>66749.56</td>\n",
       "      <td>36.69051</td>\n",
       "      <td>-97.41159</td>\n",
       "      <td>947.17</td>\n",
       "      <td>640.39</td>\n",
       "      <td>1993.42</td>\n",
       "      <td>1.58</td>\n",
       "      <td>309.99</td>\n",
       "      <td>119.27</td>\n",
       "      <td>110.15</td>\n",
       "      <td>1.532544e+09</td>\n",
       "    </tr>\n",
       "  </tbody>\n",
       "</table>\n",
       "</div>"
      ],
      "text/plain": [
       "    Mid_UTC       LAT       LON       P  GPS_ALT      CH4  CH4_unc   THETA  \\\n",
       "0  66693.62  36.69109 -97.41193  955.46   591.03  1993.96     1.58  309.79   \n",
       "1  66709.63  36.69100 -97.41190  953.46   601.99  1993.53     1.58  309.70   \n",
       "2  66723.90  36.69083 -97.41172  951.42   612.40  1993.38     1.58  309.78   \n",
       "3  66736.98  36.69067 -97.41178  949.30   624.67  1993.43     1.58  310.01   \n",
       "4  66749.56  36.69051 -97.41159  947.17   640.39  1993.42     1.58  309.99   \n",
       "\n",
       "   upper_alt_unc_lim_ch4  lower_alt_unc_lim_ch4  completetime  \n",
       "0                  75.06                  76.83  1.532543e+09  \n",
       "1                  69.91                  72.45  1.532544e+09  \n",
       "2                  98.48                 122.53  1.532544e+09  \n",
       "3                  60.10                  88.55  1.532544e+09  \n",
       "4                 119.27                 110.15  1.532544e+09  "
      ]
     },
     "execution_count": 24,
     "metadata": {},
     "output_type": "execute_result"
    }
   ],
   "source": [
    "aircore_df.head()"
   ]
  },
  {
   "cell_type": "code",
   "execution_count": 26,
   "metadata": {},
   "outputs": [
    {
     "data": {
      "text/plain": [
       "datetime.datetime(2018, 7, 25, 18, 31, 33, 620000)"
      ]
     },
     "execution_count": 26,
     "metadata": {},
     "output_type": "execute_result"
    }
   ],
   "source": [
    "# datetime(year, month, day[, hour[, minute[, second[, microsecond[,tzinfo]]]]])\n",
    "datetime.datetime.utcfromtimestamp(aircore_df['completetime'].values[0])"
   ]
  },
  {
   "cell_type": "markdown",
   "metadata": {},
   "source": [
    "Double check the location"
   ]
  },
  {
   "cell_type": "code",
   "execution_count": 28,
   "metadata": {},
   "outputs": [
    {
     "name": "stderr",
     "output_type": "stream",
     "text": [
      "/home/ubuntu/miniconda/envs/geo/lib/python3.6/site-packages/cartopy/io/__init__.py:260: DownloadWarning: Downloading: http://naciscdn.org/naturalearth/110m/physical/ne_110m_land.zip\n",
      "  warnings.warn('Downloading: {}'.format(url), DownloadWarning)\n",
      "/home/ubuntu/miniconda/envs/geo/lib/python3.6/site-packages/cartopy/io/__init__.py:260: DownloadWarning: Downloading: http://naciscdn.org/naturalearth/50m/cultural/ne_50m_admin_1_states_provinces_lines.zip\n",
      "  warnings.warn('Downloading: {}'.format(url), DownloadWarning)\n"
     ]
    },
    {
     "data": {
      "image/png": "[encoded data removed]",
      "text/plain": [
       "<Figure size 432x288 with 1 Axes>"
      ]
     },
     "metadata": {
      "needs_background": "light"
     },
     "output_type": "display_data"
    }
   ],
   "source": [
    "ax = plt.axes(projection=ccrs.PlateCarree())\n",
    "ax.set_extent([-110, -95, 33, 44])\n",
    "\n",
    "# Put a background image on for nice sea rendering.\n",
    "ax.stock_img()\n",
    "plt.plot(aircore_df.LON.values, aircore_df.LAT.values,\n",
    "         color='blue', linewidth=2, marker='o',\n",
    "         transform=ccrs.PlateCarree(),\n",
    "         )\n",
    "\n",
    "\n",
    "# Create a feature for States/Admin 1 regions at 1:50m from Natural Earth\n",
    "states_provinces = cfeature.NaturalEarthFeature(\n",
    "    category='cultural',\n",
    "    name='admin_1_states_provinces_lines',\n",
    "    scale='50m',\n",
    "    facecolor='none')\n",
    "\n",
    "SOURCE = 'Natural Earth'\n",
    "LICENSE = 'public domain'\n",
    "\n",
    "ax.add_feature(cfeature.LAND)\n",
    "ax.add_feature(cfeature.COASTLINE)\n",
    "ax.add_feature(states_provinces, edgecolor='gray')\n",
    "ax.gridlines(crs=ccrs.PlateCarree(), draw_labels=True,linewidth=2, color='gray', alpha=0.5, linestyle='--')\n",
    "\n",
    "plt.text(-97.56, 36.69, 'Lamont',\n",
    "         horizontalalignment='right',\n",
    "         transform=ccrs.Geodetic())\n",
    "plt.show()"
   ]
  },
  {
   "cell_type": "markdown",
   "metadata": {},
   "source": [
    "Now plot geos chem profile vs aircore data. Need to grab the data over lamont in geos chem. This is not interpolated to the profile, just in oklahoma. "
   ]
  },
  {
   "cell_type": "code",
   "execution_count": 31,
   "metadata": {},
   "outputs": [],
   "source": [
    "gcsim = xr.open_dataset('GEOSChem.SpeciesConc.20160601_0000z.nc4')"
   ]
  },
  {
   "cell_type": "code",
   "execution_count": 48,
   "metadata": {},
   "outputs": [],
   "source": [
    "gcsim_methane = gcsim[['SpeciesConc_CH4','Met_PMID']]"
   ]
  },
  {
   "cell_type": "code",
   "execution_count": 49,
   "metadata": {},
   "outputs": [],
   "source": [
    "gcsim_methanedf = gcsim_methane.to_dataframe().reset_index()"
   ]
  },
  {
   "cell_type": "code",
   "execution_count": 60,
   "metadata": {},
   "outputs": [
    {
     "name": "stdout",
     "output_type": "stream",
     "text": [
      "-97.41051\n",
      "-97.60336\n",
      "36.82178\n",
      "36.68271\n"
     ]
    }
   ],
   "source": [
    "print(max(aircore_df.LON.values))\n",
    "print(min(aircore_df.LON.values))\n",
    "print(max(aircore_df.LAT.values))\n",
    "print(min(aircore_df.LAT.values))"
   ]
  },
  {
   "cell_type": "code",
   "execution_count": 63,
   "metadata": {},
   "outputs": [
    {
     "data": {
      "text/plain": [
       "array([-180., -175., -170., -165., -160., -155., -150., -145., -140.,\n",
       "       -135., -130., -125., -120., -115., -110., -105., -100.,  -95.,\n",
       "        -90.,  -85.,  -80.,  -75.,  -70.,  -65.,  -60.,  -55.,  -50.,\n",
       "        -45.,  -40.,  -35.,  -30.,  -25.,  -20.,  -15.,  -10.,   -5.,\n",
       "          0.,    5.,   10.,   15.,   20.,   25.,   30.,   35.,   40.,\n",
       "         45.,   50.,   55.,   60.,   65.,   70.,   75.,   80.,   85.,\n",
       "         90.,   95.,  100.,  105.,  110.,  115.,  120.,  125.,  130.,\n",
       "        135.,  140.,  145.,  150.,  155.,  160.,  165.,  170.,  175.])"
      ]
     },
     "execution_count": 63,
     "metadata": {},
     "output_type": "execute_result"
    }
   ],
   "source": [
    "gcsim_methanedf.lon.unique()"
   ]
  },
  {
   "cell_type": "code",
   "execution_count": 64,
   "metadata": {
    "scrolled": true
   },
   "outputs": [
    {
     "data": {
      "text/plain": [
       "array([-89., -86., -82., -78., -74., -70., -66., -62., -58., -54., -50.,\n",
       "       -46., -42., -38., -34., -30., -26., -22., -18., -14., -10.,  -6.,\n",
       "        -2.,   2.,   6.,  10.,  14.,  18.,  22.,  26.,  30.,  34.,  38.,\n",
       "        42.,  46.,  50.,  54.,  58.,  62.,  66.,  70.,  74.,  78.,  82.,\n",
       "        86.,  89.])"
      ]
     },
     "execution_count": 64,
     "metadata": {},
     "output_type": "execute_result"
    }
   ],
   "source": [
    "gcsim_methanedf.lat.unique()"
   ]
  },
  {
   "cell_type": "code",
   "execution_count": 72,
   "metadata": {},
   "outputs": [],
   "source": [
    "gcsim_nearlamont = gcsim_methanedf.loc[(gcsim_methanedf['lon'] < -90.) & (gcsim_methanedf['lon'] > -100) & \n",
    "                                      (gcsim_methanedf['lat'] < 38) & (gcsim_methanedf['lat'] > 30)]"
   ]
  },
  {
   "cell_type": "code",
   "execution_count": 76,
   "metadata": {},
   "outputs": [
    {
     "data": {
      "image/png": "[encoded data removed]",
      "text/plain": [
       "<Figure size 432x288 with 1 Axes>"
      ]
     },
     "metadata": {
      "needs_background": "light"
     },
     "output_type": "display_data"
    }
   ],
   "source": [
    "ax = plt.axes(projection=ccrs.PlateCarree())\n",
    "ax.set_extent([-115, -88, 28, 44])\n",
    "\n",
    "# Put a background image on for nice sea rendering.\n",
    "ax.stock_img()\n",
    "plt.plot(aircore_df.LON.values, aircore_df.LAT.values,\n",
    "         color='blue', linewidth=2, marker='o',\n",
    "         transform=ccrs.PlateCarree(),\n",
    "         )\n",
    "\n",
    "plt.scatter(gcsim_nearlamont.lon.values[::1000],gcsim_nearlamont.lat.values[::1000],\n",
    "        color='red', marker='o',\n",
    "        transform=ccrs.PlateCarree())\n",
    "# Create a feature for States/Admin 1 regions at 1:50m from Natural Earth\n",
    "states_provinces = cfeature.NaturalEarthFeature(\n",
    "    category='cultural',\n",
    "    name='admin_1_states_provinces_lines',\n",
    "    scale='50m',\n",
    "    facecolor='none')\n",
    "\n",
    "SOURCE = 'Natural Earth'\n",
    "LICENSE = 'public domain'\n",
    "\n",
    "ax.add_feature(cfeature.LAND)\n",
    "ax.add_feature(cfeature.COASTLINE)\n",
    "ax.add_feature(states_provinces, edgecolor='gray')\n",
    "ax.gridlines(crs=ccrs.PlateCarree(), draw_labels=True,linewidth=2, color='gray', alpha=0.5, linestyle='--')\n",
    "\n",
    "plt.text(-97.56, 36.69, 'Lamont',\n",
    "         horizontalalignment='right',\n",
    "         transform=ccrs.Geodetic())\n",
    "plt.show()"
   ]
  },
  {
   "cell_type": "code",
   "execution_count": 78,
   "metadata": {
    "scrolled": true
   },
   "outputs": [
    {
     "data": {
      "text/plain": [
       "[<matplotlib.lines.Line2D at 0x2af18119ab00>]"
      ]
     },
     "execution_count": 78,
     "metadata": {},
     "output_type": "execute_result"
    },
    {
     "data": {
      "image/png": "[encoded data removed]",
      "text/plain": [
       "<Figure size 432x288 with 1 Axes>"
      ]
     },
     "metadata": {
      "needs_background": "light"
     },
     "output_type": "display_data"
    }
   ],
   "source": [
    "plt.plot(gcsim_nearlamont.Met_PMID.values, gcsim_nearlamont.SpeciesConc_CH4.values*1e9, color='red')\n",
    "plt.plot(aircore_df.P.values, aircore_df.CH4.values,\n",
    "         color='blue', linewidth=2, marker='o')"
   ]
  },
  {
   "cell_type": "markdown",
   "metadata": {},
   "source": [
    "Background methane (from NOAA plot Ed Dlugokencky, NOAA/ESRL (www.esrl.noaa.gov/gmd/ccgg/trends_ch4/)) \n",
    "\n",
    "2018: 1850 ppb \n",
    "2016: 1830 ppb\n",
    "2010: 1770 ppb\n",
    "\n",
    "Even if I were to scale the initial values, the variability in the curve looks different? "
   ]
  },
  {
   "cell_type": "code",
   "execution_count": null,
   "metadata": {},
   "outputs": [],
   "source": []
  }
 ],
 "metadata": {
  "kernelspec": {
   "display_name": "Python 3",
   "language": "python",
   "name": "python3"
  },
  "language_info": {
   "codemirror_mode": {
    "name": "ipython",
    "version": 3
   },
   "file_extension": ".py",
   "mimetype": "text/x-python",
   "name": "python",
   "nbconvert_exporter": "python",
   "pygments_lexer": "ipython3",
   "version": "3.8.8"
  }
 },
 "nbformat": 4,
 "nbformat_minor": 4
}
