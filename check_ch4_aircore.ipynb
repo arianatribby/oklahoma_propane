{
 "cells": [
  {
   "cell_type": "code",
   "execution_count": null,
   "id": "f24cac71-b0fd-4548-b128-7c77ceaf6392",
   "metadata": {},
   "outputs": [],
   "source": [
    "import sys\n",
    "import csv\n",
    "import pandas as pd\n",
    "import numpy as np\n",
    "import pytz\n",
    "import glob\n",
    "import matplotlib.pyplot as plt\n",
    "import cartopy.crs as ccrs\n",
    "import cartopy.feature as cfeature\n",
    "import datetime\n",
    "\n",
    "import bokeh\n",
    "from bokeh.models import DatetimeTickFormatter\n",
    "from bokeh.plotting import figure\n",
    "from bokeh.layouts import gridplot, row, column\n",
    "import bokeh.io\n",
    "import bokeh.plotting\n",
    "\n",
    "import holoviews as hv\n",
    "# from holoviews.operation.datashader import datashade \n",
    "import holoviews.operation.datashader\n",
    "hv.extension('bokeh')\n",
    "\n",
    "bokeh.io.output_notebook()"
   ]
  },
  {
   "cell_type": "markdown",
   "id": "2cd6bd16-f362-4dd1-87d7-d65daa3396f3",
   "metadata": {},
   "source": [
    "### Check CH4 aircore\n",
    "Just want to compare the ch4 from the aircore samples used in tccon to the 4x5 geoschem runs to see if the version of the geos chem you are using produces satisfactory vertical distribution. We are testing it with methane (before we use ethane/propane vertical profiles from geos chem). "
   ]
  },
  {
   "cell_type": "markdown",
   "id": "f3c7a26f-aa99-4aaa-8986-7683ca09bc9c",
   "metadata": {},
   "source": [
    "First, going to check a single file called the following on ccycle:  \n",
    "\n",
    "```/oco2-data/tccon/analysis/jlaugh/Notebooks/TCCON/GGG2020-AICF/Data/aircores/v20201223/level2/icartt/AC_GMD007_202012171701_R0.ict ```\n",
    "\n",
    "That you downloaded onto local and extracted relevant variables and converted to csv on 2/16/22. \n",
    "\n",
    "Questions\n",
    "- do these files even have the right location (Lamont)? There are lots of possible files I could use \n",
    "- should I just pull a couple or use all of the files from the tccon directory \n"
   ]
  },
  {
   "cell_type": "markdown",
   "id": "a0dae0a8-38ee-4879-9aaa-97efcaaf39b0",
   "metadata": {},
   "source": [
    "FIRST, test how off the time is when you read it directly from UTC \n",
    "for this first file, the top of it says it starts 12,17,2020 and ends 2020,12,18\n",
    "\n"
   ]
  },
  {
   "cell_type": "code",
   "execution_count": null,
   "id": "6da267e8-cb60-444e-8f25-b1533fc702e1",
   "metadata": {},
   "outputs": [],
   "source": [
    "test = pd.read_csv('/Users/arianatribby/git/oklahoma_propane/data/tccon_aircore/AC_GMD007_202012171701_R0.ict.csv')"
   ]
  },
  {
   "cell_type": "code",
   "execution_count": null,
   "id": "c0269686-8cd1-4aac-99d6-71282b8dc1d8",
   "metadata": {},
   "outputs": [],
   "source": [
    "test.head()"
   ]
  },
  {
   "cell_type": "code",
   "execution_count": null,
   "id": "46516b7d-4b5f-46bd-9ad3-6a646ce5fdfd",
   "metadata": {},
   "outputs": [],
   "source": [
    "datetime.datetime.utcfromtimestamp(test['Mid_UTC'].values[0])"
   ]
  },
  {
   "cell_type": "markdown",
   "id": "1c3e6d5b-f4db-45f6-b63d-213e1a866b23",
   "metadata": {},
   "source": [
    "Yup, very off. Need to use the start time in the file."
   ]
  },
  {
   "cell_type": "code",
   "execution_count": null,
   "id": "f9961e7a-7a8f-48f7-bdee-9d2c85b4be80",
   "metadata": {},
   "outputs": [],
   "source": [
    "def converttodf(inputs):\n",
    "    fieldnames = []\n",
    "    for filename in inputs:\n",
    "      with open(filename, \"r\", newline=\"\") as f_in:\n",
    "        reader = csv.reader(f_in)\n",
    "        headers = next(reader)\n",
    "        for h in headers:\n",
    "          if h not in fieldnames:\n",
    "            fieldnames.append(h)\n",
    "\n",
    "\n",
    "    # # # Then copy the data\n",
    "    with open(\"out.csv\", \"w\", newline=\"\") as f_out:   # Comment 2 below\n",
    "      writer = csv.DictWriter(f_out, fieldnames=fieldnames)\n",
    "      writer.writeheader()\n",
    "      for filename in inputs:\n",
    "        with open(filename, \"r\", newline=\"\") as f_in:\n",
    "          reader = csv.DictReader(f_in)  # Uses the field names in this file\n",
    "          for line in reader:\n",
    "            writer.writerow(line)\n",
    "\n",
    "    df = pd.read_csv(\"out.csv\")\n",
    "\n",
    "    # insert NaN for -9999 values (be careful of lon values that are negative) \n",
    "    df.loc[:,:] < -99998 \n",
    "    df_raw = df.where(~(df.loc[:,:] < -99998), other= np.NaN)\n",
    "    \n",
    "    complete_time_all_campaigns = []\n",
    "    # insert completetime ..........................................\n",
    "    for i,x in enumerate(inputs):\n",
    "        \n",
    "#         dateyr = x.split('AC_GMD007_')[1].rsplit('_')[0][0:4]\n",
    "#         datemn = x.split('AC_GMD007_')[1].rsplit('_')[0][4:6]\n",
    "#         datedy = x.split('AC_GMD007_')[1].rsplit('_')[0][6:8]\n",
    "        dateyr = x.rsplit(\"_\",2)[1].rsplit('_')[0][0:4]\n",
    "        datemn = x.rsplit(\"_\",2)[1].rsplit('_')[0][4:6]\n",
    "        datedy = x.rsplit(\"_\",2)[1].rsplit('_')[0][6:8]\n",
    "        \n",
    "\n",
    "        file_df = pd.read_csv(inputs[i])\n",
    "        file_time_list = file_df['Mid_UTC'].to_list()\n",
    "        \n",
    "        \n",
    "        # add completetime\n",
    "        utc = pytz.UTC\n",
    "        file_name_dtdelta = datetime.datetime(int(dateyr), int(datemn), int(datedy), 0, 0, 0)\n",
    "        file_name_dtdelta = utc.localize(file_name_dtdelta)\n",
    "        total_time = [datetime.timedelta(0,x)+file_name_dtdelta for x in file_time_list]\n",
    "        complete_time_all_campaigns.append(total_time)\n",
    "\n",
    "    complete_time_all_campaigns = np.concatenate(complete_time_all_campaigns).ravel()\n",
    "    df_raw['completetime'] = complete_time_all_campaigns\n",
    "    \n",
    "    return df_raw"
   ]
  },
  {
   "cell_type": "code",
   "execution_count": null,
   "id": "00a6f21a-bbc4-4a1b-a6fd-ce0617349a3d",
   "metadata": {},
   "outputs": [],
   "source": [
    "path = \"/Users/arianatribby/git/oklahoma_propane/data/tccon_aircore/AC_GMD007_202012171701_R0.ict.csv\"\n",
    "inputs = sorted(glob.glob(path))\n",
    "print(path)\n",
    "print(inputs)"
   ]
  },
  {
   "cell_type": "code",
   "execution_count": null,
   "id": "86ae78ee-26bf-4173-ad98-2aa326c6f3aa",
   "metadata": {},
   "outputs": [],
   "source": [
    "df_raw = converttodf(inputs)"
   ]
  },
  {
   "cell_type": "code",
   "execution_count": null,
   "id": "640ccbeb-a94a-428f-ad02-c14fbbde590f",
   "metadata": {},
   "outputs": [],
   "source": [
    "# https://stackoverflow.com/questions/35337299/python-datetime-to-float-with-millisecond-precision\n",
    "res = [i.timestamp() for i in df_raw['completetime']]\n",
    "\n",
    "df_raw['completetime'] = res"
   ]
  },
  {
   "cell_type": "code",
   "execution_count": null,
   "id": "129e63ab-55d3-4d5a-8cca-f5d212e0b5e5",
   "metadata": {},
   "outputs": [],
   "source": [
    "df_raw.head()"
   ]
  },
  {
   "cell_type": "code",
   "execution_count": null,
   "id": "dc9941e1-f1db-4b5a-a8cd-785da1aca1f0",
   "metadata": {},
   "outputs": [],
   "source": [
    "# datetime(year, month, day[, hour[, minute[, second[, microsecond[,tzinfo]]]]])\n",
    "datetime.datetime.utcfromtimestamp(df_raw['completetime'].values[0])"
   ]
  },
  {
   "cell_type": "markdown",
   "id": "fd5635cc-1a49-45ad-ad40-c553f2d4e859",
   "metadata": {},
   "source": [
    "Looks good.\n",
    "\n",
    "Now I want to know what locations this dataset contains. \n",
    "\n",
    "You can add in features with cartopy \n",
    "https://scitools.org.uk/cartopy/docs/latest/gallery/lines_and_polygons/features.html \n",
    "help(cfeature)\n",
    "here is what is available: \n",
    "```\n",
    "    BORDERS = <cartopy.feature.NaturalEarthFeature object>\n",
    "    COASTLINE = <cartopy.feature.NaturalEarthFeature object>\n",
    "    COLORS = {'land': array([0.9375  , 0.9375  , 0.859375]), 'land_alt1': ...\n",
    "    LAKES = <cartopy.feature.NaturalEarthFeature object>\n",
    "    LAND = <cartopy.feature.NaturalEarthFeature object>\n",
    "    OCEAN = <cartopy.feature.NaturalEarthFeature object>\n",
    "    RIVERS = <cartopy.feature.NaturalEarthFeature object>\n",
    "    STATES = <cartopy.feature.NaturalEarthFeature object>\n",
    "    absolute_import = _Feature((2, 5, 0, 'alpha', 1), (3, 0, 0, 'alpha', 0...\n",
    "    division = _Feature((2, 2, 0, 'alpha', 2), (3, 0, 0, 'alpha', 0), 8192...\n",
    "    print_function = _Feature((2, 6, 0, 'alpha', 2), (3, 0, 0, 'alpha', 0)...\n",
    "```\n",
    "\n",
    "Some tips for improving the clarity of your figure where you plot atom and hippo https://stackoverflow.com/questions/67508054/improve-resolution-of-cartopy-map"
   ]
  },
  {
   "cell_type": "code",
   "execution_count": null,
   "id": "55bf4ae5-421b-471e-aa35-90d0dbc57db9",
   "metadata": {},
   "outputs": [],
   "source": [
    "# from IPython.display import set_matplotlib_formats\n",
    "# set_matplotlib_formats('svg')\n",
    "\n",
    "# when activate that, also do this: \n",
    "# ax.coastlines(resolution='50m', color='black', linewidth=1)\n",
    "# it makes the figures beautiful but also slow. "
   ]
  },
  {
   "cell_type": "code",
   "execution_count": null,
   "id": "4db91013-92e1-4b9a-a261-1626b8f04a9e",
   "metadata": {},
   "outputs": [],
   "source": [
    "ax = plt.axes(projection=ccrs.PlateCarree())\n",
    "ax.stock_img()\n",
    "\n",
    "plt.plot(df_raw.LON.values, df_raw.LAT.values,\n",
    "         color='blue', linewidth=2, marker='o',\n",
    "         transform=ccrs.PlateCarree(),\n",
    "         )\n",
    "# ax.coastlines(resolution='50m', color='black', linewidth=1)\n",
    "land_50m = cfeature.NaturalEarthFeature('physical', 'land', '50m',\n",
    "                                        edgecolor='face',\n",
    "                                        facecolor=cfeature.COLORS['land'])\n",
    "ax.gridlines(crs=ccrs.PlateCarree(), draw_labels=True,linewidth=2, color='gray', alpha=0.5, linestyle='--')\n",
    "\n",
    "plt.show()"
   ]
  },
  {
   "cell_type": "code",
   "execution_count": null,
   "id": "3d84d5b1-ab36-48c5-9d2e-1b351cea5032",
   "metadata": {},
   "outputs": [],
   "source": [
    "ax = plt.axes(projection=ccrs.PlateCarree())\n",
    "ax.set_extent([-110, -95, 33, 44])\n",
    "\n",
    "# Put a background image on for nice sea rendering.\n",
    "ax.stock_img()\n",
    "plt.plot(df_raw.LON.values, df_raw.LAT.values,\n",
    "         color='blue', linewidth=2, marker='o',\n",
    "         transform=ccrs.PlateCarree(),\n",
    "         )\n",
    "\n",
    "\n",
    "# Create a feature for States/Admin 1 regions at 1:50m from Natural Earth\n",
    "states_provinces = cfeature.NaturalEarthFeature(\n",
    "    category='cultural',\n",
    "    name='admin_1_states_provinces_lines',\n",
    "    scale='50m',\n",
    "    facecolor='none')\n",
    "\n",
    "SOURCE = 'Natural Earth'\n",
    "LICENSE = 'public domain'\n",
    "\n",
    "ax.add_feature(cfeature.LAND)\n",
    "ax.add_feature(cfeature.COASTLINE)\n",
    "ax.add_feature(states_provinces, edgecolor='gray')\n",
    "ax.gridlines(crs=ccrs.PlateCarree(), draw_labels=True,linewidth=2, color='gray', alpha=0.5, linestyle='--')\n",
    "\n",
    "plt.text(-97.56, 36.69, 'Lamont',\n",
    "         horizontalalignment='right',\n",
    "         transform=ccrs.Geodetic())\n",
    "plt.show()"
   ]
  },
  {
   "cell_type": "markdown",
   "id": "6b4eba55-ceb6-45a8-be5c-723321f5d7b3",
   "metadata": {},
   "source": [
    "So this first file is not what you are looking for. All of the data is outside of Lamont. \n",
    "\n",
    "I don't know how to search within files that are not nc files. So just trying to figure out what the headings mean for each file. \n",
    "\n",
    "```\n",
    "AC_ROO002_202001301731_R0.ict 39.57759, -103.67529\n",
    "AC_BIG002_201201141836_R0.ict 36.60038, -97.70751\n",
    "AC_GMD001_201201151416_R0.ict 36.65505, -97.45487\n",
    "AC_GMD001_201210241711_R0.ict 36.68544, -97.46158\n",
    "AC_GMD002_201409161626_R0.ict 36.72353, -97.67488\n",
    "AC_GMD003_201312171755_R0.ict 39.53062, -104.34730\n",
    "AC_GMD004_201407160823_R0.ict 67.60209, 25.96934\n",
    "AC_GMD007_201610261629_R0.ict 39.51848, -104.34775\n",
    "AC_GMD008_201609201500_R0.ict 40.09800, -104.41011\n",
    "AC_GMD008_202011161659_R0.ict 39.60709, -103.87532\n",
    "AC_GMD009_201807301659_R0.ict 45.91471, -90.33893\n",
    "AC_GMD009_202012171701_R0.ict 39.48189, -103.84781\n",
    "AC_GMD010_201707141832_R0.ict 40.24480, -103.99572\n",
    "AC_GMD010_201709261826_R0.ict 40.54869, -104.55073\n",
    "AC_GMD010_201712121814_R0.ict 39.92086, -104.03193\n",
    "AC_GMD010_201806191322_R0.ict 67.79564, 26.87452\n",
    "AC_GMD010_201807171359_R0.ict 34.64097, -117.35879\n",
    "AC_GMD010_201807172129_R0.ict 34.65950, -117.49775\n",
    "AC_GMD010_201807181759_R0.ict 34.67067, -117.80473\n",
    "AC_GMD010_201807251658_R0.ict 36.69109, -97.41193\n",
    "AC_GMD010_201807311658_R0.ict 46.11343, -90.14798\n",
    "AC_GMD010_201811291759_R0.ict 39.96087, -103.91843\n",
    "AC_GMD010_201905141700_R0.ict 39.96019, -104.83448\n",
    "AC_GMD010_201906120843_R0.ict 48.59355,  1.06712\n",
    "AC_GMD010_201907111701_R0.ict 40.04709, -104.24512\n",
    "AC_GMD010_201911051700_R0.ict 39.64377, -104.18397\n",
    "AC_ROO002_202001301731_R0.ict 39.57759, -103.67529\n",
    "AC_roo003_201912181801_R0.ict 40.10531, -104.11123\n",
    "```\n",
    "\n",
    "\n",
    "\n",
    "### Work with actual aircore file here\n",
    "I think that I should focus on the recent files. 2018 is during atom which I have the gc simulations for. "
   ]
  },
  {
   "cell_type": "code",
   "execution_count": null,
   "id": "d77b6268-47de-477e-bea9-3154b6db5fa6",
   "metadata": {},
   "outputs": [],
   "source": [
    "path = \"/Users/arianatribby/git/oklahoma_propane/data/tccon_aircore/AC_GMD010_201807251658_R0.ict.csv\"\n",
    "inputs = sorted(glob.glob(path))"
   ]
  },
  {
   "cell_type": "code",
   "execution_count": null,
   "id": "6d2c7e76-0ed5-406c-bf8c-23e98cc223e6",
   "metadata": {},
   "outputs": [],
   "source": [
    "aircore_df = converttodf(inputs)"
   ]
  },
  {
   "cell_type": "code",
   "execution_count": null,
   "id": "8e151176-34b2-4466-ba67-45451badb992",
   "metadata": {},
   "outputs": [],
   "source": [
    "# https://stackoverflow.com/questions/35337299/python-datetime-to-float-with-millisecond-precision\n",
    "res = [i.timestamp() for i in aircore_df['completetime']]\n",
    "\n",
    "aircore_df['completetime'] = res"
   ]
  },
  {
   "cell_type": "markdown",
   "id": "525c7bb6-9858-4859-ab4f-8d66878c191f",
   "metadata": {},
   "source": [
    "Double check the location"
   ]
  },
  {
   "cell_type": "code",
   "execution_count": null,
   "id": "4a73ac4d-10b8-4898-8290-8b3ee78f82bd",
   "metadata": {},
   "outputs": [],
   "source": [
    "ax = plt.axes(projection=ccrs.PlateCarree())\n",
    "ax.set_extent([-110, -95, 33, 44])\n",
    "\n",
    "# Put a background image on for nice sea rendering.\n",
    "ax.stock_img()\n",
    "plt.plot(aircore_df.LON.values, aircore_df.LAT.values,\n",
    "         color='blue', linewidth=2, marker='o',\n",
    "         transform=ccrs.PlateCarree(),\n",
    "         )\n",
    "\n",
    "\n",
    "# Create a feature for States/Admin 1 regions at 1:50m from Natural Earth\n",
    "states_provinces = cfeature.NaturalEarthFeature(\n",
    "    category='cultural',\n",
    "    name='admin_1_states_provinces_lines',\n",
    "    scale='50m',\n",
    "    facecolor='none')\n",
    "\n",
    "SOURCE = 'Natural Earth'\n",
    "LICENSE = 'public domain'\n",
    "\n",
    "ax.add_feature(cfeature.LAND)\n",
    "ax.add_feature(cfeature.COASTLINE)\n",
    "ax.add_feature(states_provinces, edgecolor='gray')\n",
    "ax.gridlines(crs=ccrs.PlateCarree(), draw_labels=True,linewidth=2, color='gray', alpha=0.5, linestyle='--')\n",
    "\n",
    "plt.text(-97.56, 36.69, 'Lamont',\n",
    "         horizontalalignment='right',\n",
    "         transform=ccrs.Geodetic())\n",
    "plt.show()"
   ]
  },
  {
   "cell_type": "markdown",
   "id": "c918ab84-cdea-4da5-9248-71aa4b9476d3",
   "metadata": {},
   "source": [
    "Now plot geos chem profile vs aircore data. Need to grab the data over lamont in geos chem. This is not interpolated to the plane, just in oklahoma. "
   ]
  },
  {
   "cell_type": "code",
   "execution_count": null,
   "id": "c2713fec-b726-4a29-92aa-ec05533f3d1c",
   "metadata": {},
   "outputs": [],
   "source": [
    "gclamont = pd.read_csv('/Users/arianatribby/git/oklahoma_propane/data/geoschem_hpc_downloads/gc_Lamont_20180401_20180601.csv')"
   ]
  },
  {
   "cell_type": "markdown",
   "id": "4e83583c-e7ad-48ad-a32e-ae3f423d1f56",
   "metadata": {},
   "source": [
    "Convert from units of carbon"
   ]
  },
  {
   "cell_type": "code",
   "execution_count": null,
   "id": "00c1d9a6-def0-49ca-b38d-7fbcec258137",
   "metadata": {},
   "outputs": [],
   "source": [
    "gclamont['ch4_ppb'] = gclamont.SpeciesConc_CH4.values*1e9\n",
    "gclamont['c2h6_ppb'] = gclamont.SpeciesConc_C2H6.values*1e9/2\n",
    "gclamont['c3h8_ppb'] = gclamont.SpeciesConc_C3H8.values*1e9/3\n",
    "R = 286.13\n",
    "g = 9.8\n",
    "gclamont['height'] = (np.divide(-R*gclamont['Met_T'],g)*np.log(np.divide(gclamont['Met_PMID'],1013.25))).copy()\n"
   ]
  },
  {
   "cell_type": "code",
   "execution_count": null,
   "id": "40c054d1-2443-4926-adb3-32df02dddf48",
   "metadata": {},
   "outputs": [],
   "source": [
    "print(max(gclamont.height))\n",
    "print(min(gclamont.height))\n",
    "print(max(aircore_df.GPS_ALT))\n",
    "print(min(aircore_df.GPS_ALT))"
   ]
  },
  {
   "cell_type": "code",
   "execution_count": null,
   "id": "facb6b9a-792a-4840-bb71-fad196829dce",
   "metadata": {},
   "outputs": [],
   "source": [
    "print(max(gclamont.Met_PMID))\n",
    "print(min(gclamont.Met_PMID))\n",
    "print(max(aircore_df.P))\n",
    "print(min(aircore_df.P))"
   ]
  },
  {
   "cell_type": "markdown",
   "id": "3db92fee-1103-4eae-9502-ad2ba773c201",
   "metadata": {},
   "source": [
    "Filter out GC values less than 29hPa pressure. "
   ]
  },
  {
   "cell_type": "code",
   "execution_count": null,
   "id": "be29a2d8-512e-4ed0-aad2-83ea02e42a8d",
   "metadata": {},
   "outputs": [],
   "source": [
    "gclamont_rightalt = gclamont.loc[gclamont['Met_PMID'] > 29]"
   ]
  },
  {
   "cell_type": "code",
   "execution_count": null,
   "id": "504ea1a0-22e0-47fc-b97c-a1af0a0268c7",
   "metadata": {},
   "outputs": [],
   "source": [
    "print(len(gclamont))\n",
    "print(len(gclamont_rightalt))"
   ]
  },
  {
   "cell_type": "markdown",
   "id": "55665b9c-adfb-4f54-bcc4-4cc2c2d90d31",
   "metadata": {},
   "source": [
    "Plot GC along with air core on a map to compare location"
   ]
  },
  {
   "cell_type": "code",
   "execution_count": null,
   "id": "90fce75a-0080-4625-b5f7-56fb0845beb2",
   "metadata": {},
   "outputs": [],
   "source": [
    "ax = plt.axes(projection=ccrs.PlateCarree())\n",
    "ax.set_extent([-110, -88, 28, 44])\n",
    "\n",
    "# Put a background image on for nice sea rendering.\n",
    "ax.stock_img()\n",
    "plt.plot(aircore_df.LON.values, aircore_df.LAT.values,\n",
    "         color='blue', linewidth=2, marker='o',\n",
    "         transform=ccrs.PlateCarree(),\n",
    "         )\n",
    "\n",
    "plt.scatter(gclamont_rightalt.lon.values[::1000],gclamont_rightalt.lat.values[::1000],\n",
    "        color='red', marker='o',\n",
    "        transform=ccrs.PlateCarree())\n",
    "# Create a feature for States/Admin 1 regions at 1:50m from Natural Earth\n",
    "states_provinces = cfeature.NaturalEarthFeature(\n",
    "    category='cultural',\n",
    "    name='admin_1_states_provinces_lines',\n",
    "    scale='50m',\n",
    "    facecolor='none')\n",
    "\n",
    "SOURCE = 'Natural Earth'\n",
    "LICENSE = 'public domain'\n",
    "\n",
    "ax.add_feature(cfeature.LAND)\n",
    "ax.add_feature(cfeature.COASTLINE)\n",
    "ax.add_feature(states_provinces, edgecolor='gray')\n",
    "ax.gridlines(crs=ccrs.PlateCarree(), draw_labels=True,linewidth=2, color='gray', alpha=0.5, linestyle='--')\n",
    "\n",
    "plt.text(-97.56, 36.69, 'Lamont',\n",
    "         horizontalalignment='right',\n",
    "         transform=ccrs.Geodetic())\n",
    "plt.show()"
   ]
  },
  {
   "cell_type": "markdown",
   "id": "f676be99-75a1-493d-83a1-2a714c7ab706",
   "metadata": {},
   "source": [
    "Now, going to select one profile for every week during this campaign. Select the profile that took place during similar time of day as aircore. What time did the aircore take place?"
   ]
  },
  {
   "cell_type": "code",
   "execution_count": null,
   "id": "af660b59-055a-404b-8737-4e3bfc477877",
   "metadata": {},
   "outputs": [],
   "source": [
    "from datetime import datetime"
   ]
  },
  {
   "cell_type": "code",
   "execution_count": null,
   "id": "010c43a3-2dec-435e-ac6e-50de02961f37",
   "metadata": {},
   "outputs": [],
   "source": [
    "aircore_df['datetime_complete'] = [datetime.fromtimestamp(single_timestamp) for single_timestamp in aircore_df['completetime'].values]"
   ]
  },
  {
   "cell_type": "code",
   "execution_count": null,
   "id": "f1c7f890-bfce-4859-b07e-9d3b78591db4",
   "metadata": {},
   "outputs": [],
   "source": [
    "print(aircore_df['datetime_complete'][0])\n",
    "print(aircore_df['datetime_complete'][225])\n",
    "print(aircore_df['datetime_complete'][len(aircore_df)-1])"
   ]
  },
  {
   "cell_type": "markdown",
   "id": "57a30956-0ba6-4e30-9b2c-cab0365258e7",
   "metadata": {},
   "source": [
    "Going to select 1 GC simulation/week over the two months surrounding this measurement and pick noon times. Problem is that your geos chem simulations occured over the spring, while this aircore is in the summer. "
   ]
  },
  {
   "cell_type": "code",
   "execution_count": null,
   "id": "7aecc734-4475-4e49-ab0b-527903bc8d18",
   "metadata": {},
   "outputs": [],
   "source": [
    "gclamont_weeklynoon = gclamont_rightalt.loc[(gclamont_rightalt['time'] == '2018-04-01 12:30:00') | \n",
    "                    (gclamont_rightalt['time'] == '2018-04-07 11:30:00') |\n",
    "                    (gclamont_rightalt['time'] == '2018-04-14 11:30:00') | \n",
    "                    (gclamont_rightalt['time'] == '2018-04-21 11:30:00') | \n",
    "                    (gclamont_rightalt['time'] == '2018-04-28 11:30:00') |\n",
    "                    (gclamont_rightalt['time'] == '2018-05-05 11:30:00') |\n",
    "                    (gclamont_rightalt['time'] == '2018-05-12 11:30:00') |\n",
    "                    (gclamont_rightalt['time'] == '2018-05-19 11:30:00') |\n",
    "                    (gclamont_rightalt['time'] == '2018-05-26 11:30:00')]"
   ]
  },
  {
   "cell_type": "markdown",
   "id": "380a4446-e7d9-4632-b3e0-f6207ab20ba5",
   "metadata": {},
   "source": [
    "Now, separate geos chem data into 4 corners around lamont to more easily plot and see differences. "
   ]
  },
  {
   "cell_type": "code",
   "execution_count": null,
   "id": "2750b082-e648-49ff-b8ec-0c1946b31efd",
   "metadata": {},
   "outputs": [],
   "source": [
    "gcupperleft = gclamont_weeklynoon.loc[(gclamont_weeklynoon['lon'] < -99.) & (gclamont_weeklynoon['lat'] > 37.5)]\n",
    "gcbottomleft = gclamont_weeklynoon.loc[(gclamont_weeklynoon['lon'] < -99.) & (gclamont_weeklynoon['lat'] < 35.)]\n",
    "gcupperright = gclamont_weeklynoon.loc[(gclamont_weeklynoon['lon'] > -96.) & (gclamont_weeklynoon['lat'] > 37.5)]\n",
    "gcbottomright = gclamont_weeklynoon.loc[(gclamont_weeklynoon['lon'] > -96.) & (gclamont_weeklynoon['lat'] < 35.)]\n"
   ]
  },
  {
   "cell_type": "code",
   "execution_count": null,
   "id": "d646a9d2-cfe0-4fd8-b1f3-bddf2c3cce72",
   "metadata": {},
   "outputs": [],
   "source": [
    "fh = 400\n",
    "fw = 400\n",
    "colors = bokeh.palettes.d3['Category20'][20]\n",
    "\n",
    "\n",
    "p = bokeh.plotting.figure(frame_height=fh, frame_width=fw, title='')\n",
    "\n",
    "p.circle(gcupperleft.Met_THETA.values,\n",
    "         gcupperleft.ch4_ppb.values, size=5, color=colors[1],legend_label='NW Kansas')\n",
    "\n",
    "p.circle(gcbottomleft.Met_THETA.values,\n",
    "         gcbottomleft.ch4_ppb.values, size=5, color=colors[2],legend_label='SW ~OK')\n",
    "\n",
    "p.circle(gcupperright.Met_THETA.values,\n",
    "         gcupperright.ch4_ppb.values, size=5, color=colors[3],legend_label='NE Kansas')\n",
    "\n",
    "p.circle(gcbottomright.Met_THETA.values,\n",
    "         gcbottomright.ch4_ppb.values, size=5, color=colors[4],legend_label='SE OK')\n",
    "\n",
    "p.circle(aircore_df.THETA.values,\n",
    "         aircore_df.CH4.values, size=5, color=colors[6],legend_label='AirCore')\n",
    "\n",
    "p.xaxis.axis_label = \"theta (K)\"\n",
    "p.yaxis.axis_label = \"CH4 (ppb)\"\n",
    "p.xaxis.axis_label_text_font_size = \"16pt\"\n",
    "p.yaxis.axis_label_text_font_size = \"16pt\"\n",
    "p.xaxis.major_label_text_font_size = \"15pt\"\n",
    "p.yaxis.major_label_text_font_size = \"15pt\"\n",
    "p.xaxis.major_tick_line_width = 3\n",
    "p.yaxis.major_tick_line_width = 3\n",
    "p.axis.axis_label_text_font_style = 'bold'\n",
    "p.legend.label_text_font_size = '14pt'\n",
    "p.legend.location = \"top_right\"\n",
    "# p.output_backend = \"svg\"\n",
    "bokeh.io.show(p)"
   ]
  },
  {
   "cell_type": "markdown",
   "id": "8e053c64-6d8e-4aa9-a0ad-e299b0a5c7a9",
   "metadata": {},
   "source": [
    "Fine, check the tropopause (not a good relationship with theta). Plot below theta = 400"
   ]
  },
  {
   "cell_type": "code",
   "execution_count": null,
   "id": "f171aa1b-070f-4f8e-8547-c66e20ce0112",
   "metadata": {},
   "outputs": [],
   "source": [
    "fh = 400\n",
    "fw = 400\n",
    "colors = bokeh.palettes.d3['Category20'][20]\n",
    "\n",
    "\n",
    "p = bokeh.plotting.figure(frame_height=fh, frame_width=fw, title='')\n",
    "\n",
    "p.circle(gcupperleft.loc[gcupperleft['Met_THETA'] < 400].height.values,\n",
    "         gcupperleft.loc[gcupperleft['Met_THETA'] < 400].ch4_ppb.values, \n",
    "         size=5, color=colors[1],legend_label='NW Kansas')\n",
    "\n",
    "p.circle(gcbottomleft.loc[gcbottomleft['Met_THETA'] < 400].height.values,\n",
    "         gcbottomleft.loc[gcbottomleft['Met_THETA'] < 400].ch4_ppb.values, \n",
    "         size=5, color=colors[2],legend_label='SW ~OK')\n",
    "\n",
    "p.circle(gcupperright.loc[gcupperright['Met_THETA'] < 400].height.values,\n",
    "         gcupperright.loc[gcupperright['Met_THETA'] < 400].ch4_ppb.values, \n",
    "         size=5, color=colors[3],legend_label='NE Kansas')\n",
    "\n",
    "p.circle(gcbottomright.loc[gcbottomright['Met_THETA'] < 400].height.values,\n",
    "         gcbottomright.loc[gcbottomright['Met_THETA'] < 400].ch4_ppb.values, \n",
    "         size=5, color=colors[4],legend_label='SE OK')\n",
    "\n",
    "p.circle(aircore_df.loc[aircore_df['THETA'] < 400].GPS_ALT.values,\n",
    "         aircore_df.loc[aircore_df['THETA'] < 400].CH4.values, \n",
    "         size=5, color=colors[6],legend_label='AirCore')\n",
    "\n",
    "p.xaxis.axis_label = \"altitude (m)\"\n",
    "p.yaxis.axis_label = \"CH4 (ppb)\"\n",
    "p.xaxis.axis_label_text_font_size = \"16pt\"\n",
    "p.yaxis.axis_label_text_font_size = \"16pt\"\n",
    "p.xaxis.major_label_text_font_size = \"15pt\"\n",
    "p.yaxis.major_label_text_font_size = \"15pt\"\n",
    "p.xaxis.major_tick_line_width = 3\n",
    "p.yaxis.major_tick_line_width = 3\n",
    "p.axis.axis_label_text_font_style = 'bold'\n",
    "p.legend.label_text_font_size = '14pt'\n",
    "p.legend.location = \"bottom_left\"\n",
    "# p.output_backend = \"svg\"\n",
    "bokeh.io.show(p)"
   ]
  },
  {
   "cell_type": "markdown",
   "id": "6aaaf2b4-1f90-4c2a-80ab-3690291891cd",
   "metadata": {},
   "source": [
    "Josh: geos chem is getting the methane fluxes right but the profiles are wrong bc the transport in MERRA is wrong. Try plotting geos chem potential temperature vs aircore potential temperature to test this. "
   ]
  },
  {
   "cell_type": "code",
   "execution_count": null,
   "id": "31026b21-d2fe-40a7-82ae-36a2a3a7b239",
   "metadata": {},
   "outputs": [],
   "source": [
    "fh = 400\n",
    "fw = 400\n",
    "colors = bokeh.palettes.d3['Category20'][20]\n",
    "\n",
    "p = bokeh.plotting.figure(frame_height=fh, frame_width=fw, title='')\n",
    "\n",
    "p.circle(aircore_df.P.values,\n",
    "         aircore_df.THETA.values, \n",
    "         size=5, color=colors[1], legend_label='air core')\n",
    "\n",
    "p.circle(gcupperleft.Met_PMID.values,\n",
    "         gcupperleft.Met_THETA.values, \n",
    "         size=5, color=colors[0], legend_label='geos chem')\n",
    "\n",
    "p.xaxis.axis_label = \"pressure\"\n",
    "p.yaxis.axis_label = \"theta\"\n",
    "\n",
    "bokeh.io.show(p)"
   ]
  },
  {
   "cell_type": "code",
   "execution_count": null,
   "id": "56b83f90-06de-4961-a796-8c89f87e48fc",
   "metadata": {},
   "outputs": [],
   "source": []
  }
 ],
 "metadata": {
  "kernelspec": {
   "display_name": "oklahoma_propane_env",
   "language": "python",
   "name": "oklahoma_propane_env"
  },
  "language_info": {
   "codemirror_mode": {
    "name": "ipython",
    "version": 3
   },
   "file_extension": ".py",
   "mimetype": "text/x-python",
   "name": "python",
   "nbconvert_exporter": "python",
   "pygments_lexer": "ipython3",
   "version": "3.8.11"
  }
 },
 "nbformat": 4,
 "nbformat_minor": 5
}
