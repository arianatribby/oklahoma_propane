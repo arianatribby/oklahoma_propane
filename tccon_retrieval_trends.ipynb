{
 "cells": [
  {
   "cell_type": "code",
   "execution_count": null,
   "id": "6ff382bf-02c9-4adb-ae53-dd32a69877c3",
   "metadata": {},
   "outputs": [],
   "source": [
    "import sys\n",
    "import os\n",
    "import pandas as pd\n",
    "import numpy as np\n",
    "import scipy.stats as st\n",
    "import glob\n",
    "from datetime import datetime\n",
    "import time\n",
    "import numba\n",
    "import scipy as sc\n",
    "from scipy import interpolate\n",
    "import xarray as xr\n",
    "\n",
    "import bokeh\n",
    "from bokeh.models import DatetimeTickFormatter, NumeralTickFormatter, ColumnDataSource, ColorBar\n",
    "from bokeh.plotting import figure\n",
    "from bokeh.layouts import gridplot, row, column\n",
    "from bokeh.transform import linear_cmap\n",
    "from bokeh.palettes import Viridis\n",
    "import bokeh.io\n",
    "import bokeh.plotting\n",
    "\n",
    "bokeh.io.output_notebook()\n",
    "import holoviews as hv\n",
    "import bebi103\n",
    "hv.extension('bokeh')"
   ]
  },
  {
   "cell_type": "code",
   "execution_count": null,
   "id": "0c817a8a-2ede-4b84-a570-d21bef27404a",
   "metadata": {},
   "outputs": [],
   "source": [
    "tccon_2017 = pd.read_csv('/Users/arianatribby/git/oklahoma_propane/data/tccon_retrievals/oc_alkane.vav.ada.aia.oof.csv',skiprows=290)\n",
    "tccon_2018 = pd.read_csv('/Users/arianatribby/git/oklahoma_propane/data/tccon_retrievals/oc_alkane_2018.vav.ada.aia.oof.csv',skiprows=290)\n",
    "tccon_2019 = pd.read_csv('/Users/arianatribby/git/oklahoma_propane/data/tccon_retrievals/oc_alkane_2019.vav.ada.aia.oof.csv',skiprows=290)\n",
    "tccon_2020 = pd.read_csv('/Users/arianatribby/git/oklahoma_propane/data/tccon_retrievals/oc_alkane_2020.vav.ada.aia.oof.csv',skiprows=290)"
   ]
  },
  {
   "cell_type": "code",
   "execution_count": null,
   "id": "ee0b7671-2dae-45d4-aa89-4b5b2d4b4702",
   "metadata": {},
   "outputs": [],
   "source": [
    "tccon_2018.head()"
   ]
  },
  {
   "cell_type": "code",
   "execution_count": null,
   "id": "545361e3-ea2f-4719-94a0-d7e56f6abd2f",
   "metadata": {},
   "outputs": [],
   "source": [
    "tccon_2020.columns"
   ]
  },
  {
   "cell_type": "code",
   "execution_count": null,
   "id": "6895956e-3c02-465c-b68b-fc19bb0407e4",
   "metadata": {},
   "outputs": [],
   "source": [
    "tccon_allyears = pd.concat([tccon_2017,tccon_2018,tccon_2019,tccon_2020])"
   ]
  },
  {
   "cell_type": "code",
   "execution_count": null,
   "id": "4b77911b-be07-429e-8479-cb02fefded0c",
   "metadata": {},
   "outputs": [],
   "source": [
    "tccon_2020['pout(hPa)'].unique()"
   ]
  },
  {
   "cell_type": "code",
   "execution_count": null,
   "id": "f21ea447-7e99-49c3-b25e-b22e82644839",
   "metadata": {},
   "outputs": [],
   "source": [
    "tccon_allyears.year.values[-1]"
   ]
  },
  {
   "cell_type": "code",
   "execution_count": null,
   "id": "05a3563f-668c-48b1-b9a2-dd04c2735042",
   "metadata": {},
   "outputs": [],
   "source": [
    "tccon_allyears.rename(columns = {' flag':'flag'}, inplace = True)"
   ]
  },
  {
   "cell_type": "markdown",
   "id": "dcfdd731-3cd9-4e2e-a348-0028f2f56f39",
   "metadata": {},
   "source": [
    "There is an issue where thr number of hours are greater than 24. Harrison Parker provided data without the time wrapping, and also a bool for vsf error less than arbitrary 10 since filtering those out reduced the zenith angle dependance of propane. "
   ]
  },
  {
   "cell_type": "code",
   "execution_count": null,
   "id": "a4fb7e42-6576-4065-9ac8-7d8629bf9c5c",
   "metadata": {},
   "outputs": [],
   "source": [
    "extra_data = pd.read_csv('/Users/arianatribby/git/oklahoma_propane/data/tccon_retrievals/VSF_error_filtering.csv')"
   ]
  },
  {
   "cell_type": "code",
   "execution_count": null,
   "id": "8e3c9c09-8857-49a1-8a54-71961348b7bb",
   "metadata": {},
   "outputs": [],
   "source": [
    "extra_data.tail()"
   ]
  },
  {
   "cell_type": "code",
   "execution_count": null,
   "id": "7e91f395-3086-4fbe-b198-388732cb5490",
   "metadata": {},
   "outputs": [],
   "source": [
    "print(len(extra_data.loc[extra_data['year'] == 2017]))\n",
    "print(len(tccon_2017))"
   ]
  },
  {
   "cell_type": "code",
   "execution_count": null,
   "id": "cd13d4c9-7dac-4fd5-98f4-cbb53aceceb3",
   "metadata": {},
   "outputs": [],
   "source": [
    "tccon_allyears['year'] = extra_data.year.values\n",
    "tccon_allyears['month'] = extra_data.month.values\n",
    "tccon_allyears['day'] = extra_data.day.values\n",
    "tccon_allyears['hour'] = extra_data.hour.values\n",
    "tccon_allyears['minute'] = extra_data.minute.values\n",
    "tccon_allyears['second'] = extra_data.second.values\n",
    "tccon_allyears['VSF_error'] = extra_data.VSF_error.values\n",
    "tccon_allyears['VSF_error_lt_ten_bool'] = extra_data.VSF_error_lt_ten_bool.values"
   ]
  },
  {
   "cell_type": "code",
   "execution_count": null,
   "id": "3b3f7d1c-5b9c-483e-b415-c3f3212af0d3",
   "metadata": {},
   "outputs": [],
   "source": [
    "tccon_allyears.year.values[-1]"
   ]
  },
  {
   "cell_type": "markdown",
   "id": "368f3e75-72f9-4d9a-b61d-98811976b5a8",
   "metadata": {},
   "source": [
    "#### QC - best data are flag = 0\n",
    "Also, vsf error less than 10 is best to use, according to Harrison, to reduce solar zenith angle dependance"
   ]
  },
  {
   "cell_type": "code",
   "execution_count": null,
   "id": "8eb9e9b6-c3f4-45ed-9cc0-aa55374fc570",
   "metadata": {},
   "outputs": [],
   "source": [
    "tccon_qc = tccon_allyears.loc[(tccon_allyears['flag'] == 0) & \n",
    "                              (tccon_allyears['VSF_error_lt_ten_bool'] == 1)].reset_index()"
   ]
  },
  {
   "cell_type": "code",
   "execution_count": null,
   "id": "49009286-fa29-4821-9dd5-1c7e9c542690",
   "metadata": {},
   "outputs": [],
   "source": [
    "len(tccon_qc)"
   ]
  },
  {
   "cell_type": "code",
   "execution_count": null,
   "id": "37f6d3f8-8bb5-45ba-8be5-9946b6c07e82",
   "metadata": {},
   "outputs": [],
   "source": [
    "tccon_allyears.loc[tccon_allyears['year'] == 2017].columns"
   ]
  },
  {
   "cell_type": "markdown",
   "id": "1cdce372-7a5d-42b2-a64c-17e9e962c2c0",
   "metadata": {},
   "source": [
    "#### Create a utc time "
   ]
  },
  {
   "cell_type": "code",
   "execution_count": null,
   "id": "d9c9d4c8-8796-4ca1-9564-59c781edfab0",
   "metadata": {},
   "outputs": [],
   "source": [
    "def create_utc(year,month,day,hour,minute,second):\n",
    "    \n",
    "\n",
    "    newdatetime = datetime.strptime(str(int(year)) + \"-\" + \n",
    "                      str(int(month)) + \"-\" +\n",
    "                      str(int(day)) + \"-\" +\n",
    "                      str(int(hour)) + \"-\" +\n",
    "                      str(int(minute)) + \"-\" + \n",
    "                      str(int(second))\n",
    "                    , \"%Y-%m-%d-%H-%M-%S\")\n",
    "    \n",
    "    strtime = str(newdatetime)\n",
    "    datetm = datetime.strptime(strtime,'%Y-%m-%d %H:%M:%S')\n",
    "    tmestamp = newdatetime.timestamp()\n",
    "    \n",
    "    return strtime,datetm,tmestamp"
   ]
  },
  {
   "cell_type": "code",
   "execution_count": null,
   "id": "6c016bd5-b536-415e-b0af-2c6e64eaf3bd",
   "metadata": {},
   "outputs": [],
   "source": [
    "# newtime = []\n",
    "# newdatetime = []\n",
    "# for i in range(len(NOAA_df)):\n",
    "#     newtime.append(datetime.datetime(int(NOAA_df['sample_year'].values[i]),int(NOAA_df['sample_month'].values[i]),\n",
    "#                       int(NOAA_df['sample_day'].values[i]),int(NOAA_df['sample_hour'].values[i]),\n",
    "#                       int(NOAA_df['sample_minute'].values[i]),int(NOAA_df['sample_seconds'].values[i])).timestamp())\n",
    "#     newdatetime.append(datetime.datetime(int(NOAA_df['sample_year'].values[i]),int(NOAA_df['sample_month'].values[i]),\n",
    "#                       int(NOAA_df['sample_day'].values[i]),int(NOAA_df['sample_hour'].values[i]),\n",
    "#                       int(NOAA_df['sample_minute'].values[i]),int(NOAA_df['sample_seconds'].values[i])))\n",
    "\n",
    "# NOAA_df['dt_time'] = newdatetime\n",
    "# NOAA_df['completetime'] = newtime"
   ]
  },
  {
   "cell_type": "code",
   "execution_count": null,
   "id": "0f08177a-da74-4c46-acd2-864642529420",
   "metadata": {},
   "outputs": [],
   "source": [
    "def create_utc_withdayofyear(year,day,hour):\n",
    "    # input time one by one, not an array\n",
    "    # this takes in raw tccon time, where day is day of year, not day of month\n",
    "    # and the hours are wrapped hours\n",
    "    \n",
    "    # check if there are hours >= 24 (I saw some, and those are not double counting day)\n",
    "    if hour >= 24:\n",
    "        excess_hr = abs(24-hour)\n",
    "        hour = excess_hr\n",
    "        day += 1   \n",
    "        \n",
    "    # first extract the hour min sec \n",
    "    hours = int(hour)\n",
    "    minutes = (hour*60) % 60\n",
    "    seconds = (hour*3600) % 60 \n",
    "\n",
    "    \n",
    "    # reformat the time \n",
    "    newdatetime = datetime.strptime(str(int(year)) + \"-\" + \n",
    "                      str(int(day)) + \"-\" +\n",
    "                      str(int(hours)) + \"-\" +\n",
    "                      str(int(minutes)) + \"-\" + \n",
    "                      str(int(seconds))\n",
    "                    , \"%Y-%j-%H-%M-%S\")\n",
    "    \n",
    "    strtime = str(newdatetime)\n",
    "    datetm = datetime.strptime(strtime,'%Y-%m-%d %H:%M:%S')\n",
    "    tmestamp = newdatetime.timestamp()\n",
    "\n",
    "    return strtime,datetm,tmestamp"
   ]
  },
  {
   "cell_type": "code",
   "execution_count": null,
   "id": "8a8ab359-118e-4338-8942-312512ab1267",
   "metadata": {},
   "outputs": [],
   "source": [
    "# if the tccon time is day of the year, do the following:\n",
    "# strtimel= []\n",
    "# datetml = []\n",
    "# tmestampl = []\n",
    "# for i in range(len(tccon_qc)):\n",
    "#     strtime,datetm,tmestamp = create_utc(tccon_qc.year[i],tccon_qc.day[i],tccon_qc.hour[i])\n",
    "#     strtimel.append(strtime)\n",
    "#     datetml.append(datetm)\n",
    "#     tmestampl.append(tmestamp)\n"
   ]
  },
  {
   "cell_type": "code",
   "execution_count": null,
   "id": "08c19ef6-3f73-4d7c-b3cf-2dacba335e69",
   "metadata": {},
   "outputs": [],
   "source": [
    "strtimel= []\n",
    "datetml = []\n",
    "tmestampl = []\n",
    "for i in range(len(tccon_qc)):\n",
    "\n",
    "    strtime,datetm,tmestamp = create_utc(tccon_qc.year[i],tccon_qc.month[i],tccon_qc.day[i],\n",
    "                                         tccon_qc.hour[i],tccon_qc.minute[i],tccon_qc.second[i])\n",
    "    strtimel.append(strtime)\n",
    "    datetml.append(datetm)\n",
    "    tmestampl.append(tmestamp)\n"
   ]
  },
  {
   "cell_type": "code",
   "execution_count": null,
   "id": "22e96ddf-4668-459c-8458-f6935cb2783f",
   "metadata": {},
   "outputs": [],
   "source": [
    "tccon_qc['strtime'] = strtimel\n",
    "tccon_qc['datetm'] = datetml\n",
    "tccon_qc['tmestamp'] = tmestampl"
   ]
  },
  {
   "cell_type": "code",
   "execution_count": null,
   "id": "21e0fe26-485d-4c39-aac3-8fa5fa00c4ae",
   "metadata": {},
   "outputs": [],
   "source": [
    "tccon_qc.strtime.values[-1]"
   ]
  },
  {
   "cell_type": "code",
   "execution_count": null,
   "id": "0e734aee-8761-407d-b9c2-495e4fde5a22",
   "metadata": {},
   "outputs": [],
   "source": [
    "fh = 400\n",
    "fw = 400\n",
    "colors = bokeh.palettes.d3['Category20'][20]\n",
    "\n",
    "p = bokeh.plotting.figure(frame_height=fh, \n",
    "                          frame_width=fw, title='',x_axis_type='datetime')\n",
    "\n",
    "p.circle(tccon_qc.datetm.values, tccon_qc['xc2h6(ppb)'].values, \n",
    "         size=5, fill_alpha=.5, color=colors[0], legend_label='C2H6')\n",
    "\n",
    "p.circle(tccon_qc.datetm.values, tccon_qc['xc3h8(ppb)'].values, \n",
    "         size=5, fill_alpha=.1, color=colors[1], legend_label='C3H8')\n",
    "\n",
    "p.xaxis.axis_label = \"time\"\n",
    "p.yaxis.axis_label = \"xC ppb\"\n",
    "p.xaxis.axis_label_text_font_size = \"16pt\"\n",
    "p.yaxis.axis_label_text_font_size = \"16pt\"\n",
    "p.xaxis.major_label_text_font_size = \"15pt\"\n",
    "p.yaxis.major_label_text_font_size = \"15pt\"\n",
    "p.xaxis.major_tick_line_width = 3\n",
    "p.yaxis.major_tick_line_width = 3\n",
    "p.axis.axis_label_text_font_style = 'bold'\n",
    "p.xaxis.major_label_orientation = 45\n",
    "bokeh.io.show(p)\n"
   ]
  },
  {
   "cell_type": "markdown",
   "id": "7ced9fff-5eb6-436c-ba08-09405a6847aa",
   "metadata": {},
   "source": [
    "For both ethane and propane, there is airmass dependence (the smile)\n",
    "However, propane has really low points \n",
    "Those low points could be from the priors and probably don't mean anything. (Harrison said that if there isn't a great fit, it will return the prior which is a low value.)\n",
    "It also might be solar zenith angle. You can cut off solar zenith angles below 50. That variable is solzen and that would cut off the ends. \n",
    "Harrison will see if he can filter out the fits in which had a poor fit (ie returned the prior) "
   ]
  },
  {
   "cell_type": "markdown",
   "id": "35957409-861e-4a00-b554-d8933c64dab0",
   "metadata": {},
   "source": [
    "### Averaging kernel data\n",
    "provided by Harrison parker january 2023"
   ]
  },
  {
   "cell_type": "code",
   "execution_count": null,
   "id": "a4bea342-bcc0-489c-8fb7-85de533200bc",
   "metadata": {},
   "outputs": [],
   "source": [
    "ethane_ak = pd.read_csv('../../data/tccon_retrievals/ethane_ak_lut.csv')\n",
    "propane_ak = pd.read_csv('../../data/tccon_retrievals/propane_ak_lut.csv')\n",
    "sza_bin = pd.read_csv('../../data/tccon_retrievals/SZA_bins.csv')\n",
    "alt_bin = pd.read_csv('../../data/tccon_retrievals/Altitude.csv')\n",
    "pres_bin = pd.read_csv(\"../../data/tccon_retrievals/NormalizedPressure.csv\")"
   ]
  },
  {
   "cell_type": "code",
   "execution_count": null,
   "id": "62888be4-8b40-4c6a-8a1d-77d7ad5b0f30",
   "metadata": {},
   "outputs": [],
   "source": [
    "print(len(pres_bin))\n",
    "print(len(alt_bin))"
   ]
  },
  {
   "cell_type": "code",
   "execution_count": null,
   "id": "a1a1a6df-98f9-46a3-90aa-58fbc2f06527",
   "metadata": {},
   "outputs": [],
   "source": [
    "ethane_ak.head()"
   ]
  },
  {
   "cell_type": "code",
   "execution_count": null,
   "id": "f891b8b3-7065-41ed-8f62-cf892e113e11",
   "metadata": {},
   "outputs": [],
   "source": [
    "# create data\n",
    "data = np.array(ethane_ak)\n",
    "\n",
    "# create coords\n",
    "rows = alt_bin.values.flatten()\n",
    "cols = sza_bin.values.flatten()\n",
    "\n",
    "# put data into a dataset\n",
    "ak_ds = xr.Dataset(\n",
    "    data_vars=dict(\n",
    "        ethane_ak=([\"alt\", \"sza\"], np.array(ethane_ak)),\n",
    "        propane_ak=([\"alt\", \"sza\"], np.array(propane_ak)),\n",
    "    ),\n",
    "    coords=dict(\n",
    "        alt=([\"alt\"], rows),\n",
    "        sza=([\"sza\"], cols),\n",
    "    ),\n",
    "    attrs=dict(description=\" \"),\n",
    ")"
   ]
  },
  {
   "cell_type": "code",
   "execution_count": null,
   "id": "5584b41c-9f87-43be-981d-b344ae0da8f5",
   "metadata": {},
   "outputs": [],
   "source": [
    "ak_ds"
   ]
  },
  {
   "cell_type": "code",
   "execution_count": null,
   "id": "fed92d8f-a73d-49cb-8a3c-3f527176269f",
   "metadata": {},
   "outputs": [],
   "source": [
    "ak_ds.to_netcdf('../../data/tccon_retrievals/averaging_kforstilt.nc4')"
   ]
  },
  {
   "cell_type": "markdown",
   "id": "d46b0537-4291-43cf-8733-a1d5efc88407",
   "metadata": {},
   "source": [
    "#### TCCON prep for STILT\n",
    "- Get tccon on same days that you are doing the noaa for. You can obviously do additional days using tccon but you can start with the NOAA days. \n",
    "- only look at tccon times between 10am and 2pm. \n",
    "- decide aggregate for tccon data, since including all of it will be too much. Maybe every 30 min or hourly averages, need to see with what frequency you get enhancements. \n",
    "- The additional days you want to look at are days with really high and low enhancement\n",
    "- You will need to rerun stilt for tccon overlap days because you run stilt in such a way as to represent the entire column \n",
    "- we will start out at a single tccon time for ease \n",
    "- Save this out as a csv file, lat, lon, time, height, for stilt "
   ]
  },
  {
   "cell_type": "code",
   "execution_count": null,
   "id": "6d744400-01ea-4e98-a36c-ef7b0a5b957d",
   "metadata": {},
   "outputs": [],
   "source": [
    "tccon_2017qc = tccon_qc.loc[tccon_qc['year'] == 2017]"
   ]
  },
  {
   "cell_type": "code",
   "execution_count": null,
   "id": "002c0bb9-4a58-4306-aedf-bed7c795c214",
   "metadata": {},
   "outputs": [],
   "source": [
    "fh = 400\n",
    "fw = 400\n",
    "\n",
    "data = tccon_2017qc.loc[tccon_2017qc['month'] == 6]\n",
    "colors = bokeh.palettes.d3['Category20'][20]\n",
    "\n",
    "p = bokeh.plotting.figure(frame_height=fh, \n",
    "                          frame_width=fw, title='',x_axis_type='datetime')\n",
    "\n",
    "p.circle(data.datetm.values, data['xc2h6(ppb)'].values, \n",
    "         size=5, fill_alpha=.5, color=colors[0], legend_label='C2H6 whole record')\n",
    "\n",
    "p.xaxis.axis_label = \"time\"\n",
    "p.yaxis.axis_label = \"xC ppb\"\n",
    "p.xaxis.axis_label_text_font_size = \"16pt\"\n",
    "p.yaxis.axis_label_text_font_size = \"16pt\"\n",
    "p.xaxis.major_label_text_font_size = \"15pt\"\n",
    "p.yaxis.major_label_text_font_size = \"15pt\"\n",
    "p.xaxis.major_tick_line_width = 3\n",
    "p.yaxis.major_tick_line_width = 3\n",
    "p.axis.axis_label_text_font_style = 'bold'\n",
    "p.legend.location = \"bottom_right\"\n",
    "bokeh.io.show(p)"
   ]
  },
  {
   "cell_type": "markdown",
   "id": "35e421fe-f7bd-4fff-946b-5e33793a8030",
   "metadata": {},
   "source": [
    "Based on zooming in between 6/15 and 6/16, it seems that every hour would capture most variability that is relevant  "
   ]
  },
  {
   "cell_type": "markdown",
   "id": "110ea359-9fe1-4e36-a343-f7f13204a300",
   "metadata": {},
   "source": [
    "but i think it would probably be better if you did the hourly averages for all the data at once. Then after you do that, you can go to the noaa fresh for stilt and filter biomass, then bring that new file here and do crossover between the same days. then save out individual files for each year.  "
   ]
  },
  {
   "cell_type": "code",
   "execution_count": null,
   "id": "5e677cf6-5c42-4658-bb9e-9d860fdc0954",
   "metadata": {},
   "outputs": [],
   "source": [
    "tccon_2017qc.columns"
   ]
  },
  {
   "cell_type": "code",
   "execution_count": null,
   "id": "eefc2df9-dd44-476b-b867-d085a0b486db",
   "metadata": {},
   "outputs": [],
   "source": [
    "tccon_hourly_med = tccon_qc.groupby([\"year\", \"month\", \"day\", \"hour\"]).median().reset_index()"
   ]
  },
  {
   "cell_type": "code",
   "execution_count": null,
   "id": "ce5bc99b-d51e-408c-a891-5f667bfd46dc",
   "metadata": {},
   "outputs": [],
   "source": [
    "tccon_hourly_med.tail()"
   ]
  },
  {
   "cell_type": "markdown",
   "id": "b1550661-0648-4031-95a7-dde2d9e7a0a7",
   "metadata": {},
   "source": [
    "So using thr groupby did not transfer the utc strings that you made before. Going to re-run using the new time averages. "
   ]
  },
  {
   "cell_type": "code",
   "execution_count": null,
   "id": "ccbf48d5-0b4a-41ab-a4bd-a1d34db81332",
   "metadata": {},
   "outputs": [],
   "source": [
    "strtimel= []\n",
    "datetml = []\n",
    "tmestampl = []\n",
    "for i in range(len(tccon_hourly_med)):\n",
    "\n",
    "    strtime,datetm,tmestamp = create_utc(tccon_hourly_med.year[i],tccon_hourly_med.month[i],tccon_hourly_med.day[i],\n",
    "                                         tccon_hourly_med.hour[i],tccon_hourly_med.minute[i],tccon_hourly_med.second[i])\n",
    "    strtimel.append(strtime)\n",
    "    datetml.append(datetm)\n",
    "    tmestampl.append(tmestamp)\n"
   ]
  },
  {
   "cell_type": "code",
   "execution_count": null,
   "id": "0fe38220-c40d-4c7c-8a55-3d323956af27",
   "metadata": {},
   "outputs": [],
   "source": [
    "tccon_hourly_med['strtime'] = strtimel\n",
    "tccon_hourly_med['datetm'] = datetml\n",
    "tccon_hourly_med['tmestamp'] = tmestampl"
   ]
  },
  {
   "cell_type": "markdown",
   "id": "ea066d0d-c023-496d-b56a-f73bbe88d8b2",
   "metadata": {},
   "source": [
    "Only choose 2017 for now since the noaa file below isn't updated beyond 2018 yet "
   ]
  },
  {
   "cell_type": "code",
   "execution_count": null,
   "id": "2820728d-d41e-4c48-b980-f8e688209b93",
   "metadata": {},
   "outputs": [],
   "source": [
    "tccon_2017qc = tccon_hourly_med.loc[tccon_hourly_med['year'] == 2017]"
   ]
  },
  {
   "cell_type": "markdown",
   "id": "312c64a1-526e-43be-8c95-9e6bf12d5ccb",
   "metadata": {},
   "source": [
    "### Get crossover between noaa and tccon times "
   ]
  },
  {
   "cell_type": "code",
   "execution_count": null,
   "id": "1c32af46-775c-434b-86ab-ed1ea2cfcbb2",
   "metadata": {},
   "outputs": [],
   "source": [
    "noaa_fresh_forstilt = pd.read_csv('../../data/windrose/noaa_summer2017tower_varsforfootprint.csv')"
   ]
  },
  {
   "cell_type": "code",
   "execution_count": null,
   "id": "c9f778b1-d9bd-41a1-8720-c269607dc0ea",
   "metadata": {},
   "outputs": [],
   "source": [
    "def find_similar_times(tccon,noaa):\n",
    "    # takes noaa one at a time, tccon the entire array \n",
    "\n",
    "    newarray = abs(tccon - noaa)\n",
    "    return(np.argmin(newarray))\n",
    "    \n",
    "    "
   ]
  },
  {
   "cell_type": "code",
   "execution_count": null,
   "id": "f4ebd85b-18a5-4754-a857-da529dc87281",
   "metadata": {},
   "outputs": [],
   "source": [
    "tccon_indices = [find_similar_times(tccon_2017qc.tmestamp.values,x) for x in noaa_fresh_forstilt.completetime.values]\n",
    "print(tccon_indices)"
   ]
  },
  {
   "cell_type": "markdown",
   "id": "eb7792de-aecf-4e3b-ba77-e5b0d86baa85",
   "metadata": {},
   "source": [
    "But you want to conserve all available times that match the corresponding day/month to those times. For each index, find month, day corresponding. "
   ]
  },
  {
   "cell_type": "code",
   "execution_count": null,
   "id": "9d701811-b0b2-4fad-b973-f6cf3c2cba7e",
   "metadata": {},
   "outputs": [],
   "source": [
    "allnewindices = []\n",
    "for i in tccon_indices: \n",
    "    year = tccon_2017qc.iloc[i].year\n",
    "    month = tccon_2017qc.iloc[i].month\n",
    "    day = tccon_2017qc.iloc[i].day\n",
    "    inds = tccon_2017qc.loc[(tccon_2017qc['year'] == year) & \n",
    "                            (tccon_2017qc['month'] == month) & \n",
    "                            (tccon_2017qc['day'] == day)].index.values\n",
    "    allnewindices.append(inds)\n",
    "    "
   ]
  },
  {
   "cell_type": "code",
   "execution_count": null,
   "id": "a008158b-45d2-4236-80a6-784dfab001f2",
   "metadata": {},
   "outputs": [],
   "source": [
    "flat_list = [item for sublist in allnewindices for item in sublist]"
   ]
  },
  {
   "cell_type": "markdown",
   "id": "69cdb697-ed93-48c2-b854-a1c1c94d94fb",
   "metadata": {},
   "source": [
    "There are lots of noaa fresh measurements that repeat on the same day, so you now have duplicates in allnewindices.  "
   ]
  },
  {
   "cell_type": "code",
   "execution_count": null,
   "id": "79290190-1b69-4f45-8abd-dbf028c074f0",
   "metadata": {},
   "outputs": [],
   "source": [
    "inds_for_alltccontimes = np.unique(flat_list)"
   ]
  },
  {
   "cell_type": "code",
   "execution_count": null,
   "id": "0764a7db-64bb-481a-b91c-eaabaf48963a",
   "metadata": {},
   "outputs": [],
   "source": [
    "tccon_toweroverlap2017 = tccon_2017qc.iloc[inds_for_alltccontimes]"
   ]
  },
  {
   "cell_type": "markdown",
   "id": "0ddaaf18-6155-46e4-823b-03f2c1b910b2",
   "metadata": {},
   "source": [
    "#### How do the tccon and noaa overlaps compare to the entire timeline? "
   ]
  },
  {
   "cell_type": "code",
   "execution_count": null,
   "id": "83d7a490-15a2-45d8-8673-9816f86dee05",
   "metadata": {},
   "outputs": [],
   "source": [
    "fh = 400\n",
    "fw = 400\n",
    "colors = bokeh.palettes.d3['Category20'][20]\n",
    "\n",
    "p = bokeh.plotting.figure(frame_height=fh, \n",
    "                          frame_width=fw, title='',x_axis_type='datetime')\n",
    "\n",
    "p.circle(tccon_2017qc.datetm.values, tccon_2017qc['xc2h6(ppb)'].values, \n",
    "         size=5, fill_alpha=.5, color=colors[0], legend_label='C2H6 whole record')\n",
    "\n",
    "p.circle(tccon_toweroverlap2017.datetm.values, tccon_toweroverlap2017['xc2h6(ppb)'].values, \n",
    "         size=5, fill_alpha=.5, color=colors[2], legend_label='C2H6 noaa overlaps')\n",
    "\n",
    "p.xaxis.axis_label = \"time\"\n",
    "p.yaxis.axis_label = \"xC ppb\"\n",
    "p.xaxis.axis_label_text_font_size = \"16pt\"\n",
    "p.yaxis.axis_label_text_font_size = \"16pt\"\n",
    "p.xaxis.major_label_text_font_size = \"15pt\"\n",
    "p.yaxis.major_label_text_font_size = \"15pt\"\n",
    "p.xaxis.major_tick_line_width = 3\n",
    "p.yaxis.major_tick_line_width = 3\n",
    "p.axis.axis_label_text_font_style = 'bold'\n",
    "p.legend.location = \"bottom_right\"\n",
    "bokeh.io.show(p)"
   ]
  },
  {
   "cell_type": "code",
   "execution_count": null,
   "id": "c40658ef-2efa-42af-8fa0-3e91766f395b",
   "metadata": {},
   "outputs": [],
   "source": [
    "fh = 400\n",
    "fw = 400\n",
    "colors = bokeh.palettes.d3['Category20'][20]\n",
    "\n",
    "p = bokeh.plotting.figure(frame_height=fh, \n",
    "                          frame_width=fw, title='',x_axis_type='datetime')\n",
    "\n",
    "p.circle(tccon_2017qc.datetm.values, tccon_2017qc['xc3h8(ppb)'].values, \n",
    "         size=5, fill_alpha=.5, color=colors[0], legend_label='C3H8 whole record')\n",
    "\n",
    "p.circle(tccon_toweroverlap2017.datetm.values, tccon_toweroverlap2017['xc3h8(ppb)'].values, \n",
    "         size=5, fill_alpha=.5, color=colors[2], legend_label='C3H8 noaa overlaps')\n",
    "\n",
    "p.xaxis.axis_label = \"time\"\n",
    "p.yaxis.axis_label = \"xC ppb\"\n",
    "p.xaxis.axis_label_text_font_size = \"16pt\"\n",
    "p.yaxis.axis_label_text_font_size = \"16pt\"\n",
    "p.xaxis.major_label_text_font_size = \"15pt\"\n",
    "p.yaxis.major_label_text_font_size = \"15pt\"\n",
    "p.xaxis.major_tick_line_width = 3\n",
    "p.yaxis.major_tick_line_width = 3\n",
    "p.axis.axis_label_text_font_style = 'bold'\n",
    "p.legend.location = \"bottom_right\"\n",
    "bokeh.io.show(p)"
   ]
  },
  {
   "cell_type": "markdown",
   "id": "1b8f3a53-b9fd-41d3-b3ef-c053721541a2",
   "metadata": {},
   "source": [
    "#### How do observations look for different hours of the day "
   ]
  },
  {
   "cell_type": "code",
   "execution_count": null,
   "id": "94d73b55-dacd-4db6-a534-4a8e3235f08d",
   "metadata": {},
   "outputs": [],
   "source": [
    "# tccon_2017qc['day_int'] = [int(x) for x in tccon_2017qc['day']]\n",
    "# tccon_overlapwholedaynoaa2017 = tccon_2017qc.loc[tccon_2017qc['day_int'].isin(list(map(int,tccon_overlapnoaa2017.day.unique())))]"
   ]
  },
  {
   "cell_type": "code",
   "execution_count": null,
   "id": "aedf4b40-b875-427c-9e0e-cf786cb767e9",
   "metadata": {},
   "outputs": [],
   "source": [
    "tccon_toweroverlap2017.columns"
   ]
  },
  {
   "cell_type": "markdown",
   "id": "463ce0c2-e3b3-4539-9d1f-5a2b15da8013",
   "metadata": {},
   "source": [
    "UTC is 6 hours later than CST (oklahoma). So if it is 9pm on Monday utc, it is 3pm monday cst.  "
   ]
  },
  {
   "cell_type": "code",
   "execution_count": null,
   "id": "be2c3ec0-2f22-4004-ab3c-2907b0ae85e7",
   "metadata": {},
   "outputs": [],
   "source": [
    "fh = 450\n",
    "fw = 450\n",
    "colors = bokeh.palettes.d3['Category20'][20]\n",
    "\n",
    "p = bokeh.plotting.figure(frame_height=fh, \n",
    "                          frame_width=fw, title='')\n",
    "\n",
    "p.circle(tccon_toweroverlap2017.hour.values - 6, tccon_toweroverlap2017['xc3h8(ppb)'].values, \n",
    "         size=5, fill_alpha=.5, color=colors[2], legend_label='tccon C3H8 overlaps w/noaa entire day')\n",
    "\n",
    "p.xaxis.axis_label = \"local hour of day\"\n",
    "p.yaxis.axis_label = \"xC ppb\"\n",
    "p.xaxis.axis_label_text_font_size = \"16pt\"\n",
    "p.yaxis.axis_label_text_font_size = \"16pt\"\n",
    "p.xaxis.major_label_text_font_size = \"15pt\"\n",
    "p.yaxis.major_label_text_font_size = \"15pt\"\n",
    "p.xaxis.major_tick_line_width = 3\n",
    "p.yaxis.major_tick_line_width = 3\n",
    "p.axis.axis_label_text_font_style = 'bold'\n",
    "p.legend.location = \"top_right\"\n",
    "bokeh.io.show(p)"
   ]
  },
  {
   "cell_type": "markdown",
   "id": "d9c9cda7-1dda-4960-bf4e-9acfb17663c8",
   "metadata": {},
   "source": [
    "keep all observations for now \n",
    "\n",
    "Harrison: column of water calcs to exclude monsoon days \n",
    "\n"
   ]
  },
  {
   "cell_type": "code",
   "execution_count": null,
   "id": "2fd70c4e-b803-4e0b-94e9-df7ca16ea5ad",
   "metadata": {},
   "outputs": [],
   "source": [
    "tccon_toweroverlap2017.datetm"
   ]
  },
  {
   "cell_type": "code",
   "execution_count": null,
   "id": "8e822ad0-46e7-4446-be8e-a18ac8d684bb",
   "metadata": {},
   "outputs": [],
   "source": [
    "tccon_toweroverlap2017.columns"
   ]
  },
  {
   "cell_type": "code",
   "execution_count": null,
   "id": "2f035abb-ecdc-493a-80ec-f527e945611c",
   "metadata": {},
   "outputs": [],
   "source": [
    "towertocsv = tccon_toweroverlap2017[['lat(deg)','long(deg)','datetm','pout(hPa)']]"
   ]
  },
  {
   "cell_type": "code",
   "execution_count": null,
   "id": "d82af8d1-cf2d-409a-8e08-988156155956",
   "metadata": {},
   "outputs": [],
   "source": [
    "towertocsv.to_csv('../../data/tccon_retrievals/tccon_noaa2017toweroverlap_forfootprint.csv')"
   ]
  },
  {
   "cell_type": "code",
   "execution_count": null,
   "id": "20043503-799e-41c9-8473-69c31e7bca49",
   "metadata": {},
   "outputs": [],
   "source": [
    "# towertocsv = noaatowersummer[['lat','lon','dt_time','completetime','sample_intake_height']]"
   ]
  },
  {
   "cell_type": "code",
   "execution_count": null,
   "id": "88131bd0-119f-497d-ab11-8ab8ba1556de",
   "metadata": {},
   "outputs": [],
   "source": [
    "# towertocsv.to_csv('../../data/tccon_retrievals/tccon_noaa2017toweroverlap_forfootprint.csv')"
   ]
  },
  {
   "cell_type": "markdown",
   "id": "3f69a3ac-1f9a-4300-8e9e-60f9fdf8dad9",
   "metadata": {},
   "source": [
    "# All years TCCON data preparation"
   ]
  },
  {
   "cell_type": "markdown",
   "id": "bc3a22ac-51c3-4ece-8077-aa81aa6932c1",
   "metadata": {},
   "source": [
    "### Get crossover between noaa and tccon times "
   ]
  },
  {
   "cell_type": "code",
   "execution_count": null,
   "id": "5ccc98b8-e59d-425d-85c4-ada6f69088ff",
   "metadata": {},
   "outputs": [],
   "source": [
    "noaa_fresh_allyears = pd.read_csv('/Users/arianatribby/git/oklahoma_propane/data/processing/newNOAA_freshemiss2016to2020.csv')\n"
   ]
  },
  {
   "cell_type": "code",
   "execution_count": null,
   "id": "27962af1-e9b8-48eb-a8f2-cc464e821cd9",
   "metadata": {},
   "outputs": [],
   "source": [
    "tccon_indices_allyears = [find_similar_times(tccon_hourly_med.tmestamp.values,x) for x in noaa_fresh_allyears.completetime.values]\n",
    "\n",
    "print(tccon_indices_allyears)"
   ]
  },
  {
   "cell_type": "markdown",
   "id": "5290e2f5-b25e-4121-b064-033bff2560d9",
   "metadata": {},
   "source": [
    "But you want to conserve all available times that match the corresponding day/month to those times. For each index, find month, day corresponding. "
   ]
  },
  {
   "cell_type": "code",
   "execution_count": null,
   "id": "1c79c907-2cde-4ae7-aa9e-39c2918c2d9c",
   "metadata": {},
   "outputs": [],
   "source": [
    "allnewindices = []\n",
    "for i in tccon_indices_allyears: \n",
    "    year = tccon_hourly_med.iloc[i].year\n",
    "    month = tccon_hourly_med.iloc[i].month\n",
    "    day = tccon_hourly_med.iloc[i].day\n",
    "    inds = tccon_hourly_med.loc[(tccon_hourly_med['year'] == year) & \n",
    "                            (tccon_hourly_med['month'] == month) & \n",
    "                            (tccon_hourly_med['day'] == day)].index.values\n",
    "    allnewindices.append(inds)\n",
    "    "
   ]
  },
  {
   "cell_type": "code",
   "execution_count": null,
   "id": "d4668404-a545-4948-80cc-3a9fcea4a258",
   "metadata": {},
   "outputs": [],
   "source": [
    "flat_list = [item for sublist in allnewindices for item in sublist]"
   ]
  },
  {
   "cell_type": "markdown",
   "id": "f3328c4a-d642-4e67-81e1-1bb2d29fb9b9",
   "metadata": {},
   "source": [
    "There are lots of noaa fresh measurements that repeat on the same day, so you now have duplicates in allnewindices.  "
   ]
  },
  {
   "cell_type": "code",
   "execution_count": null,
   "id": "3f093ba8-126c-44b4-b724-2151ddea3eb7",
   "metadata": {},
   "outputs": [],
   "source": [
    "inds_for_alltccontimes = np.unique(flat_list)"
   ]
  },
  {
   "cell_type": "code",
   "execution_count": null,
   "id": "64d05239-c575-4cd4-b834-ca0abec9a898",
   "metadata": {},
   "outputs": [],
   "source": [
    "tccon_overlap2017to2020 = tccon_hourly_med.iloc[inds_for_alltccontimes]"
   ]
  },
  {
   "cell_type": "markdown",
   "id": "df43a327-b874-4944-a74e-d74a6ed432ef",
   "metadata": {},
   "source": [
    "#### How do the tccon and noaa overlaps compare to the entire timeline? "
   ]
  },
  {
   "cell_type": "code",
   "execution_count": null,
   "id": "2c44e4cc-c5f3-4732-90b3-df1946d481bd",
   "metadata": {},
   "outputs": [],
   "source": [
    "fh = 400\n",
    "fw = 400\n",
    "colors = bokeh.palettes.d3['Category20'][20]\n",
    "\n",
    "p = bokeh.plotting.figure(frame_height=fh, \n",
    "                          frame_width=fw, title='',x_axis_type='datetime')\n",
    "\n",
    "p.circle(tccon_hourly_med.datetm.values, tccon_hourly_med['xc2h6(ppb)'].values, \n",
    "         size=5, fill_alpha=.5, color=colors[0], legend_label='C2H6 whole record')\n",
    "\n",
    "p.circle(tccon_overlap2017to2020.datetm.values, tccon_overlap2017to2020['xc2h6(ppb)'].values, \n",
    "         size=5, fill_alpha=.5, color=colors[2], legend_label='C2H6 noaa overlaps')\n",
    "\n",
    "p.xaxis.axis_label = \"time\"\n",
    "p.yaxis.axis_label = \"xC ppb\"\n",
    "p.xaxis.axis_label_text_font_size = \"16pt\"\n",
    "p.yaxis.axis_label_text_font_size = \"16pt\"\n",
    "p.xaxis.major_label_text_font_size = \"15pt\"\n",
    "p.yaxis.major_label_text_font_size = \"15pt\"\n",
    "p.xaxis.major_tick_line_width = 3\n",
    "p.yaxis.major_tick_line_width = 3\n",
    "p.axis.axis_label_text_font_style = 'bold'\n",
    "p.legend.location = \"top_left\"\n",
    "p.xaxis.major_label_orientation = 45\n",
    "bokeh.io.show(p)"
   ]
  },
  {
   "cell_type": "code",
   "execution_count": null,
   "id": "23623020-89d3-4192-8a37-33800c1ca1e3",
   "metadata": {},
   "outputs": [],
   "source": [
    "fh = 400\n",
    "fw = 400\n",
    "colors = bokeh.palettes.d3['Category20'][20]\n",
    "\n",
    "p = bokeh.plotting.figure(frame_height=fh, \n",
    "                          frame_width=fw, title='',x_axis_type='datetime')\n",
    "\n",
    "p.circle(tccon_hourly_med.datetm.values, tccon_hourly_med['xc3h8(ppb)'].values, \n",
    "         size=5, fill_alpha=.5, color=colors[0], legend_label='C3H8 whole record')\n",
    "\n",
    "p.circle(tccon_overlap2017to2020.datetm.values, tccon_overlap2017to2020['xc3h8(ppb)'].values, \n",
    "         size=5, fill_alpha=.5, color=colors[2], legend_label='C3H8 noaa overlaps')\n",
    "\n",
    "p.xaxis.axis_label = \"time\"\n",
    "p.yaxis.axis_label = \"xC ppb\"\n",
    "p.xaxis.axis_label_text_font_size = \"16pt\"\n",
    "p.yaxis.axis_label_text_font_size = \"16pt\"\n",
    "p.xaxis.major_label_text_font_size = \"15pt\"\n",
    "p.yaxis.major_label_text_font_size = \"15pt\"\n",
    "p.xaxis.major_tick_line_width = 3\n",
    "p.yaxis.major_tick_line_width = 3\n",
    "p.axis.axis_label_text_font_style = 'bold'\n",
    "p.legend.location = \"top_left\"\n",
    "p.xaxis.major_label_orientation = 45\n",
    "bokeh.io.show(p)"
   ]
  },
  {
   "cell_type": "markdown",
   "id": "7a591eea-49de-495f-b355-3fe45930ba11",
   "metadata": {},
   "source": [
    "#### How do observations look for different hours of the day "
   ]
  },
  {
   "cell_type": "markdown",
   "id": "eb2c8d82-0ed2-4475-8084-688ec9676a80",
   "metadata": {},
   "source": [
    "UTC is 6 hours later than CST (oklahoma). So if it is 9pm on Monday utc, it is 3pm monday cst.  "
   ]
  },
  {
   "cell_type": "code",
   "execution_count": null,
   "id": "8bf6a827-35ee-4ea3-a6b4-a796dd6320d8",
   "metadata": {},
   "outputs": [],
   "source": [
    "fh = 450\n",
    "fw = 450\n",
    "colors = bokeh.palettes.d3['Category20'][20]\n",
    "\n",
    "p = bokeh.plotting.figure(frame_height=fh, \n",
    "                          frame_width=fw, title='')\n",
    "\n",
    "p.circle(tccon_overlap2017to2020.hour.values - 6, tccon_overlap2017to2020['xc3h8(ppb)'].values, \n",
    "         size=5, fill_alpha=.5, color=colors[2], legend_label='tccon C3H8 overlaps w/noaa entire day')\n",
    "\n",
    "p.xaxis.axis_label = \"local hour of day\"\n",
    "p.yaxis.axis_label = \"xC ppb\"\n",
    "p.xaxis.axis_label_text_font_size = \"16pt\"\n",
    "p.yaxis.axis_label_text_font_size = \"16pt\"\n",
    "p.xaxis.major_label_text_font_size = \"15pt\"\n",
    "p.yaxis.major_label_text_font_size = \"15pt\"\n",
    "p.xaxis.major_tick_line_width = 3\n",
    "p.yaxis.major_tick_line_width = 3\n",
    "p.axis.axis_label_text_font_style = 'bold'\n",
    "p.legend.location = \"top_right\"\n",
    "bokeh.io.show(p)"
   ]
  },
  {
   "cell_type": "markdown",
   "id": "29a8e5a1-f8ed-43db-b3ea-bdcc49272671",
   "metadata": {},
   "source": [
    "keep all observations for now \n",
    "\n",
    "Harrison: column of water calcs to exclude monsoon days \n",
    "\n"
   ]
  },
  {
   "cell_type": "code",
   "execution_count": null,
   "id": "ad244069-fe79-469e-88b8-33ba5e8bdd1a",
   "metadata": {},
   "outputs": [],
   "source": [
    "tccon_overlap2017to2020.datetm"
   ]
  },
  {
   "cell_type": "code",
   "execution_count": null,
   "id": "24a7a470-2b4e-41bd-8815-6df8869fe136",
   "metadata": {},
   "outputs": [],
   "source": [
    "tccon_overlap2017to2020.columns"
   ]
  },
  {
   "cell_type": "code",
   "execution_count": null,
   "id": "66315834-8643-4021-8f7e-37f001377b8c",
   "metadata": {},
   "outputs": [],
   "source": [
    "tccontocsv = tccon_overlap2017to2020[['lat(deg)','long(deg)','datetm','pout(hPa)']]"
   ]
  },
  {
   "cell_type": "code",
   "execution_count": null,
   "id": "43b55fa4-64ef-44f5-8b88-32b0ccfb79e5",
   "metadata": {},
   "outputs": [],
   "source": [
    "tccontocsv.to_csv('/Users/arianatribby/git/oklahoma_propane/data/windrose/tccon_summer2017to2020summer_forstilt.csv')\n",
    "\n"
   ]
  },
  {
   "cell_type": "markdown",
   "id": "f274b565-9e8e-42a7-85cb-a5b373a8a9d1",
   "metadata": {},
   "source": [
    "#### STILT stuff \n",
    "- You will need to rerun stilt for those overlap days because release particles at a specific height for tccon. And you will have more dense times for the single flask time. \n",
    "- Save this out as a csv file, lat, lon, time, height, for stilt \n",
    "\n",
    "Dien said for tccon that (11/22/week1 lab notebook) \n",
    "- for tccon you could use wind profile for the entire column\n",
    "- tccon has wind recorded here \n",
    "- do tccon and flasks all in the same wind rose\n",
    "- for the column, only do 2km (or the height of pbl) <- i think that means that is where you should release the particles? like it should be within the boundary layer? Because xgas is the sum of the entire column but the majority is near the surface. "
   ]
  }
 ],
 "metadata": {
  "kernelspec": {
   "display_name": "oklahoma_propane_env",
   "language": "python",
   "name": "oklahoma_propane_env"
  },
  "language_info": {
   "codemirror_mode": {
    "name": "ipython",
    "version": 3
   },
   "file_extension": ".py",
   "mimetype": "text/x-python",
   "name": "python",
   "nbconvert_exporter": "python",
   "pygments_lexer": "ipython3",
   "version": "3.8.11"
  }
 },
 "nbformat": 4,
 "nbformat_minor": 5
}
