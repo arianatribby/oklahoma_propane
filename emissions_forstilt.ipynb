{
 "cells": [
  {
   "cell_type": "code",
   "execution_count": null,
   "id": "2c78e559-c2ae-45de-bce9-dacbdfd21a24",
   "metadata": {},
   "outputs": [],
   "source": [
    "import sys\n",
    "import csv\n",
    "import glob\n",
    "import pandas as pd\n",
    "import numpy as np\n",
    "\n",
    "import matplotlib.pyplot as plt\n",
    "\n",
    "import xarray as xr\n",
    "\n",
    "import matplotlib.colors as mcolors\n",
    "import geopandas as gpd\n",
    "from shapely.geometry import Point, box\n",
    "\n",
    "import hvplot.pandas  # noqa\n",
    "import hvplot.xarray  # noqa\n",
    "import shapely.geometry\n",
    "\n",
    "import holoviews as hv\n",
    "hv.extension('bokeh')\n",
    "\n",
    "import bokeh.io\n",
    "bokeh.io.output_notebook()\n"
   ]
  },
  {
   "cell_type": "code",
   "execution_count": null,
   "id": "41c235cc-93f3-47b6-8028-9c180fbbd4de",
   "metadata": {},
   "outputs": [],
   "source": [
    "sys.path.append('../../software_modules/')\n",
    "import integ_hemco_emissions"
   ]
  },
  {
   "cell_type": "markdown",
   "id": "89c84318-01f6-4de5-b40b-241061fbae23",
   "metadata": {},
   "source": [
    "The footprint area box you are using for STILT is \n",
    "-110\n",
    "-90\n",
    "20\n",
    "50\n",
    "xres = .1, yres = .1, 4km/111 = units of degree\n",
    "Remember that years of study are from 2017 - 2021 during june 1 - oct 1. I got all the well data from https://www.fractracker.org/map/us/"
   ]
  },
  {
   "cell_type": "markdown",
   "id": "524c2df4-3f32-4612-a4b8-1beda94d2e1a",
   "metadata": {},
   "source": [
    "# Try analyzing with Geopandas"
   ]
  },
  {
   "cell_type": "code",
   "execution_count": null,
   "id": "fcdcb19f-fccb-43ae-9c12-b32dcd4bc39e",
   "metadata": {},
   "outputs": [],
   "source": [
    "arkog = gpd.read_file(\"/Users/arianatribby/Documents/oklahoma_c3_c2/OGWells/AR_OG_AllWells_05032021/ArkansasOilandGasWells_05032021.shp\")"
   ]
  },
  {
   "cell_type": "code",
   "execution_count": null,
   "id": "168839eb-2d05-4ea2-bb3b-e260b77a96db",
   "metadata": {},
   "outputs": [],
   "source": [
    "colog = gpd.read_file(\"/Users/arianatribby/Documents/oklahoma_c3_c2/OGWells/CO_OilandGas_WELLS_SHP_110321/Wells.shp\")"
   ]
  },
  {
   "cell_type": "code",
   "execution_count": null,
   "id": "f28d7eae-7959-47c8-9915-c6b201e824fd",
   "metadata": {},
   "outputs": [],
   "source": [
    "kansog = gpd.read_file(\"/Users/arianatribby/Documents/oklahoma_c3_c2/OGWells/KS_SWD_WELLS_Volumes_End_2018_With_Excel_KML/KS_SWD_WELLS_Volumes_End_2018.shp\")"
   ]
  },
  {
   "cell_type": "code",
   "execution_count": null,
   "id": "0c6e2666-403e-4735-a090-ce2d38c7a494",
   "metadata": {},
   "outputs": [],
   "source": [
    "missog = gpd.read_file(\"/Users/arianatribby/Documents/oklahoma_c3_c2/OGWells/MO_OG_AllWells_04142021/MissouriWells.shp\")"
   ]
  },
  {
   "cell_type": "code",
   "execution_count": null,
   "id": "488dbd43-3317-49e4-ada6-b2d01d00875b",
   "metadata": {},
   "outputs": [],
   "source": [
    "newmexog = gpd.read_file(\"/Users/arianatribby/Documents/oklahoma_c3_c2/OGWells/NM_03152022_OGWells/WellsGIS/WellsGIS.shp\")\n"
   ]
  },
  {
   "cell_type": "code",
   "execution_count": null,
   "id": "f2833566-c4bb-4ac5-826f-c2914292a8d1",
   "metadata": {},
   "outputs": [],
   "source": [
    "oklaog = gpd.read_file(\"/Users/arianatribby/Documents/oklahoma_c3_c2/OGWells/OK_ClassII_2011_2018_Volumes_WithExcel/OK_ClassII_2011_2018_Volumes.shp\")"
   ]
  },
  {
   "cell_type": "code",
   "execution_count": null,
   "id": "16271506-29b2-4f4a-a950-783542062aca",
   "metadata": {},
   "outputs": [],
   "source": [
    "texasog = pd.read_csv(\"/Users/arianatribby/Documents/oklahoma_c3_c2/OGWells/TX_Prod5-8-2021/TX_OGwells_05082021.csv\")"
   ]
  },
  {
   "cell_type": "code",
   "execution_count": null,
   "id": "ae8d594c-c066-4e47-bcd2-4ba254ce4e40",
   "metadata": {},
   "outputs": [],
   "source": [
    "texasog.head()"
   ]
  },
  {
   "cell_type": "code",
   "execution_count": null,
   "id": "490a8406-3e14-41f9-be8f-5d1200207fa3",
   "metadata": {},
   "outputs": [],
   "source": [
    "# the text file that came with the data says these are in North American Datum 1983 ...maybe??\n",
    "# It says that nad27 were let go since nad83 were available, but it doesn't say whether they changed the units \n",
    "# to wgs for this dataset. I am assuming the later because when I build the geopandas using wgs, it keeps more of the \n",
    "# trailiing decimal points in the lat/lon. \n",
    "# Used the following site to get the reference codes: https://spatialreference.org, \n",
    "# where NAD1983 is here https://spatialreference.org/ref/epsg/2239/proj4js/\n",
    "# crs=\"EPSG:2239\" and wgs is 4326\n",
    "\n",
    "\n",
    "texasog_gdf = gpd.GeoDataFrame(texasog, \n",
    "            geometry=gpd.points_from_xy(texasog.LONG83, texasog.LAT83),\n",
    "            crs=\"EPSG:4326\")\n",
    "texasog_gdf.head()"
   ]
  },
  {
   "cell_type": "code",
   "execution_count": null,
   "id": "05be8e2e-f019-4db0-828c-12399a59f7a8",
   "metadata": {},
   "outputs": [],
   "source": [
    "texasog_gdf.crs"
   ]
  },
  {
   "cell_type": "markdown",
   "id": "54e5512a-059e-40d8-b28f-bf1de5408ec4",
   "metadata": {},
   "source": [
    "The oklahoma data has weird lat/lon values equal to 0, so I am removing those. \n",
    "ark, colog, kansog, missog, newmexlog and texas looks fine . \n"
   ]
  },
  {
   "cell_type": "code",
   "execution_count": null,
   "id": "07993a28-8aa5-44cf-9217-eac4965ca049",
   "metadata": {},
   "outputs": [],
   "source": [
    "oklaog.drop(np.where((oklaog.Latitude.values > 50) | (oklaog.Latitude.values < 20) | (oklaog.Longitude.values >= 0))[0], \n",
    "            inplace=True)\n",
    "\n"
   ]
  },
  {
   "cell_type": "code",
   "execution_count": null,
   "id": "6ef90e80-2bfa-47ff-8fb9-f311bf519d0b",
   "metadata": {},
   "outputs": [],
   "source": [
    "# from bokeh.sampledata.airport_routes import airports"
   ]
  },
  {
   "cell_type": "code",
   "execution_count": null,
   "id": "abf5d817-0515-4b55-89bf-07d8659f23d0",
   "metadata": {},
   "outputs": [],
   "source": [
    "# the crs tells the projection\n",
    "# note that the below thing is needed bc geopandas needs lat,lon in that order instead of lon,lat, which is what the \n",
    "# orig data order is in"
   ]
  },
  {
   "cell_type": "code",
   "execution_count": null,
   "id": "a8600fd9-0274-4456-9fba-05411eb939a2",
   "metadata": {},
   "outputs": [],
   "source": [
    "# geodata = pd.DataFrame(\n",
    "#     [\n",
    "#         [-88.355555, 30.757778],\n",
    "#         [-120.849722, 46.041111],\n",
    "#         [-113.8875, 8.12],\n",
    "#         [-173.24, 38.54],\n",
    "#         [-85.663611, 46.154444],\n",
    "#         [-98.3555, -119.1342],\n",
    "#         [-9.5932, -11.2836],\n",
    "#         [-3.2948, 38.2224],\n",
    "#         [36.2327, 29.3626],\n",
    "#         [3.3483, 47.5047],\n",
    "#     ],\n",
    "#     columns=[\"Longitude\", \"Latitude\"],\n",
    "# )\n",
    "\n",
    "# data_gdf = gpd.GeoDataFrame(\n",
    "#     geodata, geometry=gpd.points_from_xy(geodata[\"Longitude\"], geodata[\"Latitude\"])\n",
    "# )\n",
    "# data_gdf.plot()"
   ]
  },
  {
   "cell_type": "code",
   "execution_count": null,
   "id": "d204df9b-79af-40b5-b7fa-9ef5b4ba858b",
   "metadata": {},
   "outputs": [],
   "source": [
    "\n",
    "# idx = pd.date_range('1/1/2000', periods=1000)\n",
    "# df  = pd.DataFrame(np.random.randn(1000, 4), index=idx, columns=list('ABCD')).cumsum()\n",
    "# df.hvplot()"
   ]
  },
  {
   "cell_type": "code",
   "execution_count": null,
   "id": "76d757d1-b804-4a1b-a608-531162566a5f",
   "metadata": {},
   "outputs": [],
   "source": []
  },
  {
   "cell_type": "code",
   "execution_count": null,
   "id": "035d9c63-d56d-46e8-8bfd-9daac149cb76",
   "metadata": {},
   "outputs": [],
   "source": [
    "# oklaog.hvplot.points('Longitude', 'Latitude', geo=True, color='red', alpha=0.2,\n",
    "#                        xlim=(-180, -30), ylim=(20, 50), tiles='ESRI')"
   ]
  },
  {
   "cell_type": "markdown",
   "id": "704b440a-6a82-4c00-8f66-c41319081e94",
   "metadata": {},
   "source": [
    "### Put all wells onto a single geopandas frame\n",
    "Not all of the states have lat/lon as variables, but all of them do have geometry in lat/lon. Wgs84 is the most accurate and utilizes gps. The second most accurate spatial reference is nad83, followed by nad27. \n",
    "Checked here for the number to change to Wgs84 https://spatialreference.org. The number to change to wgs84 is 4326. I tried this and it worked, but for texas all of the points became identical when I had texas geopandas dataframe built in nad83. I then tried switching to Nad83 (num is 2239) for all states, and only texas plotted while all the other states didn't plot. When I did that, akansas data didn't change from units of meters to lat/lon whereas when I used the wgs84 it changed to lat/lon. I decided to create texas geopandas using wgs84 and switch all states to wgs84 and that worked. "
   ]
  },
  {
   "cell_type": "code",
   "execution_count": null,
   "id": "d4d662f2-9c54-49fe-aa59-7993ca01d3d1",
   "metadata": {},
   "outputs": [],
   "source": [
    "arkog = arkog.to_crs(4326)\n",
    "colog = colog.to_crs(4326)\n",
    "kansog = kansog.to_crs(4326)\n",
    "missog = missog.to_crs(4326)\n",
    "newmexog = newmexog.to_crs(4326)\n",
    "oklaog = oklaog.to_crs(4326)\n",
    "# texasog_gdf = texasog_gdf.to_crs(2239) # know for sure it is already in this format"
   ]
  },
  {
   "cell_type": "code",
   "execution_count": null,
   "id": "dca30c10-ba00-4d40-a960-16a3f4888641",
   "metadata": {},
   "outputs": [],
   "source": [
    "allwells_gdf = gpd.GeoDataFrame(pd.concat([arkog['geometry'], colog['geometry'], kansog['geometry'], missog['geometry'],\n",
    "                                          newmexog['geometry'], oklaog['geometry'], texasog_gdf['geometry']], \n",
    "                                          ignore_index=True), crs=arkog.crs)"
   ]
  },
  {
   "cell_type": "code",
   "execution_count": null,
   "id": "570fa239-d518-4fba-aa33-e9f5808ecb90",
   "metadata": {},
   "outputs": [],
   "source": [
    "allwells_gdf"
   ]
  },
  {
   "cell_type": "code",
   "execution_count": null,
   "id": "d9f5ccd5-cff1-45cd-8e2c-08bf6d60f9b1",
   "metadata": {},
   "outputs": [],
   "source": [
    "ax = allwells_gdf.plot(markersize=.1, figsize=(12, 8))\n",
    "\n",
    "xlim = ([-115, -50])\n",
    "ylim = ([25, 50])\n",
    "ax.set_xlim(xlim)\n",
    "ax.set_ylim(ylim)\n",
    "\n",
    "# plt.autoscale(False)\n",
    "world = gpd.read_file(gpd.datasets.get_path('naturalearth_lowres'))\n",
    "usa = world[world.name == \"United States of America\"]\n",
    "usa.to_crs(allwells_gdf.crs).plot(ax=ax, color='none', edgecolor='black')"
   ]
  },
  {
   "cell_type": "code",
   "execution_count": null,
   "id": "34b681f9-9358-4066-b55f-3ecb4d45af7a",
   "metadata": {},
   "outputs": [],
   "source": [
    "allwells_gdf.total_bounds"
   ]
  },
  {
   "cell_type": "markdown",
   "id": "cee0ac92-e472-4b58-841c-82f4d382e221",
   "metadata": {},
   "source": [
    "### Get the EPA .1 x .1 US emissions grid as a starting point\n",
    "From Maasakkers 2016 paper. They have daily and monthly too but I just want to use this for the lat/lon grid "
   ]
  },
  {
   "cell_type": "code",
   "execution_count": null,
   "id": "a4789102-b4a8-4dad-b166-3a6cd50cc139",
   "metadata": {},
   "outputs": [],
   "source": [
    "epagrid = xr.open_dataset('/Users/arianatribby/git/oklahoma_propane/data/EPA_methane_gridded/GEPA_Annual.nc')"
   ]
  },
  {
   "cell_type": "code",
   "execution_count": null,
   "id": "c007988d-f7a0-42d7-b525-c217b8dfe101",
   "metadata": {},
   "outputs": [],
   "source": [
    "len(epagrid.lat.values)"
   ]
  },
  {
   "cell_type": "code",
   "execution_count": null,
   "id": "9561f7ca-c4ba-4a61-a5c7-3d71cfc4c362",
   "metadata": {},
   "outputs": [],
   "source": [
    "len(epagrid.lon.values)"
   ]
  },
  {
   "cell_type": "code",
   "execution_count": null,
   "id": "835dfdf0-dcec-4257-a7e2-25a21aeaafec",
   "metadata": {},
   "outputs": [],
   "source": [
    "epadf = epagrid['emissions_1B2a_Petroleum'].to_dataframe().reset_index()"
   ]
  },
  {
   "cell_type": "markdown",
   "id": "16f6103e-99f9-48dd-9997-1e7cd8d2b32f",
   "metadata": {},
   "source": [
    "### Grid the wells onto .1 x .1 \n",
    "Using https://james-brennan.github.io/posts/fast_gridding_geopandas/  as reference"
   ]
  },
  {
   "cell_type": "code",
   "execution_count": null,
   "id": "a1ae6597-d9e3-45ca-89e6-953c738c3f5e",
   "metadata": {},
   "outputs": [],
   "source": [
    "p1byp1_grid_gdf = gpd.GeoDataFrame(epadf,\n",
    "                                   geometry=gpd.points_from_xy(epadf.lon, epadf.lat),\n",
    "            crs=\"EPSG:4326\")\n",
    "p1byp1_grid_gdf.head()"
   ]
  },
  {
   "cell_type": "code",
   "execution_count": null,
   "id": "36ec96bb-6da7-412c-b248-c3f54eb26d0b",
   "metadata": {},
   "outputs": [],
   "source": [
    "ax = p1byp1_grid_gdf.plot()\n",
    "xlim = ([-107.5, -105.0])\n",
    "ylim = ([28, 30])\n",
    "ax.set_xlim(xlim)\n",
    "ax.set_ylim(ylim)"
   ]
  },
  {
   "cell_type": "markdown",
   "id": "c3728057-9cd1-44eb-a479-ef0a37473de4",
   "metadata": {},
   "source": [
    "figure out how to make this mesh with just the vertices. "
   ]
  },
  {
   "cell_type": "markdown",
   "id": "60f1c9b8-3977-4555-b6a5-b80b116d9d95",
   "metadata": {},
   "source": [
    "#### Method 1, making cells from scratch using the bounds of the wellhead gdf \n",
    "Decided to use Method 2 below. "
   ]
  },
  {
   "cell_type": "code",
   "execution_count": null,
   "id": "be1324a6-81e3-4b5f-9d52-eab7a7ee126b",
   "metadata": {},
   "outputs": [],
   "source": [
    "# xmin, ymin, xmax, ymax= allwells_gdf.total_bounds"
   ]
  },
  {
   "cell_type": "code",
   "execution_count": null,
   "id": "fdbc5117-5a39-447e-acd8-ce057b3a6935",
   "metadata": {},
   "outputs": [],
   "source": [
    "# print(xmin)\n",
    "# print(xmax)\n",
    "# print(ymin)\n",
    "# print(ymax)"
   ]
  },
  {
   "cell_type": "code",
   "execution_count": null,
   "id": "572107a7-2209-488e-975d-b448768a3291",
   "metadata": {},
   "outputs": [],
   "source": [
    "# this number of cell size gives around .1 distance between lati and lati+1 which is what the epa grid is \n",
    "# 19.8745/197"
   ]
  },
  {
   "cell_type": "code",
   "execution_count": null,
   "id": "edd0e6fb-0dd8-46c5-8b2b-8682b1915fef",
   "metadata": {},
   "outputs": [],
   "source": [
    "# n_cells=197\n",
    "# cell_size = (xmax-xmin)/n_cells\n",
    "# # projection of the grid\n",
    "# crs = \"EPSG:4326\"\n",
    "# # create the cells in a loop\n",
    "# grid_cells = []\n",
    "# for x0 in np.arange(xmin, xmax+cell_size, cell_size ):\n",
    "#     for y0 in np.arange(ymin, ymax+cell_size, cell_size):\n",
    "#         # bounds\n",
    "#         x1 = x0-cell_size\n",
    "#         y1 = y0+cell_size\n",
    "#         grid_cells.append( shapely.geometry.box(x0, y0, x1, y1)  )\n",
    "# cell = gpd.GeoDataFrame(grid_cells, columns=['geometry'], \n",
    "#                                  crs=crs)"
   ]
  },
  {
   "cell_type": "markdown",
   "id": "40fe256b-e0d1-4fd5-92eb-6103ad1b4578",
   "metadata": {},
   "source": [
    "In the figure below (that is commented), you can see that the uncertainty adds up. \n",
    "\n"
   ]
  },
  {
   "cell_type": "code",
   "execution_count": null,
   "id": "c11b9e95-f8f5-4e9c-a12d-448aaf7e64b5",
   "metadata": {},
   "outputs": [],
   "source": [
    "# fig, ax = plt.subplots(figsize = (10,10)) \n",
    "# xlim = ([-107.5, -105.0])\n",
    "# ylim = ([28, 30])\n",
    "# ax.set_xlim(xlim)\n",
    "# ax.set_ylim(ylim)\n",
    "# cell.plot(facecolor=\"none\",ax=ax)\n",
    "# p1byp1_grid_gdf.plot(ax=ax)\n"
   ]
  },
  {
   "cell_type": "code",
   "execution_count": null,
   "id": "41a15470-100b-4900-9a31-eb58f7086307",
   "metadata": {},
   "outputs": [],
   "source": [
    "# how many cells across and down\n",
    "# n_cells=30\n",
    "# cell_size = (xmax-xmin)/n_cells\n",
    "# # projection of the grid\n",
    "# crs = \"+proj=sinu +lon_0=0 +x_0=0 +y_0=0 +a=6371007.181 +b=6371007.181 +units=m +no_defs\"\n",
    "# # create the cells in a loop\n",
    "# grid_cells = []\n",
    "# for x0 in np.arange(xmin, xmax+cell_size, cell_size ):\n",
    "#     for y0 in np.arange(ymin, ymax+cell_size, cell_size):\n",
    "#         # bounds\n",
    "#         x1 = x0-cell_size\n",
    "#         y1 = y0+cell_size\n",
    "#         grid_cells.append( shapely.geometry.box(x0, y0, x1, y1)  )\n",
    "# cell2 = gpd.GeoDataFrame(grid_cells, columns=['geometry'], \n",
    "#                                  crs=crs)"
   ]
  },
  {
   "cell_type": "code",
   "execution_count": null,
   "id": "96eb0add-b236-43a7-9b33-59072187c58d",
   "metadata": {},
   "outputs": [],
   "source": [
    "# cell2"
   ]
  },
  {
   "cell_type": "code",
   "execution_count": null,
   "id": "64f63413-a0e6-4567-b191-7db2db7fc155",
   "metadata": {},
   "outputs": [],
   "source": [
    "# cell2.loc[[0],'geometry']"
   ]
  },
  {
   "cell_type": "markdown",
   "id": "f71f07bb-b0f6-498b-8e6c-6c4fb483f8d7",
   "metadata": {},
   "source": [
    "#### Method 2: Create grid from the EPA lat/lon points (ie draw a box from them)\n",
    "But you don't need the entire US grid, cut off at the wellhead gdf endpoints"
   ]
  },
  {
   "cell_type": "code",
   "execution_count": null,
   "id": "22b7c985-82df-4b32-a255-a1259b7fcf14",
   "metadata": {},
   "outputs": [],
   "source": [
    "xmin, ymin, xmax, ymax= allwells_gdf.total_bounds\n",
    "\n",
    "print(ymin)\n",
    "print(ymax)\n",
    "print(xmin)\n",
    "print(xmax)"
   ]
  },
  {
   "cell_type": "code",
   "execution_count": null,
   "id": "1292f6a7-16a6-4f53-bee6-45ec39b92411",
   "metadata": {},
   "outputs": [],
   "source": [
    "p1byp1_lat = epagrid.lat.values\n",
    "p1byp1_lon = epagrid.lon.values\n"
   ]
  },
  {
   "cell_type": "code",
   "execution_count": null,
   "id": "419d24fd-e598-47f7-8867-81836809154e",
   "metadata": {},
   "outputs": [],
   "source": [
    "p1byp1_lat = p1byp1_lat[(p1byp1_lat >= ymin) | (p1byp1_lat <= ymax)]"
   ]
  },
  {
   "cell_type": "code",
   "execution_count": null,
   "id": "bbeb98ee-f2b3-42f2-be2d-cd4c52c80a99",
   "metadata": {},
   "outputs": [],
   "source": [
    "p1byp1_lon = p1byp1_lon[(p1byp1_lon >= xmin) | (p1byp1_lon <= xmax)]"
   ]
  },
  {
   "cell_type": "code",
   "execution_count": null,
   "id": "26088aec-e64b-427d-8c36-da1a2101c165",
   "metadata": {},
   "outputs": [],
   "source": [
    "crs = \"EPSG:4326\"\n",
    "\n",
    "grid_cells = []\n",
    "for i in range(len(p1byp1_lon)-1):\n",
    "    for j in range(len(p1byp1_lat)-1):\n",
    "        x0 = p1byp1_lon[i]\n",
    "        x1 = p1byp1_lon[i+1]\n",
    "        y0 = p1byp1_lat[j]\n",
    "        y1 = p1byp1_lat[j+1]\n",
    "        grid_cells.append( shapely.geometry.box(x0, y0, x1, y1))\n",
    "cell = gpd.GeoDataFrame(grid_cells, columns=['geometry'], crs=crs)\n"
   ]
  },
  {
   "cell_type": "code",
   "execution_count": null,
   "id": "7def2357-f661-4368-938e-1c6c45c6e778",
   "metadata": {},
   "outputs": [],
   "source": [
    "cell.tail()"
   ]
  },
  {
   "cell_type": "code",
   "execution_count": null,
   "id": "ca2fc802-9768-413b-a153-c87fbec05a32",
   "metadata": {},
   "outputs": [],
   "source": [
    "print(len(cell))"
   ]
  },
  {
   "cell_type": "code",
   "execution_count": null,
   "id": "09968cf8-7b90-47d6-bd00-f4efe4ad1b5e",
   "metadata": {},
   "outputs": [],
   "source": [
    "fig, ax = plt.subplots(figsize = (5,5)) \n",
    "# zooming in to a small section of the grid you made!\n",
    "xlim = ([-107.5, -105.0])\n",
    "ylim = ([28, 30])\n",
    "ax.set_xlim(xlim)\n",
    "ax.set_ylim(ylim)\n",
    "cell.plot(facecolor=\"none\",ax=ax)\n",
    "p1byp1_grid_gdf.plot(ax=ax)\n"
   ]
  },
  {
   "cell_type": "code",
   "execution_count": null,
   "id": "ce566f4e-8425-42f9-b919-6302ffbc8492",
   "metadata": {},
   "outputs": [],
   "source": [
    "cell.loc[[0],'geometry']"
   ]
  },
  {
   "cell_type": "markdown",
   "id": "81118319-fd20-45ec-93af-c0428ee2f0e2",
   "metadata": {},
   "source": [
    "#### Get density of wells per .1x.1 square\n",
    "Using this as a reference https://james-brennan.github.io/posts/fast_gridding_geopandas/ "
   ]
  },
  {
   "cell_type": "markdown",
   "id": "580ff0ab-e07b-4858-9ee0-67dfdfcbcd06",
   "metadata": {},
   "source": [
    "Merge the cell with the wellhead points according to geometries in cell (within the cell) "
   ]
  },
  {
   "cell_type": "code",
   "execution_count": null,
   "id": "c763dbfd-5fee-4ccd-abcb-2be5ed5d43f4",
   "metadata": {},
   "outputs": [],
   "source": [
    "# merged = gpd.sjoin(allwells_gdf, cell, how='left', op='within')\n",
    "merged = gpd.sjoin(allwells_gdf, cell, how='left', predicate='within')"
   ]
  },
  {
   "cell_type": "code",
   "execution_count": null,
   "id": "7bcb56a3-f272-4245-875f-42e6841fce9c",
   "metadata": {},
   "outputs": [],
   "source": [
    "merged"
   ]
  },
  {
   "cell_type": "code",
   "execution_count": null,
   "id": "e0b2bf78-008c-44e2-ad73-1a3bea61e240",
   "metadata": {},
   "outputs": [],
   "source": [
    "print(len(merged))\n",
    "print(len(allwells_gdf))\n"
   ]
  },
  {
   "cell_type": "markdown",
   "id": "fc507aca-7ed9-40ee-930a-529e05c7d123",
   "metadata": {},
   "source": [
    "Now count the number of wells within each grid cell. Aggregate the merged so the number of rows for each grid cell is counted. This aggregation is called \"dissolving\" in geopandas (making data more sparse). "
   ]
  },
  {
   "cell_type": "code",
   "execution_count": null,
   "id": "117e4341-2871-4b06-8800-35baefe8eba9",
   "metadata": {},
   "outputs": [],
   "source": [
    "# make a simple count variable that we can sum\n",
    "merged['n_wells']=1\n",
    "# Compute stats per grid cell -- aggregate wells to grid cells with dissolve\n",
    "dissolved_aggregation = merged.dissolve(by=\"index_right\", aggfunc=\"count\")\n"
   ]
  },
  {
   "cell_type": "code",
   "execution_count": null,
   "id": "f45ea5e7-03db-4f92-a9b0-40b17a14df96",
   "metadata": {},
   "outputs": [],
   "source": [
    "print(len(dissolved_aggregation))\n",
    "dissolved_aggregation"
   ]
  },
  {
   "cell_type": "code",
   "execution_count": null,
   "id": "532d20a6-063c-4dc9-a2ee-e9270d90c21f",
   "metadata": {},
   "outputs": [],
   "source": [
    "dissolved_aggregation.index"
   ]
  },
  {
   "cell_type": "code",
   "execution_count": null,
   "id": "267ab281-0e86-478f-a0d1-ca210f5d4eec",
   "metadata": {},
   "outputs": [],
   "source": [
    "max(dissolved_aggregation.index) - min(dissolved_aggregation.index)"
   ]
  },
  {
   "cell_type": "code",
   "execution_count": null,
   "id": "5105d089-78da-4d63-b2c7-4d6d442ebdd0",
   "metadata": {},
   "outputs": [],
   "source": [
    "len(dissolved_aggregation)"
   ]
  },
  {
   "cell_type": "markdown",
   "id": "33b38263-0d57-4f5e-8e7f-fb267082d9e1",
   "metadata": {},
   "source": [
    "How did the loc work? "
   ]
  },
  {
   "cell_type": "code",
   "execution_count": null,
   "id": "1dac3255-60f5-4171-8e69-315b77336b5e",
   "metadata": {},
   "outputs": [],
   "source": [
    "# put this into cell\n",
    "cell.loc[dissolved_aggregation.index, 'n_wells'] = dissolved_aggregation.n_wells.values"
   ]
  },
  {
   "cell_type": "code",
   "execution_count": null,
   "id": "ef283cf6-1ed9-4f58-b875-e62de14f5bed",
   "metadata": {},
   "outputs": [],
   "source": [
    "print(len(cell))\n",
    "max(dissolved_aggregation.n_wells)"
   ]
  },
  {
   "cell_type": "code",
   "execution_count": null,
   "id": "14f2d40c-7067-45a2-946b-f81cfaab035d",
   "metadata": {},
   "outputs": [],
   "source": [
    "dissolved_aggregation.index.values"
   ]
  },
  {
   "cell_type": "code",
   "execution_count": null,
   "id": "aabf33db-a81c-45ac-b575-dba7f59d26f8",
   "metadata": {},
   "outputs": [],
   "source": [
    "cell.loc[dissolved_aggregation.index.values]"
   ]
  },
  {
   "cell_type": "code",
   "execution_count": null,
   "id": "79b01879-1823-473a-aba7-cfa60cdbcd3d",
   "metadata": {},
   "outputs": [],
   "source": [
    "cell.loc[dissolved_aggregation.index]"
   ]
  },
  {
   "cell_type": "code",
   "execution_count": null,
   "id": "25ba4634-02a5-4471-a975-d91d2d87bb2d",
   "metadata": {},
   "outputs": [],
   "source": [
    "fig = plt.figure()\n",
    "ax = cell.plot(column='n_wells', figsize=(12, 8), cmap='viridis', vmax=3000, legend=True)\n",
    "\n",
    "xlim = ([-107.5, -105.0])\n",
    "ylim = ([28, 30])\n",
    "ax.set_xlim(xlim)\n",
    "ax.set_ylim(ylim)\n",
    "\n",
    "cell.plot(facecolor=\"none\",ax=ax)\n",
    "p1byp1_grid_gdf.plot(ax=ax)\n",
    "\n",
    "plt.show()"
   ]
  },
  {
   "cell_type": "code",
   "execution_count": null,
   "id": "44dd1fa4-6ce9-4ec8-801a-5d9cb83bd725",
   "metadata": {},
   "outputs": [],
   "source": [
    "fig = plt.figure()\n",
    "# ax = dissolved_aggregation.plot(column='n_wells', figsize=(12, 8), cmap='viridis', vmax=3000, legend=True)\n",
    "ax = cell.plot(column='n_wells', figsize=(12, 8), cmap='viridis', vmax=3000, legend=True)\n",
    "\n",
    "\n",
    "xlim = ([-115, -80])\n",
    "ylim = ([25, 50])\n",
    "ax.set_xlim(xlim)\n",
    "ax.set_ylim(ylim)\n",
    "\n",
    "world = gpd.read_file(gpd.datasets.get_path('naturalearth_lowres'))\n",
    "usa = world[world.name == \"United States of America\"]\n",
    "usa.to_crs(allwells_gdf.crs).plot(ax=ax, color='none', edgecolor='black')\n",
    "# fig.savefig('well_density.png')\n",
    "\n",
    "plt.savefig(\"well_density.png\")\n",
    "plt.show()"
   ]
  },
  {
   "cell_type": "markdown",
   "id": "3cf3a0a2-d12e-4978-aff4-e4a052b922d4",
   "metadata": {},
   "source": [
    "Plot the grid on top? How do you know that they fit in each cell? "
   ]
  },
  {
   "cell_type": "markdown",
   "id": "b1156ab4-adad-4b4e-8df4-e1465f060dd2",
   "metadata": {},
   "source": [
    "### Get your revised emissions for ethane, methane, propane \n",
    "The commented stuff is a test before you did it for all years. It was using old unscaled hemco emissions"
   ]
  },
  {
   "cell_type": "code",
   "execution_count": null,
   "id": "63db3b9e-9f7b-4b56-ba3c-6a77d5b07e04",
   "metadata": {},
   "outputs": [],
   "source": [
    "gcemiss = xr.open_dataset('/Users/arianatribby/git/propane_bayes_local/data/HEMCO_output/HEMCO_diagnostics.201607010000.nc.mp')\n",
    "\n"
   ]
  },
  {
   "cell_type": "code",
   "execution_count": null,
   "id": "805ca277-8f3d-43c5-adad-c8475a5dadea",
   "metadata": {},
   "outputs": [],
   "source": [
    "# gcemiss.lat"
   ]
  },
  {
   "cell_type": "code",
   "execution_count": null,
   "id": "1bbc69f6-fc47-4cb2-a31a-36b85dac73b0",
   "metadata": {},
   "outputs": [],
   "source": [
    "lat_fromgcemiss_ofinterest = gcemiss.lat.values\n",
    "lon_fromgcemiss_ofinterest = gcemiss.lon.values"
   ]
  },
  {
   "cell_type": "markdown",
   "id": "06f0e560-9c2c-443c-9d37-5eefdadfe535",
   "metadata": {},
   "source": [
    "Compare this to the well area "
   ]
  },
  {
   "cell_type": "code",
   "execution_count": null,
   "id": "ed4c0cc0-c454-40b3-8a1d-7956493cd968",
   "metadata": {},
   "outputs": [],
   "source": [
    "xmin, ymin, xmax, ymax= allwells_gdf.total_bounds"
   ]
  },
  {
   "cell_type": "code",
   "execution_count": null,
   "id": "22b1bdb7-07d4-4206-a034-4258fde4dfb2",
   "metadata": {},
   "outputs": [],
   "source": [
    "print(xmin)\n",
    "print(xmax)\n",
    "print(ymin)\n",
    "print(ymax)"
   ]
  },
  {
   "cell_type": "code",
   "execution_count": null,
   "id": "48ee1383-b865-4f38-a311-30b50f46829c",
   "metadata": {},
   "outputs": [],
   "source": [
    "# list(lat_fromgcemiss_ofinterest[(lat_fromgcemiss_ofinterest >= 20) & (lat_fromgcemiss_ofinterest <= 42)])"
   ]
  },
  {
   "cell_type": "code",
   "execution_count": null,
   "id": "2ad0e214-edd0-4146-bdc4-96225b3aa703",
   "metadata": {},
   "outputs": [],
   "source": [
    "# list(lon_fromgcemiss_ofinterest[(lon_fromgcemiss_ofinterest >= -110) & (lon_fromgcemiss_ofinterest <= -85)])"
   ]
  },
  {
   "cell_type": "code",
   "execution_count": null,
   "id": "a7d58c0f-5e19-4a88-8b82-206dfb51098a",
   "metadata": {},
   "outputs": [],
   "source": [
    "gcC3H8_footprintregion = gcemiss.sel(lat=list(lat_fromgcemiss_ofinterest[(lat_fromgcemiss_ofinterest >= 20) & (lat_fromgcemiss_ofinterest <= 42)]), \n",
    "                            lon=list(lon_fromgcemiss_ofinterest[(lon_fromgcemiss_ofinterest >= -110) & (lon_fromgcemiss_ofinterest <= -85)]))"
   ]
  },
  {
   "cell_type": "code",
   "execution_count": null,
   "id": "a8b4ccbd-6469-44a9-99fb-cdaa1464c716",
   "metadata": {},
   "outputs": [],
   "source": [
    "gcC3H8_integ_072016 = integ_hemco_emissions.integ(gcC3H8_footprintregion,'EmisC3H8_Anthro',1)"
   ]
  },
  {
   "cell_type": "code",
   "execution_count": null,
   "id": "3c83636b-eec0-475b-9fc2-28519dccbb82",
   "metadata": {},
   "outputs": [],
   "source": [
    "time = 60*60*24*365"
   ]
  },
  {
   "cell_type": "code",
   "execution_count": null,
   "id": "770bbf59-2f66-473e-ac2b-781352eea001",
   "metadata": {},
   "outputs": [],
   "source": [
    "print(gcC3H8_integ_072016*time*1e-9)\n",
    "print(gcC3H8_integ_072016*time*1e-9*1.3)\n",
    "\n"
   ]
  },
  {
   "cell_type": "markdown",
   "id": "6f6ad072-601b-458b-8fa9-b22f8fc81f6c",
   "metadata": {},
   "source": [
    "and that is Tg/yr manually scaled since these are old, unscaled emiss. This is not methane! This is propane. C3 to C1 is .17 from previous paper. Using this emission factor, this implies 3.18 Tg/yr methane from this region. This is reasonable (perhaps underestimating slightly) since there was that paper that estimated permian emits 3 Tg/yr methane. "
   ]
  },
  {
   "cell_type": "markdown",
   "id": "de127c01-edc4-4d69-bd8f-cd8413f18d4a",
   "metadata": {},
   "source": [
    "## Emissions based on Permian Basin\n",
    "\n",
    "2020 satellite study found Permian emits 2.7 Tg/year. Paul suggests to get an emission rate for all wells that is the same based on the permian only. they use the domain of 29-34 lat, 100-106W lon. \n",
    "\n",
    "Zhang, Y. et al. Quantifying methane emissions from the largest oil-producing basin in the United States from space. Sci. Adv. 6, eaaz5120 (2020)."
   ]
  },
  {
   "cell_type": "code",
   "execution_count": null,
   "id": "62fedf73-7139-46d1-9f07-659a5c39b902",
   "metadata": {},
   "outputs": [],
   "source": [
    "print(allwells_gdf.total_bounds)"
   ]
  },
  {
   "cell_type": "code",
   "execution_count": null,
   "id": "814a9ee7-3905-4a9c-b183-948998668fe3",
   "metadata": {},
   "outputs": [],
   "source": [
    "allwells_gdf.cx[-106:-100, 29:34].total_bounds"
   ]
  },
  {
   "cell_type": "code",
   "execution_count": null,
   "id": "b57910ea-c841-4cdf-a61a-486a541352fe",
   "metadata": {},
   "outputs": [],
   "source": [
    "# try using cx \n",
    "permianwells = allwells_gdf.cx[-106:-100, 29:34]"
   ]
  },
  {
   "cell_type": "code",
   "execution_count": null,
   "id": "acf86f2b-300c-47c0-be3b-c8f4c291ae90",
   "metadata": {},
   "outputs": [],
   "source": [
    "dissolved_aggregation.total_bounds"
   ]
  },
  {
   "cell_type": "code",
   "execution_count": null,
   "id": "53179d7b-7137-4c27-8dd9-38a83fa6ec74",
   "metadata": {},
   "outputs": [],
   "source": [
    "dissolved_aggregation.cx[-106:-100, 29:34].total_bounds"
   ]
  },
  {
   "cell_type": "code",
   "execution_count": null,
   "id": "7028d98d-fbd5-40de-8a9e-711fdbd420e3",
   "metadata": {},
   "outputs": [],
   "source": [
    "permianwell_density = dissolved_aggregation.cx[-106:-100, 29:34]"
   ]
  },
  {
   "cell_type": "markdown",
   "id": "d8f8a691-6b83-45b6-ba3b-c64b9e028022",
   "metadata": {},
   "source": [
    "Zhang et al esimated 2.7 +/- 0.5 Tg/year for permian emissions. "
   ]
  },
  {
   "cell_type": "markdown",
   "id": "02b81e26-9387-435d-83d7-d55bec794066",
   "metadata": {},
   "source": [
    "Going to adopt the error of 0.5 Tg/yr as in Zhang et al. for the methane above. "
   ]
  },
  {
   "cell_type": "markdown",
   "id": "fafd4c8b-694e-4827-9c55-c24ebdf7b85b",
   "metadata": {},
   "source": [
    "Assuming a normal distribution for both emissions and emission ratios, combining the error via error propagation for the C3 and C2 emissions. "
   ]
  },
  {
   "cell_type": "markdown",
   "id": "61b276e0-fe64-412a-82c3-ec3c7ab04a55",
   "metadata": {},
   "source": [
    "Here are the NOAA ratios after doing bootstrap (Figure S21, the code is in \n",
    "\n",
    "git/Peer comments review C3 bayes paper/Plots_NOAAbootstrpGeophserr.ipynb\n",
    "\n",
    "```\n",
    "[0.1653053 0.1687432] c3/c1 2017 SGP masss/mass 95% ci\n",
    "[0.16165111 0.16478708] C2/C1 2017 SGP mass/mass 95% ci \n",
    "\n",
    "0.0017302837807093435 c3/c1 2017 standard deviation SGP masss/mass\n",
    "0.0015725221005948586 C2/C1 2017 standard deviation SGP mass/mass\n",
    "\n",
    "0.16696523848130124 c3/c1 2017 mean SGP masss/mass\n",
    "0.16335588804346804 C2/C1 2017 mean SGP mass/mass\n",
    "```\n"
   ]
  },
  {
   "cell_type": "code",
   "execution_count": null,
   "id": "654d4e92-35e6-494d-b97b-981e36893373",
   "metadata": {},
   "outputs": [],
   "source": [
    "# tot err = sqrt( (std/mean ratio)**2 + (emiss err/mean zhang emiss)**2 )\n",
    "propagated_err_for_c3 = np.sqrt((0.0017302837807093435/0.16696523848130124)**2 + (0.5/2.7)**2)\n",
    "propagated_err_for_c2 = np.sqrt((0.0015725221005948586/0.16335588804346804)**2 + (0.5/2.7)**2)"
   ]
  },
  {
   "cell_type": "code",
   "execution_count": null,
   "id": "585a4fc0-b9f3-4101-b9ef-2651adc8a62c",
   "metadata": {},
   "outputs": [],
   "source": [
    "permianTgyr_propane = (2.7)*0.16696523848130124\n",
    "permianTgyr_ethane = (2.7)*0.16335588804346804"
   ]
  },
  {
   "cell_type": "code",
   "execution_count": null,
   "id": "ed331e6a-c645-4ae1-b1e3-9959a422a150",
   "metadata": {},
   "outputs": [],
   "source": [
    "print('2.7', '+/', '0.5', 'Tg/s')\n",
    "print(permianTgyr_ethane, '+/-', propagated_err_for_c2, 'Tg/s')\n",
    "print(permianTgyr_propane, '+/-', propagated_err_for_c3, 'Tg/s')"
   ]
  },
  {
   "cell_type": "markdown",
   "id": "8ce4a9dd-c349-4b06-9d87-b374f3c83464",
   "metadata": {},
   "source": [
    "Get the emissions per well (and the error per well)"
   ]
  },
  {
   "cell_type": "code",
   "execution_count": null,
   "id": "9903e79e-d8ff-490d-b04d-a09d59fb6c79",
   "metadata": {},
   "outputs": [],
   "source": [
    "permianTgyr_methaneperwell = 2.7/sum(permianwell_density.n_wells.values)\n",
    "permianTgyr_methaneperwell_error = 0.5/sum(permianwell_density.n_wells.values)\n",
    "\n",
    "permianTgyr_propaneperwell = permianTgyr_propane/sum(permianwell_density.n_wells.values)\n",
    "permianTgyr_propaneperwell_error = propagated_err_for_c3/sum(permianwell_density.n_wells.values)\n",
    "\n",
    "permianTgyr_ethaneperwell = permianTgyr_ethane/sum(permianwell_density.n_wells.values)\n",
    "permianTgyr_ethaneperwell_error = propagated_err_for_c2/sum(permianwell_density.n_wells.values)\n",
    "\n",
    "print(permianTgyr_methaneperwell, '+/', permianTgyr_methaneperwell_error, 'Tg/yr')\n",
    "print(permianTgyr_propaneperwell, '+/-', permianTgyr_propaneperwell_error, 'Tg/yr')\n",
    "print(permianTgyr_ethaneperwell, '+/-', permianTgyr_ethaneperwell_error, 'Tg/yr')\n"
   ]
  },
  {
   "cell_type": "markdown",
   "id": "7f715a0b-dab3-438e-94a6-d1b069c89683",
   "metadata": {},
   "source": [
    "Convert this to kg/s to be relevant for the inversion. "
   ]
  },
  {
   "cell_type": "code",
   "execution_count": null,
   "id": "a7117523-bef3-4a04-a4a0-a02e9aa1d8fb",
   "metadata": {},
   "outputs": [],
   "source": [
    "permiankgs_methaneperwell = permianTgyr_methaneperwell*1e9/time\n",
    "permiankgs_methaneperwell_error = permianTgyr_methaneperwell_error*1e9/time\n",
    "\n",
    "permiankgs_propaneperwell = permianTgyr_propaneperwell*1e9/time\n",
    "permiankgs_propaneperwell_error = permianTgyr_propaneperwell_error*1e9/time\n",
    "\n",
    "permiankgs_ethaneperwell = permianTgyr_ethaneperwell*1e9/time\n",
    "permiankgs_ethaneperwell_error = permianTgyr_ethaneperwell_error*1e9/time\n"
   ]
  },
  {
   "cell_type": "code",
   "execution_count": null,
   "id": "174fc55c-0ba1-475b-86c5-271073979456",
   "metadata": {},
   "outputs": [],
   "source": [
    "cell['ch4_emiss_kgs'] = cell['n_wells']*permiankgs_methaneperwell\n",
    "cell['ch4_emiss_kgs_unc'] = cell['n_wells']*permiankgs_methaneperwell_error\n",
    "\n",
    "cell['c3h8_emiss_kgs'] = cell['n_wells']*permiankgs_propaneperwell\n",
    "cell['c3h8_emiss_kgs_unc'] = cell['n_wells']*permiankgs_propaneperwell_error\n",
    "\n",
    "cell['c2h6_emiss_kgs'] = cell['n_wells']*permiankgs_ethaneperwell\n",
    "cell['c2h6_emiss_kgs_unc'] = cell['n_wells']*permiankgs_ethaneperwell_error"
   ]
  },
  {
   "cell_type": "code",
   "execution_count": null,
   "id": "0861233f-b9f1-4978-a0fe-3f115113cbfd",
   "metadata": {},
   "outputs": [],
   "source": [
    "print('number of wells in footprint area:', cell['n_wells'].sum())\n",
    "print('CH4 kg per second rate footprint area:', cell['ch4_emiss_kgs'].sum())\n",
    "print('CH4 Tg/yr footprint area:', cell['ch4_emiss_kgs'].sum()*1e-9*time)\n",
    "print('CH4 Tg/yr uncertainty footprint area:', cell['ch4_emiss_kgs_unc'].sum()*1e-9*time)\n",
    "\n",
    "print('C3H8 Tg/yr footprint area:', cell['c3h8_emiss_kgs'].sum()*1e-9*time)\n",
    "print('C3H8 Tg/yr uncertainty footprint area:', cell['c3h8_emiss_kgs_unc'].sum()*1e-9*time)\n",
    "\n",
    "print('C2H6 Tg/yr footprint area:', cell['c2h6_emiss_kgs'].sum()*1e-9*time)\n",
    "print('C2H6 Tg/yr uncertainty footprint area:', cell['c2h6_emiss_kgs_unc'].sum()*1e-9*time)\n"
   ]
  },
  {
   "cell_type": "code",
   "execution_count": null,
   "id": "711eecfe-579b-4aac-98c9-807813c619d4",
   "metadata": {},
   "outputs": [],
   "source": [
    "explodeddf = cell.explode(index_parts=True)"
   ]
  },
  {
   "cell_type": "code",
   "execution_count": null,
   "id": "46f8ba97-4952-49ba-9ce6-0fc000d1f59c",
   "metadata": {},
   "outputs": [],
   "source": [
    "explodeddf.head()"
   ]
  },
  {
   "cell_type": "code",
   "execution_count": null,
   "id": "c8d229a5-96fa-47fc-98c4-e39a564616f7",
   "metadata": {},
   "outputs": [],
   "source": [
    "cell.to_file('/Users/arianatribby/git/oklahoma_propane/data/processing/wellhead_emiss_for_footprint.shp')"
   ]
  },
  {
   "cell_type": "markdown",
   "id": "31fec3a8-692b-4dde-a54b-425e3f258550",
   "metadata": {},
   "source": [
    "check that it worked "
   ]
  },
  {
   "cell_type": "code",
   "execution_count": null,
   "id": "2203ef39-ac3c-4457-b973-ac34a79a5aca",
   "metadata": {},
   "outputs": [],
   "source": [
    "emisscheck = gpd.read_file(\"/Users/arianatribby/git/oklahoma_propane/data/processing/wellhead_emiss_for_footprint.shp\")\n"
   ]
  },
  {
   "cell_type": "code",
   "execution_count": null,
   "id": "766fafb5-147f-4e1b-bdbf-9d8fc65bcdb6",
   "metadata": {},
   "outputs": [],
   "source": [
    "emisscheck.columns"
   ]
  },
  {
   "cell_type": "code",
   "execution_count": null,
   "id": "18332727-0eb1-4f65-ac81-8f39d9afb257",
   "metadata": {},
   "outputs": [],
   "source": [
    "np.nanmax(emisscheck['ch4_emiss_'])"
   ]
  },
  {
   "cell_type": "markdown",
   "id": "2c23b2d2-48f4-4c57-bb44-b1c1117fb8aa",
   "metadata": {},
   "source": [
    "Got the US state shp file from https://www.census.gov/cgi-bin/geo/shapefiles/index.php?year=2022&layergroup=States+%28and+equivalent%29 "
   ]
  },
  {
   "cell_type": "code",
   "execution_count": null,
   "id": "232c7637-0f9d-4c77-a3aa-dda96fedab02",
   "metadata": {},
   "outputs": [],
   "source": [
    "us_states = gpd.read_file(\"/Users/arianatribby/git/oklahoma_propane/data/processing/tl_2022_us_state/tl_2022_us_state.shp\")\n",
    "us_states = us_states.to_crs(\"EPSG:4326\")"
   ]
  },
  {
   "cell_type": "code",
   "execution_count": null,
   "id": "08d29d89-ef6a-42b6-a9ba-179626cfd94e",
   "metadata": {},
   "outputs": [],
   "source": [
    "non_continental = ['HI','VI','MP','GU','AK','AS','PR']\n",
    "us49 = us_states\n",
    "for n in non_continental:\n",
    "    us49 = us49[us49.STUSPS != n]"
   ]
  },
  {
   "cell_type": "code",
   "execution_count": null,
   "id": "189d4a49-896e-410b-8634-06e78c725774",
   "metadata": {},
   "outputs": [],
   "source": [
    "fig = plt.figure()\n",
    "# ax = dissolved_aggregation.plot(column='n_wells', figsize=(12, 8), cmap='viridis', vmax=3000, legend=True)\n",
    "ax = emisscheck.plot(column='ch4_emiss_', figsize=(12, 8), cmap='viridis', legend=True, \n",
    "                     legend_kwds={'label':'CH4 kg/s'})\n",
    "\n",
    "\n",
    "xlim = ([-115, -80])\n",
    "ylim = ([25, 50])\n",
    "ax.set_xlim(xlim)\n",
    "ax.set_ylim(ylim)\n",
    "\n",
    "us49.boundary.plot(ax=ax, edgecolor='black')\n",
    "\n",
    "# world = gpd.read_file(gpd.datasets.get_path('naturalearth_lowres'))\n",
    "# usa = world[world.name == \"United States of America\"]\n",
    "# usa.to_crs(allwells_gdf.crs).plot(ax=ax, color='none', edgecolor='black')\n",
    "plt.savefig('ch4_emiss_kgpers.png')\n",
    "\n",
    "plt.show()"
   ]
  },
  {
   "cell_type": "code",
   "execution_count": null,
   "id": "173f6811-27f2-4847-b43a-87eb908c71b9",
   "metadata": {},
   "outputs": [],
   "source": [
    "fig = plt.figure()\n",
    "# ax = dissolved_aggregation.plot(column='n_wells', figsize=(12, 8), cmap='viridis', vmax=3000, legend=True)\n",
    "ax = emisscheck.plot(column='c2h6_emiss', figsize=(12, 8), cmap='viridis', legend=True, \n",
    "                     legend_kwds={'label':'C2H6 kg/s'})\n",
    "\n",
    "\n",
    "xlim = ([-115, -80])\n",
    "ylim = ([25, 50])\n",
    "ax.set_xlim(xlim)\n",
    "ax.set_ylim(ylim)\n",
    "\n",
    "us49.boundary.plot(ax=ax, edgecolor='black')\n",
    "\n",
    "# world = gpd.read_file(gpd.datasets.get_path('naturalearth_lowres'))\n",
    "# usa = world[world.name == \"United States of America\"]\n",
    "# usa.to_crs(allwells_gdf.crs).plot(ax=ax, color='none', edgecolor='black')\n",
    "plt.savefig('c2h6_emiss_kgpers.png')\n",
    "\n",
    "plt.show()"
   ]
  },
  {
   "cell_type": "code",
   "execution_count": null,
   "id": "a908abdf-fefb-4541-87c3-6bc7b58db464",
   "metadata": {},
   "outputs": [],
   "source": [
    "fig = plt.figure()\n",
    "# ax = dissolved_aggregation.plot(column='n_wells', figsize=(12, 8), cmap='viridis', vmax=3000, legend=True)\n",
    "ax = emisscheck.plot(column='c3h8_emiss', figsize=(12, 8), cmap='viridis', legend=True, \n",
    "                     legend_kwds={'label':'C3H8 kg/s'})\n",
    "\n",
    "\n",
    "xlim = ([-115, -80])\n",
    "ylim = ([25, 50])\n",
    "ax.set_xlim(xlim)\n",
    "ax.set_ylim(ylim)\n",
    "\n",
    "us49.boundary.plot(ax=ax, edgecolor='black')\n",
    "\n",
    "# world = gpd.read_file(gpd.datasets.get_path('naturalearth_lowres'))\n",
    "# usa = world[world.name == \"United States of America\"]\n",
    "# usa.to_crs(allwells_gdf.crs).plot(ax=ax, color='none', edgecolor='black')\n",
    "plt.savefig('c3h8_emiss_kgpers.png')\n",
    "\n",
    "plt.show()"
   ]
  },
  {
   "cell_type": "markdown",
   "id": "bb968bdc-8044-4e0e-891f-7840b94acf9d",
   "metadata": {},
   "source": [
    "Need to get the lat/lon grid into an xarray from this. Going to use the following:\n",
    "\n",
    "https://cf-xarray.readthedocs.io/en/latest/generated/cf_xarray.shapely_to_cf.html#cf_xarray.shapely_to_cf\n",
    "https://github.com/xarray-contrib/cf-xarray\n",
    "\n",
    "But that function only works with points and you have polygons. I am going to define the new lat/lon by getting the exterior points of each polygon. This was helpful: https://gis.stackexchange.com/questions/302430/polygon-to-point-in-geopandas "
   ]
  },
  {
   "cell_type": "code",
   "execution_count": null,
   "id": "6caa84c4-de3f-454f-b1e2-f8e18755bd04",
   "metadata": {},
   "outputs": [],
   "source": [
    "points = emisscheck.copy()"
   ]
  },
  {
   "cell_type": "code",
   "execution_count": null,
   "id": "ea5306eb-042c-46e1-b450-9b2690b697a7",
   "metadata": {},
   "outputs": [],
   "source": [
    "points.geometry = points.geometry.apply(lambda x: Point(list(x.exterior.coords)))"
   ]
  },
  {
   "cell_type": "code",
   "execution_count": null,
   "id": "1b69b67d-ec35-4e4d-bb49-706d8106b3e8",
   "metadata": {},
   "outputs": [],
   "source": [
    "fig = plt.figure()\n",
    "ax = points.plot(column='c3h8_emiss', figsize=(12, 8), cmap='viridis', legend=True)\n",
    "\n",
    "xlim = ([-105.0, -100.0])\n",
    "ylim = ([30, 32])\n",
    "ax.set_xlim(xlim)\n",
    "ax.set_ylim(ylim)\n",
    "\n",
    "# points.plot(facecolor=\"none\",ax=ax)\n",
    "p1byp1_grid_gdf.plot(ax=ax, color='red', markersize=2)\n",
    "plt.title('New emissions map with EPA lat/lon plotted over')\n",
    "plt.show()"
   ]
  },
  {
   "cell_type": "code",
   "execution_count": null,
   "id": "1142a0a8-a407-44c9-ac39-fa5d36d22b11",
   "metadata": {},
   "outputs": [],
   "source": [
    "points.columns"
   ]
  },
  {
   "cell_type": "code",
   "execution_count": null,
   "id": "158d6908-6f06-4499-b4d9-388df091564b",
   "metadata": {},
   "outputs": [],
   "source": [
    "points_df = pd.DataFrame({'lon': points.geometry.x,\n",
    "             'lat':points.geometry.y,\n",
    "             'n_wells':points.n_wells,\n",
    "             'ch4_kgs':points.ch4_emiss_,\n",
    "             'ch4_kgs_unc':points.ch4_emis_1,\n",
    "             'c3h8_kgs':points.c3h8_emiss,\n",
    "             'c3h8_kgs_unc':points.c3h8_emi_1,\n",
    "             'c2h6_kgs':points.c2h6_emiss,\n",
    "             'c2h6_kgs_unc':points.c2h6_emi_1}).set_index(['lat','lon'])"
   ]
  },
  {
   "cell_type": "code",
   "execution_count": null,
   "id": "3023dc77-b573-4979-ba9b-d0b0f4ac6a2c",
   "metadata": {},
   "outputs": [],
   "source": [
    "points_xr = points_df.to_xarray()"
   ]
  },
  {
   "cell_type": "code",
   "execution_count": null,
   "id": "0702988c-df25-48a5-aafe-998c79f2509d",
   "metadata": {},
   "outputs": [],
   "source": [
    "points_xr['ch4_kgs'].plot()"
   ]
  },
  {
   "cell_type": "code",
   "execution_count": null,
   "id": "28e5f1a5-a47f-4c87-9b51-b4ba27d8e16d",
   "metadata": {},
   "outputs": [],
   "source": [
    "points_xr.to_netcdf('/Users/arianatribby/git/oklahoma_propane/data/processing/wellhead_emiss_for_footprint.nc4')\n",
    "\n"
   ]
  },
  {
   "cell_type": "markdown",
   "id": "b4fe45ae-b188-4c9f-8c31-f832c5bbb554",
   "metadata": {},
   "source": [
    "Compare EPA to stilt footprint "
   ]
  },
  {
   "cell_type": "code",
   "execution_count": null,
   "id": "2cd36c3d-31d1-4723-b8f4-5167731269d7",
   "metadata": {},
   "outputs": [],
   "source": [
    "footprints_alldays = xr.concat([xr.open_dataset(f) for f in glob.glob('/Users/arianatribby/git/oklahoma_propane/data/stilt_hpc_downloads/noaa_flasknair2017_2020/*.nc')], dim='time')\n"
   ]
  },
  {
   "cell_type": "code",
   "execution_count": null,
   "id": "0f34739c-8839-4c48-b36a-047fe5092a7f",
   "metadata": {},
   "outputs": [],
   "source": [
    "footprints_alldays"
   ]
  },
  {
   "cell_type": "code",
   "execution_count": null,
   "id": "7781d375-3c05-45ef-b5c9-ce048bc95327",
   "metadata": {},
   "outputs": [],
   "source": [
    "print(max(footprints_alldays.lat.values))\n",
    "print(min(footprints_alldays.lat.values))\n",
    "print(max(footprints_alldays.lon.values))\n",
    "print(min(footprints_alldays.lon.values))\n"
   ]
  },
  {
   "cell_type": "code",
   "execution_count": null,
   "id": "455c06e1-55f9-4744-878f-e444fb20cf62",
   "metadata": {},
   "outputs": [],
   "source": [
    "print(max(points_xr.lat.values))\n",
    "print(min(points_xr.lat.values))\n",
    "print(max(points_xr.lon.values))\n",
    "print(min(points_xr.lon.values))"
   ]
  },
  {
   "cell_type": "code",
   "execution_count": null,
   "id": "e16ba8b7-c385-4603-9036-8197d8fbfa7b",
   "metadata": {},
   "outputs": [],
   "source": [
    "emisscheck.total_bounds"
   ]
  },
  {
   "cell_type": "code",
   "execution_count": null,
   "id": "b97bfd4e-0c61-4ef9-8f18-ff42833ca002",
   "metadata": {},
   "outputs": [],
   "source": [
    "max(footprints_alldays.lat.values - epagrid.lat.values[:-50])"
   ]
  },
  {
   "cell_type": "code",
   "execution_count": null,
   "id": "14cbd601-3dfe-4fd0-a9d9-3b6ecf82f153",
   "metadata": {},
   "outputs": [],
   "source": [
    "xarr =  footprints_alldays.isel(time=0)\n",
    "df = xarr.to_dataframe().reset_index()\n",
    "\n",
    "foot_gdf = gpd.GeoDataFrame(\n",
    "    df.foot, geometry=gpd.points_from_xy(df.lon,df.lat))"
   ]
  },
  {
   "cell_type": "code",
   "execution_count": null,
   "id": "a07b2821-59da-4dc8-aa16-44d4cf37d4e2",
   "metadata": {},
   "outputs": [],
   "source": [
    "fig = plt.figure()\n",
    "# ax = points.plot(column='c3h8_emiss', figsize=(12, 8), cmap='viridis', legend=True)\n",
    "ax = foot_gdf.plot(column='foot', figsize=(12,8), cmap='viridis', legend=True)\n",
    "\n",
    "xlim = ([-105.0, -100.0])\n",
    "ylim = ([30, 32])\n",
    "ax.set_xlim(xlim)\n",
    "ax.set_ylim(ylim)\n",
    "\n",
    "# points.plot(facecolor=\"none\",ax=ax)\n",
    "p1byp1_grid_gdf.plot(ax=ax, color='red', markersize=2)\n",
    "plt.title('footprint with EPA lat/lon plotted over')\n",
    "plt.show()"
   ]
  },
  {
   "cell_type": "code",
   "execution_count": null,
   "id": "367d176d-1dcd-4086-947d-e9540816d195",
   "metadata": {},
   "outputs": [],
   "source": [
    "gridarea = gridarea.reindex_like(ncscd_d30cm, method='nearest', tolerance=0.01)"
   ]
  }
 ],
 "metadata": {
  "kernelspec": {
   "display_name": "geopand_spatial",
   "language": "python",
   "name": "geopand_spatial"
  },
  "language_info": {
   "codemirror_mode": {
    "name": "ipython",
    "version": 3
   },
   "file_extension": ".py",
   "mimetype": "text/x-python",
   "name": "python",
   "nbconvert_exporter": "python",
   "pygments_lexer": "ipython3",
   "version": "3.8.16"
  }
 },
 "nbformat": 4,
 "nbformat_minor": 5
}
