{
 "cells": [
  {
   "cell_type": "code",
   "execution_count": null,
   "id": "d7920bfe-56d8-4cb8-ba9e-76e9739c4c23",
   "metadata": {},
   "outputs": [],
   "source": [
    "import sys\n",
    "import os\n",
    "import pandas as pd\n",
    "import numpy as np\n",
    "import scipy.stats as st\n",
    "import glob\n",
    "import datetime\n",
    "import numba\n",
    "\n",
    "from scipy import odr\n",
    "\n",
    "import bokeh\n",
    "from bokeh.models import DatetimeTickFormatter\n",
    "from bokeh.plotting import figure\n",
    "from bokeh.layouts import gridplot, row, column\n",
    "import bokeh.io\n",
    "import bokeh.plotting\n",
    "\n",
    "bokeh.io.output_notebook()\n",
    "import holoviews as hv\n",
    "import bebi103\n",
    "hv.extension('bokeh')\n",
    "\n"
   ]
  },
  {
   "cell_type": "markdown",
   "id": "113e046d-9e74-41e3-9987-1257d043e0ff",
   "metadata": {},
   "source": [
    "Using same techniques as NOAA_flask.ipynb used in propane bayes analysis, except need to include another var from the raw file \n",
    "\n",
    "Also this will analyze the new noaa data beyond 2018 (when i get it) \n",
    "\n",
    "Here is where i accessed data beyond 2018 for c3, c2, https://gml.noaa.gov/aftp/data/trace_gases/ \n",
    "This is where I got ch4, co2, and co: https://gml.noaa.gov/aftp/data/trace_gases/ch4/pfp/ \n",
    "this is wrong directory: https://gml.noaa.gov/aftp/data/trace_gases/voc/c3h8/flask/surface/ "
   ]
  },
  {
   "cell_type": "code",
   "execution_count": null,
   "id": "7c9422f1-618a-4683-b7c5-872b95f6c0d9",
   "metadata": {},
   "outputs": [],
   "source": [
    "def open_noaa_txt_num2(filename_as_string):\n",
    "    with open(filename_as_string, 'r') as f:       \n",
    "        f_list = f.read()\n",
    "        f_list = f_list.split('\\n')\n",
    "        number_of_header_lines = int(f_list[0].split(' ')[-1])\n",
    "        \n",
    "        header_names = f_list[number_of_header_lines-1].split(' ')\n",
    "#         print(header_names)\n",
    "        data_body = f_list[number_of_header_lines:-1]\n",
    "        \n",
    "        data = []\n",
    "        for i in range(len(data_body)):\n",
    "            data.append(\" \".join(data_body[i].split()).split(' '))\n",
    "        \n",
    "        return header_names, data"
   ]
  },
  {
   "cell_type": "markdown",
   "id": "c9eeadef-66fc-47b3-9353-af285fad3b23",
   "metadata": {},
   "source": [
    "so c2, c3, and co have the same headers. ch4 and co2 have value_uncertainty which is an additional var compared to the others"
   ]
  },
  {
   "cell_type": "code",
   "execution_count": null,
   "id": "1b327ef2-132b-4d19-b55f-fa1f2c3965b8",
   "metadata": {},
   "outputs": [],
   "source": [
    "file_paths = '/Users/arianatribby/git/oklahoma_propane/data/NOAA_sgp/*.txt'\n",
    "data_body = []\n",
    "file_names = sorted(glob.glob(file_paths))\n",
    "\n",
    "for i in range(len(file_names)):\n",
    "    site_header,site_data = open_noaa_txt_num2(file_names[i])\n",
    "    var_name = file_names[i].split('/')[-1].split('_')[0]\n",
    "    [x.append(var_name) for x in site_data]\n",
    "    data_body.append(site_data)\n",
    "\n",
    "    \n",
    "flat_data_body = [item for sublist in data_body for item in sublist]\n",
    "site_header.append('parameter_formula')\n"
   ]
  },
  {
   "cell_type": "code",
   "execution_count": null,
   "id": "8f840376-42b4-4898-bff7-f677a4ef3bfa",
   "metadata": {},
   "outputs": [],
   "source": [
    "df_noaap1 = pd.DataFrame(flat_data_body, columns=site_header)\n",
    "df_noaap1.tail()"
   ]
  },
  {
   "cell_type": "markdown",
   "id": "a5f8c336-fa03-40fd-8955-f35a5da83dc2",
   "metadata": {},
   "source": [
    "first, add an uncertainty column as na "
   ]
  },
  {
   "cell_type": "code",
   "execution_count": null,
   "id": "c8710181-15da-4311-bd45-9f9bc664a292",
   "metadata": {},
   "outputs": [],
   "source": [
    "df_noaap1['value_unc'] = np.empty(len(df_noaap1.day.values)) * np.nan"
   ]
  },
  {
   "cell_type": "markdown",
   "id": "67a2a98b-16ca-4c6f-8ce9-5b2fcb9cf716",
   "metadata": {},
   "source": [
    "Now read in the other files"
   ]
  },
  {
   "cell_type": "code",
   "execution_count": null,
   "id": "e29dfb6f-137d-48ce-b494-4e003843861a",
   "metadata": {},
   "outputs": [],
   "source": [
    "file_paths = '/Users/arianatribby/git/oklahoma_propane/data/NOAA_sgp/headertype2/*.txt'\n",
    "data_body = []\n",
    "file_names = sorted(glob.glob(file_paths))\n",
    "\n",
    "for i in range(len(file_names)):\n",
    "    site_header,site_data = open_noaa_txt_num2(file_names[i])\n",
    "    var_name = file_names[i].split('/')[-1].split('_')[0]\n",
    "    [x.append(var_name) for x in site_data]\n",
    "    data_body.append(site_data)\n",
    "    \n",
    "flat_data_body = [item for sublist in data_body for item in sublist]\n",
    "site_header.append('parameter_formula')\n"
   ]
  },
  {
   "cell_type": "code",
   "execution_count": null,
   "id": "b0db65f5-f4db-4d44-85d7-44cf396d9bf2",
   "metadata": {},
   "outputs": [],
   "source": [
    "df_noaap2 = pd.DataFrame(flat_data_body, columns=site_header)\n",
    "df_noaap2.tail()"
   ]
  },
  {
   "cell_type": "markdown",
   "id": "106e9fc3-4105-4bad-ba09-bc002d824779",
   "metadata": {},
   "source": [
    "Combine the dfs with the same columns "
   ]
  },
  {
   "cell_type": "code",
   "execution_count": null,
   "id": "62662bfa-bc72-4a9e-8dcc-7f99aae26b65",
   "metadata": {},
   "outputs": [],
   "source": [
    "NOAA_df = pd.concat([df_noaap1,df_noaap2])"
   ]
  },
  {
   "cell_type": "code",
   "execution_count": null,
   "id": "573b2128-755c-4644-9f06-b1f6f894508f",
   "metadata": {},
   "outputs": [],
   "source": [
    "NOAA_df.loc[NOAA_df['parameter_formula'] == 'C2H6'].tail()"
   ]
  },
  {
   "cell_type": "markdown",
   "id": "0bb24c1f-78f9-4eb9-8a4f-676d51aa8129",
   "metadata": {},
   "source": [
    "## Quality Control \n",
    "\n",
    "In the folders where you read in the files, are readme files. There is a section on quality control.\n",
    "\n",
    "NOAA ESRL uses a 3-column quality control flag where each column\n",
    "is defined as follows:\n",
    "```\n",
    "column 1    REJECTION flag.  An alphanumeric other\n",
    "            than a period (.) in the FIRST column indicates\n",
    "            a sample with obvious problems during collection\n",
    "            or analysis.  This measurement should not be interpreted.\n",
    "\n",
    "column 2    SELECTION flag.  An alphanumeric other than a\n",
    "            period (.) in the SECOND column indicates a sample\n",
    "            that is likely valid but does not meet selection\n",
    "            criteria determined by the goals of a particular\n",
    "            investigation.\n",
    "\n",
    "column 3    INFORMATION flag.  An alphanumeric other than a period (.) \n",
    "            in the THIRD column provides additional information \n",
    "            about the collection or analysis of the sample.\n",
    "\n",
    "            WARNING: A \"P\" in the 3rd column of the QC flag indicates\n",
    "            the measurement result is preliminary and has not yet been \n",
    "            carefully examined by the PI.  The \"P\" flag is removed once \n",
    "            the quality of the measurement has been assessed.\n",
    "\n",
    "            Flag         Description\n",
    "\n",
    "RETAINED    ...         (3 periods) Good sampling and analysis.\n",
    "\n",
    "\n",
    "            ..0         (3rd column zero) Preliminary data awaiting QC\n",
    "                        \n",
    "\n",
    "SELECTED    .A.         Suspected analysis issue that may affect data quality,\n",
    "\t\t\talthough the affect may not be readily evident. Use with caution.\n",
    "\n",
    "            .N.         suspected sampling issue that may affect data quality,\n",
    "            \t        although the affect may not be apparent. Use with caution.\n",
    "\n",
    "REJECTED    A..         Known analysis issue that has compromised data quality.\n",
    "\t\t\tDo not use these data!\n",
    "\n",
    "            N..         Known sampling issue that has compromised data quality.\n",
    "\t\t\tDo not use these data\n",
    "```\n",
    "\n",
    "For ccgg flask: \n",
    "\n",
    "```\n",
    "# qcflag:provider_comment : This is the NOAA 3-character quality control flag.  Column 1 is the REJECTION flag. An alphanumeric other than a period (.) in the FIRST column indicates a sample with obvious problems during collection or analysis. This measurement should not be interpreted. Column 2 is the SELECTION flag. An alphanumeric other than a period (.) in the SECOND column indicates a sample that is likely valid but does not meet selection criteria determined by the goals of a particular investigation. For example, it might not have been obtained during 'background' conditions.  Column 3 is the INFORMATION flag. An alphanumeric other than a period (.) in the THIRD column provides additional information about the collection or analysis of the sample. A P in the 3rd column of the QC flag indicates the measurement result is preliminary and has not yet been carefully examined by the PI.  The P flag is removed once the quality of the measurement has been determined.\n",
    "\n",
    "```\n",
    "\n",
    "I will keep '...', '..P'. "
   ]
  },
  {
   "cell_type": "code",
   "execution_count": null,
   "id": "4335a854-e83e-49f6-889e-4ab9c188e1e8",
   "metadata": {},
   "outputs": [],
   "source": [
    "NOAA_df = NOAA_df.loc[NOAA_df['qcflag'].isin(['...','..P'])].reset_index()"
   ]
  },
  {
   "cell_type": "code",
   "execution_count": null,
   "id": "635526b5-5393-455a-8711-d2711da82b83",
   "metadata": {},
   "outputs": [],
   "source": [
    "NOAA_df.columns"
   ]
  },
  {
   "cell_type": "markdown",
   "id": "8b8d8794-c403-4d67-ac2e-bc9d1f8ee3b7",
   "metadata": {},
   "source": [
    "### Create UTC time"
   ]
  },
  {
   "cell_type": "code",
   "execution_count": null,
   "id": "db2b9458-f22f-4416-a031-d18208770b74",
   "metadata": {},
   "outputs": [],
   "source": [
    "newtime = []\n",
    "newdatetime = []\n",
    "for i in range(len(NOAA_df)):\n",
    "    newtime.append(datetime.datetime(int(NOAA_df['year'].values[i]),int(NOAA_df['month'].values[i]),\n",
    "                      int(NOAA_df['day'].values[i]),int(NOAA_df['hour'].values[i]),\n",
    "                      int(NOAA_df['minute'].values[i]),int(NOAA_df['second'].values[i])).timestamp())\n",
    "    newdatetime.append(datetime.datetime(int(NOAA_df['year'].values[i]),int(NOAA_df['month'].values[i]),\n",
    "                      int(NOAA_df['day'].values[i]),int(NOAA_df['hour'].values[i]),\n",
    "                      int(NOAA_df['minute'].values[i]),int(NOAA_df['second'].values[i])))\n",
    "\n",
    "NOAA_df['dt_time'] = newdatetime\n",
    "NOAA_df['completetime'] = newtime"
   ]
  },
  {
   "cell_type": "markdown",
   "id": "bdbc49ed-bab2-4420-a8de-4614fdda00fe",
   "metadata": {},
   "source": [
    "Convert measurements from string to numbers"
   ]
  },
  {
   "cell_type": "code",
   "execution_count": null,
   "id": "7f654d57-37cf-46fb-8edc-40fc57497d33",
   "metadata": {},
   "outputs": [],
   "source": [
    "NOAA_df['value'] = [float(x) for x in NOAA_df.copy().value.values]"
   ]
  },
  {
   "cell_type": "code",
   "execution_count": null,
   "id": "bd31960d-0930-4b70-8fdc-28ce66b91f41",
   "metadata": {},
   "outputs": [],
   "source": [
    "NOAA_df['completetime'][0]"
   ]
  },
  {
   "cell_type": "markdown",
   "id": "5a925e20-1175-4472-ac28-01b27b0d13d5",
   "metadata": {},
   "source": [
    "### Find common timepoint measurements "
   ]
  },
  {
   "cell_type": "markdown",
   "id": "b49bc831-244e-417b-b14c-19250638795a",
   "metadata": {},
   "source": [
    "Unlike previous noaa datasets, you only have one site, sgp. So the c3 and c2 have exactly the same time points. However, ch4, co and co2 do not have the same time points. Need to know where those overlap with c3 and c2. "
   ]
  },
  {
   "cell_type": "code",
   "execution_count": null,
   "id": "52c5d712-08b3-46a0-b989-8fe720ee1231",
   "metadata": {},
   "outputs": [],
   "source": [
    "NOAA_df.parameter_formula.unique()"
   ]
  },
  {
   "cell_type": "code",
   "execution_count": null,
   "id": "b1c13571-df93-4c52-8505-0d093f65a324",
   "metadata": {},
   "outputs": [],
   "source": [
    "test1 = NOAA_df.loc[(NOAA_df['parameter_formula'] == 'C2H6')][['value','completetime','year','day']]\n",
    "test2 = NOAA_df.loc[(NOAA_df['parameter_formula'] == 'C3H8')][['value','completetime','year','day']]\n",
    "test3 = NOAA_df.loc[(NOAA_df['parameter_formula'] == 'ch4')][['value','completetime','year','day']]\n",
    "test4 = NOAA_df.loc[(NOAA_df['parameter_formula'] == 'co')][['value','completetime','year','day']]\n",
    "test5 = NOAA_df.loc[(NOAA_df['parameter_formula'] == 'co2')][['value','completetime','year','day']]"
   ]
  },
  {
   "cell_type": "code",
   "execution_count": null,
   "id": "de9bd42a-bc56-4512-9427-0cc0a12c3ba6",
   "metadata": {},
   "outputs": [],
   "source": [
    "print(len(test1))\n",
    "print(len(test2))\n",
    "print(len(test3))\n",
    "print(len(test4))\n",
    "print(len(test5))"
   ]
  },
  {
   "cell_type": "markdown",
   "id": "d262a956-ed47-4bce-abe6-58b3360d55b1",
   "metadata": {},
   "source": [
    "But even thought C2 and C3 are the same length, they don't always have exactly the same number of measurements for certain time points. For example, see the printed example below. Also, there are duplicate measurements at the same time point (including the seconds) for all the species (same example). \n",
    "\n",
    "Going to group by the time for each species individually, take the median, then paste everything back into one dataframe. Then, will get intersection of the time for all species at once using groupby again. "
   ]
  },
  {
   "cell_type": "code",
   "execution_count": null,
   "id": "8c0ded3b-bd54-40d2-a7ff-019dc325bfcc",
   "metadata": {},
   "outputs": [],
   "source": [
    "max(NOAA_df.loc[NOAA_df['parameter_formula'] == 'co'].groupby(['dt_time']).count().year)"
   ]
  },
  {
   "cell_type": "markdown",
   "id": "d3298564-b59e-44a1-991b-a9760e49aa30",
   "metadata": {},
   "source": [
    "It looks like time isn't repeated within a single species"
   ]
  },
  {
   "cell_type": "markdown",
   "id": "a2a9b0c3-a4b4-40ba-a820-fcd2442c672c",
   "metadata": {},
   "source": [
    "Before you can use groupby, though, you need to convert all columns that you plan on keeping into floats or ints, otherwise, those columns are ignored when you use aggregate functions on them. Parameter_formula and completetime are already floats "
   ]
  },
  {
   "cell_type": "code",
   "execution_count": null,
   "id": "546e48ab-310a-4dab-a867-106264bf90c8",
   "metadata": {},
   "outputs": [],
   "source": [
    "NOAA_df.columns"
   ]
  },
  {
   "cell_type": "code",
   "execution_count": null,
   "id": "1fb40f71-0cab-4cb5-8f62-cf37ddeeb7c8",
   "metadata": {},
   "outputs": [],
   "source": [
    "NOAA_df['year'] = [int(x) for x in NOAA_df['year'].values]\n",
    "NOAA_df['month'] = [int(x) for x in NOAA_df['month'].values]\n",
    "NOAA_df['day'] = [int(x) for x in NOAA_df['day'].values]\n",
    "NOAA_df['hour'] = [int(x) for x in NOAA_df['hour'].values]\n",
    "NOAA_df['minute'] = [int(x) for x in NOAA_df['minute'].values]\n",
    "NOAA_df['second'] = [int(x) for x in NOAA_df['second'].values]\n",
    "NOAA_df['value_unc'] = [float(x) for x in NOAA_df['value_unc'].values]\n",
    "NOAA_df['latitude'] = [float(x) for x in NOAA_df['latitude'].values]\n",
    "NOAA_df['longitude'] = [float(x) for x in NOAA_df['longitude'].values]\n",
    "NOAA_df['altitude'] = [float(x) for x in NOAA_df['altitude'].values]\n",
    "NOAA_df['elevation'] = [float(x) for x in NOAA_df['elevation'].values]\n",
    "NOAA_df['intake_height'] = [float(x) for x in NOAA_df['intake_height'].values]"
   ]
  },
  {
   "cell_type": "code",
   "execution_count": null,
   "id": "8c9cb2b2-0051-4a22-8933-ab08d3bedf24",
   "metadata": {},
   "outputs": [],
   "source": [
    "NOAA_df.year"
   ]
  },
  {
   "cell_type": "markdown",
   "id": "e96b3370-dff4-4fcc-9e2c-e8691ed3a316",
   "metadata": {},
   "source": [
    "The following is done if there are repeat measurements within a single measurement. This is the case for co, co2, and ch4. I'll just keep the code for all variables for ease since some of the other variables for those 3 parameters will be lost (can't get the median of non float or int things)\n",
    "\n",
    "Extract variables you intend to keep for groupby"
   ]
  },
  {
   "cell_type": "code",
   "execution_count": null,
   "id": "2b60ab01-14d2-473c-bdf0-e06cc6d8dfca",
   "metadata": {},
   "outputs": [],
   "source": [
    "c3df = NOAA_df.loc[NOAA_df['parameter_formula'] == 'C3H8'][[\"year\",\"month\",\"day\",\"hour\",\"minute\",\"second\",\n",
    "                                                           \"value\",\"value_unc\",\"latitude\",\"longitude\",\n",
    "                                                            \"altitude\",\"elevation\",\"intake_height\",\"dt_time\",\"completetime\"]]\n",
    "c2df = NOAA_df.loc[NOAA_df['parameter_formula'] == 'C2H6'][[\"year\",\"month\",\"day\",\"hour\",\"minute\",\"second\",\n",
    "                                                           \"value\",\"value_unc\",\"latitude\",\"longitude\",\n",
    "                                                            \"altitude\",\"elevation\",\"intake_height\",\"dt_time\",\"completetime\"]]\n",
    "codf = NOAA_df.loc[NOAA_df['parameter_formula'] == 'co'][[\"year\",\"month\",\"day\",\"hour\",\"minute\",\"second\",\n",
    "                                                           \"value\",\"value_unc\",\"latitude\",\"longitude\",\n",
    "                                                            \"altitude\",\"elevation\",\"intake_height\",\"dt_time\",\"completetime\"]]\n",
    "co2df = NOAA_df.loc[NOAA_df['parameter_formula'] == 'co2'][[\"year\",\"month\",\"day\",\"hour\",\"minute\",\"second\",\n",
    "                                                           \"value\",\"value_unc\",\"latitude\",\"longitude\",\n",
    "                                                            \"altitude\",\"elevation\",\"intake_height\",\"dt_time\",\"completetime\"]]\n",
    "ch4df = NOAA_df.loc[NOAA_df['parameter_formula'] == 'ch4'][[\"year\",\"month\",\"day\",\"hour\",\"minute\",\"second\",\n",
    "                                                           \"value\",\"value_unc\",\"latitude\",\"longitude\",\n",
    "                                                            \"altitude\",\"elevation\",\"intake_height\",\"dt_time\",\"completetime\"]]"
   ]
  },
  {
   "cell_type": "code",
   "execution_count": null,
   "id": "ce8fca41-529f-4ff9-9f71-62309af814cc",
   "metadata": {},
   "outputs": [],
   "source": [
    "c3_time_red = c3df.groupby(['dt_time']).median().reset_index()\n",
    "c2_time_red = c2df.groupby(['dt_time']).median().reset_index()\n",
    "ch4_time_red = ch4df.groupby(['dt_time']).median().reset_index()\n",
    "co_time_red = codf.groupby(['dt_time']).median().reset_index()\n",
    "co2_time_red = co2df.groupby(['dt_time']).median().reset_index()"
   ]
  },
  {
   "cell_type": "markdown",
   "id": "cb916613-8188-4b16-8872-9752bf79ece1",
   "metadata": {},
   "source": [
    "Now put all the variables together again into an untidy dataset"
   ]
  },
  {
   "cell_type": "code",
   "execution_count": null,
   "id": "435f8041-96b6-4bba-9ddf-9a80d2c8338b",
   "metadata": {},
   "outputs": [],
   "source": [
    "c3_time_red['parameter'] = ['c3h8' for x in range(len(c3_time_red))]\n",
    "c2_time_red['parameter'] = ['c2h6' for x in range(len(c2_time_red))]\n",
    "ch4_time_red['parameter'] = ['ch4' for x in range(len(ch4_time_red))]\n",
    "co_time_red['parameter'] = ['co' for x in range(len(co_time_red))]\n",
    "co2_time_red['parameter'] = ['co2' for x in range(len(co2_time_red))]\n",
    "noaa_time_red = pd.concat([c3_time_red,c2_time_red,ch4_time_red,co_time_red,co2_time_red], ignore_index=True)"
   ]
  },
  {
   "cell_type": "code",
   "execution_count": null,
   "id": "ff2ec17e-39da-4e74-aabc-f04042b077d9",
   "metadata": {},
   "outputs": [],
   "source": [
    "noaa_time_red.loc[(noaa_time_red['parameter'] == 'c3h8') & (noaa_time_red['year'] == 2017)].head()"
   ]
  },
  {
   "cell_type": "markdown",
   "id": "002336d3-1939-42a2-be51-b4811c30e9c8",
   "metadata": {},
   "source": [
    "Now do a new groupby where you find cases where time is repeated 5 times (for the 5 variables)"
   ]
  },
  {
   "cell_type": "code",
   "execution_count": null,
   "id": "c1e38967-3254-46ba-8d05-8b2103daa357",
   "metadata": {},
   "outputs": [],
   "source": [
    "max(noaa_time_red.groupby(['dt_time']).count().year)"
   ]
  },
  {
   "cell_type": "markdown",
   "id": "617009c9-2a2f-443e-845e-2b73d1f1166a",
   "metadata": {},
   "source": [
    "The result is each variable contains the count number. So count function was applied to each variable. But what you really need is the index. The issue is that the count function is applied even to the index variable. So can you then figure out which dt_times correspond to counts greater than 5."
   ]
  },
  {
   "cell_type": "code",
   "execution_count": null,
   "id": "72ffc540-b0a4-41ec-955a-a04544e76d02",
   "metadata": {},
   "outputs": [],
   "source": [
    "time_counts = noaa_time_red.groupby(['dt_time'])['year'].count().reset_index()"
   ]
  },
  {
   "cell_type": "code",
   "execution_count": null,
   "id": "8b464bbd-f430-4a04-a5c3-9c5ab1589f7e",
   "metadata": {},
   "outputs": [],
   "source": [
    "len(time_counts.loc[time_counts['year'] == 5])"
   ]
  },
  {
   "cell_type": "code",
   "execution_count": null,
   "id": "20e427ae-6ea1-4a8c-b37a-2eb2d2cf3d27",
   "metadata": {},
   "outputs": [],
   "source": [
    "intersecting_times = time_counts.loc[time_counts['year'] == 5]['dt_time']"
   ]
  },
  {
   "cell_type": "code",
   "execution_count": null,
   "id": "4b44569d-b1da-4cfc-858f-ce16c1775b12",
   "metadata": {},
   "outputs": [],
   "source": [
    "intersecting_times"
   ]
  },
  {
   "cell_type": "code",
   "execution_count": null,
   "id": "951fe079-ff27-45d7-b066-eb98617ef161",
   "metadata": {},
   "outputs": [],
   "source": [
    "len(noaa_time_red.loc[noaa_time_red['dt_time'].isin(intersecting_times)])"
   ]
  },
  {
   "cell_type": "markdown",
   "id": "8d1f3a66-ca0f-47f1-969a-db00c85d9d52",
   "metadata": {},
   "source": [
    "Remember that the df is not tidy, so it would be 732 multiplied by 5"
   ]
  },
  {
   "cell_type": "code",
   "execution_count": null,
   "id": "a66ebc47-cab7-4804-aad3-09a0be2b4293",
   "metadata": {},
   "outputs": [],
   "source": [
    "732*5"
   ]
  },
  {
   "cell_type": "markdown",
   "id": "9b01dbf0-f74c-419d-a575-2722d3fc3693",
   "metadata": {},
   "source": [
    "Great, save out that dataset! "
   ]
  },
  {
   "cell_type": "code",
   "execution_count": null,
   "id": "770d2021-bde8-48cc-bace-ecb94d118a85",
   "metadata": {},
   "outputs": [],
   "source": [
    "noaa_time_intersected = noaa_time_red.loc[noaa_time_red['dt_time'].isin(intersecting_times)].reset_index()"
   ]
  },
  {
   "cell_type": "code",
   "execution_count": null,
   "id": "d7c45331-318b-4dd3-9a69-77bc88f1aa5c",
   "metadata": {},
   "outputs": [],
   "source": [
    "noaa_time_intersected.head()"
   ]
  },
  {
   "cell_type": "code",
   "execution_count": null,
   "id": "f9eef2af-9afb-469f-8e35-72e0ddf5c4f0",
   "metadata": {},
   "outputs": [],
   "source": [
    "len(noaa_time_red.loc[noaa_time_red['dt_time'].isin(intersecting_times)])"
   ]
  },
  {
   "cell_type": "code",
   "execution_count": null,
   "id": "b904e51c-b332-4faf-bb7a-be8ec9c967f3",
   "metadata": {},
   "outputs": [],
   "source": [
    "noaa_time_red.parameter.unique()"
   ]
  },
  {
   "cell_type": "code",
   "execution_count": null,
   "id": "32fd67d1-f8e5-4afb-8224-931479ff1d49",
   "metadata": {},
   "outputs": [],
   "source": [
    "fh = 400\n",
    "fw = 400\n",
    "colors = bokeh.palettes.d3['Category20'][20]\n",
    "\n",
    "p = bokeh.plotting.figure(frame_height=fh, \n",
    "                          frame_width=fw, title='',x_axis_type='datetime')\n",
    "dc3 = noaa_time_red.loc[noaa_time_red['parameter'] == 'c3h8']\n",
    "dc2 = noaa_time_red.loc[noaa_time_red['parameter'] == 'c2h6']\n",
    "\n",
    "\n",
    "p.circle(dc3.dt_time.values, dc3.value.values, \n",
    "         size=5, fill_alpha=.5, color=colors[0], legend_label='c3h8')\n",
    "\n",
    "p.circle(dc2.dt_time.values, dc2.value.values, \n",
    "         size=5, fill_alpha=.1, color=colors[1], legend_label='c2h6')\n",
    "\n",
    "p.xaxis.axis_label = \"time\"\n",
    "p.yaxis.axis_label = \"CxCx ppb\"\n",
    "p.xaxis.axis_label_text_font_size = \"16pt\"\n",
    "p.yaxis.axis_label_text_font_size = \"16pt\"\n",
    "p.xaxis.major_label_text_font_size = \"15pt\"\n",
    "p.yaxis.major_label_text_font_size = \"15pt\"\n",
    "p.xaxis.major_tick_line_width = 3\n",
    "p.yaxis.major_tick_line_width = 3\n",
    "p.axis.axis_label_text_font_style = 'bold'\n",
    "p.xaxis.major_label_orientation = 45\n",
    "bokeh.io.show(p)\n"
   ]
  },
  {
   "cell_type": "markdown",
   "id": "33d53dcf-6d99-4858-8fb6-1010790171ab",
   "metadata": {},
   "source": [
    "Note that it does show 2017 values, it is just that you don't have any for early 2017. "
   ]
  },
  {
   "cell_type": "code",
   "execution_count": null,
   "id": "2e161a0f-b158-4658-84b4-cb6a588be418",
   "metadata": {},
   "outputs": [],
   "source": [
    "fh = 400\n",
    "fw = 400\n",
    "colors = bokeh.palettes.d3['Category20'][20]\n",
    "\n",
    "p = bokeh.plotting.figure(frame_height=fh, \n",
    "                          frame_width=fw, title='',x_axis_type='datetime')\n",
    "dc3 = noaa_time_intersected.loc[noaa_time_intersected['parameter'] == 'c3h8']\n",
    "dc2 = noaa_time_intersected.loc[noaa_time_intersected['parameter'] == 'c2h6']\n",
    "\n",
    "\n",
    "p.circle(dc3.dt_time.values, dc3.value.values, \n",
    "         size=5, fill_alpha=.5, color=colors[0], legend_label='c3h8')\n",
    "\n",
    "p.circle(dc2.dt_time.values, dc2.value.values, \n",
    "         size=5, fill_alpha=.1, color=colors[1], legend_label='c2h6')\n",
    "\n",
    "p.xaxis.axis_label = \"time\"\n",
    "p.yaxis.axis_label = \"CxCx ppb\"\n",
    "p.xaxis.axis_label_text_font_size = \"16pt\"\n",
    "p.yaxis.axis_label_text_font_size = \"16pt\"\n",
    "p.xaxis.major_label_text_font_size = \"15pt\"\n",
    "p.yaxis.major_label_text_font_size = \"15pt\"\n",
    "p.xaxis.major_tick_line_width = 3\n",
    "p.yaxis.major_tick_line_width = 3\n",
    "p.axis.axis_label_text_font_style = 'bold'\n",
    "p.xaxis.major_label_orientation = 45\n",
    "bokeh.io.show(p)"
   ]
  },
  {
   "cell_type": "code",
   "execution_count": null,
   "id": "7b1b0705-d5a6-48f6-b962-9a681a2ed847",
   "metadata": {},
   "outputs": [],
   "source": [
    "len(noaa_time_intersected.loc[(noaa_time_intersected['year'] == 2017) * (noaa_time_intersected['parameter'] == 'c2h6')])"
   ]
  },
  {
   "cell_type": "markdown",
   "id": "c34153db-284e-470b-9faa-8b3b93481ebd",
   "metadata": {},
   "source": [
    "fresh emission and fire filter, see below\n",
    "\n",
    "Fire, september 13, 14, 2017 not sure about end date \n",
    "https://wildfiretoday.com/2017/09/14/rankin-fire-expands-to-over-1000-acres-while-the-beaver-fire-grows-nearby/ \n",
    "\n"
   ]
  },
  {
   "cell_type": "markdown",
   "id": "4f90596c-afd7-4666-bb0c-93834069575a",
   "metadata": {},
   "source": [
    "### Now filter for fresh emissions based on analysis from NOAA_flask.ipynb "
   ]
  },
  {
   "cell_type": "markdown",
   "id": "2720ae11-7840-4472-b626-6e7552fb6bdc",
   "metadata": {},
   "source": [
    "First make everything into a tidy dataset "
   ]
  },
  {
   "cell_type": "code",
   "execution_count": null,
   "id": "ce0cb2ee-590a-44fa-b2ba-e061e7c5e2fd",
   "metadata": {},
   "outputs": [],
   "source": [
    "df_loc_c2h6 = noaa_time_intersected.loc[noaa_time_intersected['parameter'] == 'c2h6']\n",
    "df_loc_c3h8 = noaa_time_intersected.loc[noaa_time_intersected['parameter'] == 'c3h8']\n",
    "df_loc_ch4 = noaa_time_intersected.loc[noaa_time_intersected['parameter'] == 'ch4']\n",
    "df_loc_co = noaa_time_intersected.loc[noaa_time_intersected['parameter'] == 'co']\n",
    "df_loc_co2 = noaa_time_intersected.loc[noaa_time_intersected['parameter'] == 'co2']\n",
    "\n",
    "\n",
    "df_loc_c2h6 = df_loc_c2h6.drop(columns=['parameter'])\n",
    "df_loc_c3h8 = df_loc_c3h8.drop(columns=['parameter'])\n",
    "df_loc_ch4 = df_loc_ch4.drop(columns=['parameter'])\n",
    "df_loc_co = df_loc_co.drop(columns=['parameter'])\n",
    "df_loc_co2 = df_loc_co2.drop(columns=['parameter'])\n"
   ]
  },
  {
   "cell_type": "code",
   "execution_count": null,
   "id": "deb7d272-8f72-4ee6-9f3e-3bb3fafa171d",
   "metadata": {},
   "outputs": [],
   "source": [
    "NOAA_paramaters = pd.DataFrame()\n",
    "NOAA_paramaters['dt_time'] = df_loc_c2h6.copy().dt_time.values\n",
    "NOAA_paramaters['year'] = df_loc_c2h6.copy().year.values\n",
    "NOAA_paramaters['month'] = df_loc_c2h6.copy().month.values\n",
    "NOAA_paramaters['day'] = df_loc_c2h6.copy().day.values\n",
    "NOAA_paramaters['hour'] = df_loc_c2h6.copy().hour.values\n",
    "NOAA_paramaters['minute'] = df_loc_c2h6.copy().minute.values\n",
    "NOAA_paramaters['second'] = df_loc_c2h6.copy().second.values\n",
    "NOAA_paramaters['completetime'] = df_loc_c2h6.copy().completetime.values\n",
    "\n",
    "\n",
    "NOAA_paramaters['c2h6'] = df_loc_c2h6.copy().value.values\n",
    "NOAA_paramaters['c3h8'] = df_loc_c3h8.copy().value.values\n",
    "NOAA_paramaters['ch4'] = df_loc_ch4.copy().value.values\n",
    "NOAA_paramaters['co'] = df_loc_co.copy().value.values\n",
    "NOAA_paramaters['co2'] = df_loc_co2.copy().value.values\n",
    "NOAA_paramaters['c2h6_unc'] = df_loc_c2h6.copy().value_unc.values\n",
    "NOAA_paramaters['c3h8_unc'] = df_loc_c3h8.copy().value_unc.values\n",
    "NOAA_paramaters['ch4_unc'] = df_loc_ch4.copy().value_unc.values\n",
    "NOAA_paramaters['co_unc'] = df_loc_co.copy().value_unc.values\n",
    "NOAA_paramaters['co2_unc'] = df_loc_co2.copy().value_unc.values\n",
    "\n",
    "# I double checked lat/lon/alt are the same between the different variables \n",
    "NOAA_paramaters['lat'] = df_loc_co2.copy().latitude.values\n",
    "NOAA_paramaters['lon'] = df_loc_co2.copy().longitude.values\n",
    "NOAA_paramaters['altitude'] = df_loc_co2.copy().altitude.values\n",
    "NOAA_paramaters['elevation'] = df_loc_co2.copy().elevation.values\n",
    "NOAA_paramaters['intake_height'] = df_loc_co2.copy().intake_height.values"
   ]
  },
  {
   "cell_type": "code",
   "execution_count": null,
   "id": "21054783-ce6c-4b67-a3f5-51e6b25538ed",
   "metadata": {},
   "outputs": [],
   "source": [
    "fh = 400\n",
    "fw = 400\n",
    "\n",
    "p = bokeh.plotting.figure(frame_height=fh, frame_width=fw, title='', x_axis_type=\"log\", y_axis_type=\"log\")\n",
    "colors = bokeh.palettes.d3['Category20'][20]\n",
    "\n",
    "\n",
    "p.circle(NOAA_paramaters.c2h6*1e-3, \n",
    "         NOAA_paramaters.c3h8*1e-3, \n",
    "         color=colors[0], size=5, fill_alpha=.5, legend_label = 'SGP')\n",
    "p.xaxis.axis_label = \"C₂H₆ (ppb)\"\n",
    "p.yaxis.axis_label = \"C₃H₈ (ppb)\"\n",
    "p.xaxis.axis_label_text_font_size = \"16pt\"\n",
    "p.yaxis.axis_label_text_font_size = \"16pt\"\n",
    "p.xaxis.major_label_text_font_size = \"15pt\"\n",
    "p.yaxis.major_label_text_font_size = \"15pt\"\n",
    "p.xaxis.major_tick_line_width = 3\n",
    "p.yaxis.major_tick_line_width = 3\n",
    "p.axis.axis_label_text_font_style = 'bold'\n",
    "p.legend.label_text_font_size = '14pt'\n",
    "\n",
    "p.legend.location = \"bottom_right\"\n",
    "bokeh.io.show(p)"
   ]
  },
  {
   "cell_type": "markdown",
   "id": "839ef2fa-89df-4312-b278-bfb32ef31e8f",
   "metadata": {},
   "source": [
    "Data below 1 ppb c3h8 is aged air. Just going to go off of your paper. "
   ]
  },
  {
   "cell_type": "code",
   "execution_count": null,
   "id": "d589fcbc-ece4-44a2-82b8-49aa5250a2f4",
   "metadata": {},
   "outputs": [],
   "source": [
    "def pertcile_score(array,percentile):\n",
    "    \"\"\" Array is a list of gas measurements. \n",
    "    Percentile is the value you want to calculate\n",
    "    the score for. \n",
    "    \"\"\"\n",
    "    return st.stats.scoreatpercentile(array, percentile)\n"
   ]
  },
  {
   "cell_type": "code",
   "execution_count": null,
   "id": "16196348-5947-47bc-83eb-88affee3163e",
   "metadata": {},
   "outputs": [],
   "source": [
    "cutoff_conc = pertcile_score(NOAA_paramaters.c3h8.values*1e-3, 50)"
   ]
  },
  {
   "cell_type": "code",
   "execution_count": null,
   "id": "27ae0f2a-d199-4ba0-a4f1-2daabd16c725",
   "metadata": {},
   "outputs": [],
   "source": [
    "cutoff_conc"
   ]
  },
  {
   "cell_type": "markdown",
   "id": "91f29098-4b9c-4c5a-af17-531e67ee5efc",
   "metadata": {},
   "source": [
    "I feel that is too low. Just going to use 1 ppb as the cutoff."
   ]
  },
  {
   "cell_type": "code",
   "execution_count": null,
   "id": "84fee771-e165-48a1-bb7f-ad6ff439b9fa",
   "metadata": {},
   "outputs": [],
   "source": [
    "cutoff_conc = 1."
   ]
  },
  {
   "cell_type": "code",
   "execution_count": null,
   "id": "ad1d9326-560e-4cd2-8972-bf35ed844be9",
   "metadata": {},
   "outputs": [],
   "source": [
    "NOAA_fresh = NOAA_paramaters.loc[NOAA_paramaters['c3h8'] >= 1000.]"
   ]
  },
  {
   "cell_type": "code",
   "execution_count": null,
   "id": "83f753dc-e863-46fc-97a0-f08614da1f87",
   "metadata": {},
   "outputs": [],
   "source": [
    "fh = 400\n",
    "fw = 400\n",
    "colors = bokeh.palettes.d3['Category20'][20]\n",
    "\n",
    "p = bokeh.plotting.figure(frame_height=fh, \n",
    "                          frame_width=fw, title='',x_axis_type='datetime')\n",
    "\n",
    "p.circle(NOAA_fresh.dt_time.values, NOAA_fresh.c3h8.values*1e-3, \n",
    "         size=5, fill_alpha=.5, color=colors[0], legend_label='c3h8')\n",
    "\n",
    "p.circle(NOAA_fresh.dt_time.values, NOAA_fresh.c2h6.values*1e-3, \n",
    "         size=5, fill_alpha=.1, color=colors[1], legend_label='c2h6')\n",
    "\n",
    "p.xaxis.axis_label = \"time\"\n",
    "p.yaxis.axis_label = \"CxCx ppb\"\n",
    "p.xaxis.axis_label_text_font_size = \"16pt\"\n",
    "p.yaxis.axis_label_text_font_size = \"16pt\"\n",
    "p.xaxis.major_label_text_font_size = \"15pt\"\n",
    "p.yaxis.major_label_text_font_size = \"15pt\"\n",
    "p.xaxis.major_tick_line_width = 3\n",
    "p.yaxis.major_tick_line_width = 3\n",
    "p.axis.axis_label_text_font_style = 'bold'\n",
    "p.xaxis.major_label_orientation = 45\n",
    "bokeh.io.show(p)"
   ]
  },
  {
   "cell_type": "markdown",
   "id": "eff827c7-2d83-422d-a096-07a41f3d856d",
   "metadata": {},
   "source": [
    "What about fires: check co and co2"
   ]
  },
  {
   "cell_type": "code",
   "execution_count": null,
   "id": "f5100a5c-ea29-436a-9a30-4d73df8fe7fc",
   "metadata": {},
   "outputs": [],
   "source": [
    "NOAA_fresh.co"
   ]
  },
  {
   "cell_type": "code",
   "execution_count": null,
   "id": "31ae7e2d-7131-45fe-8fdc-ebf4da6dcec4",
   "metadata": {},
   "outputs": [],
   "source": [
    "fh = 400\n",
    "fw = 400\n",
    "colors = bokeh.palettes.d3['Category20'][20]\n",
    "\n",
    "p = bokeh.plotting.figure(frame_height=fh, \n",
    "                          frame_width=fw, title='')\n",
    "\n",
    "p.circle(NOAA_fresh.co.values, NOAA_fresh.co2.values, size=5)\n",
    "\n",
    "\n",
    "p.xaxis.axis_label = \"co\"\n",
    "p.yaxis.axis_label = \"co2 \"\n",
    "p.xaxis.axis_label_text_font_size = \"16pt\"\n",
    "p.yaxis.axis_label_text_font_size = \"16pt\"\n",
    "p.xaxis.major_label_text_font_size = \"15pt\"\n",
    "p.yaxis.major_label_text_font_size = \"15pt\"\n",
    "p.xaxis.major_tick_line_width = 3\n",
    "p.yaxis.major_tick_line_width = 3\n",
    "p.axis.axis_label_text_font_style = 'bold'\n",
    "bokeh.io.show(p)"
   ]
  },
  {
   "cell_type": "code",
   "execution_count": null,
   "id": "a7f34681-bea2-49a0-929f-181cbdce332b",
   "metadata": {},
   "outputs": [],
   "source": [
    "fh = 400\n",
    "fw = 400\n",
    "colors = bokeh.palettes.d3['Category20'][20]\n",
    "\n",
    "p = bokeh.plotting.figure(frame_height=fh, \n",
    "                          frame_width=fw, title='',x_axis_type='datetime')\n",
    "\n",
    "p.circle(NOAA_fresh.dt_time.values, NOAA_fresh.co.values, \n",
    "         size=5, fill_alpha=.5, color=colors[0], legend_label='co')\n",
    "\n",
    "p.circle(NOAA_fresh.dt_time.values, NOAA_fresh.co2.values, \n",
    "         size=5, fill_alpha=.1, color=colors[1], legend_label='co2')\n",
    "\n",
    "p.xaxis.axis_label = \"time\"\n",
    "p.yaxis.axis_label = \"C \"\n",
    "p.xaxis.axis_label_text_font_size = \"16pt\"\n",
    "p.yaxis.axis_label_text_font_size = \"16pt\"\n",
    "p.xaxis.major_label_text_font_size = \"15pt\"\n",
    "p.yaxis.major_label_text_font_size = \"15pt\"\n",
    "p.xaxis.major_tick_line_width = 3\n",
    "p.yaxis.major_tick_line_width = 3\n",
    "p.axis.axis_label_text_font_style = 'bold'\n",
    "p.xaxis.major_label_orientation = 45\n",
    "p.legend.location = \"center\"\n",
    "bokeh.io.show(p)"
   ]
  },
  {
   "cell_type": "markdown",
   "id": "633ec501-2d5f-4643-a630-b83943af88ad",
   "metadata": {},
   "source": [
    "These don't really look impacted in terms of fire emiss? You can remove values greater than 200 CO. "
   ]
  },
  {
   "cell_type": "markdown",
   "id": "e09e520f-f4a9-4722-b746-125281573246",
   "metadata": {},
   "source": [
    "What are the average number of measurements each month for the relevant summer months"
   ]
  },
  {
   "cell_type": "code",
   "execution_count": null,
   "id": "14dc6e09-c9bb-4c95-9e1d-317f88d90059",
   "metadata": {},
   "outputs": [],
   "source": [
    "NOAA_fresh_summer = NOAA_fresh.loc[(NOAA_fresh['month'] == 6) | (NOAA_fresh['month'] == 7) | \n",
    "               (NOAA_fresh['month'] == 8) | (NOAA_fresh['month'] == 9)]"
   ]
  },
  {
   "cell_type": "code",
   "execution_count": null,
   "id": "584f99d4-2088-43c3-962c-cb087f2d86e0",
   "metadata": {},
   "outputs": [],
   "source": [
    "fh = 400\n",
    "fw = 400\n",
    "colors = bokeh.palettes.d3['Category20'][20]\n",
    "\n",
    "p = bokeh.plotting.figure(frame_height=fh, \n",
    "                          frame_width=fw, title='',x_axis_type='datetime')\n",
    "\n",
    "# the x axis is the first instance of time for the groupby (grouping per month)\n",
    "p.circle(NOAA_fresh_summer.groupby(['year','month'])['dt_time'].describe()['first'].values, \n",
    "         NOAA_fresh_summer.groupby(['year','month'])['dt_time'].count().values, \n",
    "         size=5, fill_alpha=.5, color=colors[0])\n",
    "\n",
    "p.xaxis.axis_label = \"time\"\n",
    "p.yaxis.axis_label = \"number of data (counted each month)\"\n",
    "p.xaxis.axis_label_text_font_size = \"16pt\"\n",
    "p.yaxis.axis_label_text_font_size = \"16pt\"\n",
    "p.xaxis.major_label_text_font_size = \"15pt\"\n",
    "p.yaxis.major_label_text_font_size = \"15pt\"\n",
    "p.xaxis.major_tick_line_width = 3\n",
    "p.yaxis.major_tick_line_width = 3\n",
    "p.axis.axis_label_text_font_style = 'bold'\n",
    "p.xaxis.major_label_orientation = 45\n",
    "bokeh.io.show(p)"
   ]
  },
  {
   "cell_type": "code",
   "execution_count": null,
   "id": "157da7f6-9537-4fd4-844d-f2d9c256c085",
   "metadata": {},
   "outputs": [],
   "source": [
    "NOAA_fresh_summer.groupby(['year','month'])['dt_time'].describe()['first'].values"
   ]
  },
  {
   "cell_type": "markdown",
   "id": "ea066dda-1328-4942-b363-4caac6e35dda",
   "metadata": {},
   "source": [
    "Compare this new data to the old data for 2017 (the data that you used for the propane bayes paper) "
   ]
  },
  {
   "cell_type": "code",
   "execution_count": null,
   "id": "7be7007f-9b9f-4f49-bd4b-2a2e146f3376",
   "metadata": {},
   "outputs": [],
   "source": [
    "old_noaa_data = pd.read_csv('../../../propane_bayes_local/data/processing/NOAAfreshemissions.csv')"
   ]
  },
  {
   "cell_type": "code",
   "execution_count": null,
   "id": "1fedb057-c1a0-44d1-a494-6bcac720c1e0",
   "metadata": {},
   "outputs": [],
   "source": [
    "old_noaa_data2017 = old_noaa_data.iloc[1354:1422].reset_index()"
   ]
  },
  {
   "cell_type": "code",
   "execution_count": null,
   "id": "eadfd5c4-6e76-4ed2-a311-bbb658c5bfc2",
   "metadata": {},
   "outputs": [],
   "source": [
    "old_noaa_data2017_summer = old_noaa_data2017.iloc[18:49]"
   ]
  },
  {
   "cell_type": "code",
   "execution_count": null,
   "id": "22020a6c-7102-49da-89f8-6e088652ed16",
   "metadata": {},
   "outputs": [],
   "source": [
    "print(len(old_noaa_data2017_summer))\n",
    "print(len(NOAA_fresh_summer.loc[NOAA_fresh_summer['year'] == 2017]))\n"
   ]
  },
  {
   "cell_type": "code",
   "execution_count": null,
   "id": "2d6207fe-d3aa-4f3d-9b24-0abc31f55d11",
   "metadata": {},
   "outputs": [],
   "source": [
    "\n",
    "\n",
    "fh = 400\n",
    "fw = 400\n",
    "colors = bokeh.palettes.d3['Category20'][20]\n",
    "\n",
    "p = bokeh.plotting.figure(frame_height=fh, \n",
    "                          frame_width=fw, title='')\n",
    "\n",
    "p.circle(old_noaa_data2017_summer.c2h6.values, \n",
    "         old_noaa_data2017_summer.c3h8.values, \n",
    "         size=5, color=colors[1],legend_label='old data')\n",
    "\n",
    "p.circle(NOAA_fresh_summer.loc[NOAA_fresh_summer['year'] == 2017].c2h6.values, \n",
    "         NOAA_fresh_summer.loc[NOAA_fresh_summer['year'] == 2017].c3h8.values, \n",
    "         size=5, color=colors[0],legend_label='new data')\n",
    "\n",
    "\n",
    "p.xaxis.axis_label = \"c2h6\"\n",
    "p.yaxis.axis_label = \"c3h8\"\n",
    "p.xaxis.axis_label_text_font_size = \"16pt\"\n",
    "p.yaxis.axis_label_text_font_size = \"16pt\"\n",
    "p.xaxis.major_label_text_font_size = \"15pt\"\n",
    "p.yaxis.major_label_text_font_size = \"15pt\"\n",
    "p.xaxis.major_tick_line_width = 3\n",
    "p.yaxis.major_tick_line_width = 3\n",
    "p.axis.axis_label_text_font_style = 'bold'\n",
    "bokeh.io.show(p)"
   ]
  },
  {
   "cell_type": "code",
   "execution_count": null,
   "id": "0f5b00d4-3e6f-412b-85ca-c2a2027820c6",
   "metadata": {},
   "outputs": [],
   "source": []
  },
  {
   "cell_type": "markdown",
   "id": "b9a232c3-bf34-4e53-b323-390408437d51",
   "metadata": {},
   "source": [
    "## Would there be more data if you didn't try to include CO and CO2? "
   ]
  },
  {
   "cell_type": "code",
   "execution_count": null,
   "id": "2c82c252-6570-401b-b936-c3f57355643c",
   "metadata": {},
   "outputs": [],
   "source": [
    "noaa_time_red2 = pd.concat([c3_time_red,c2_time_red,ch4_time_red], ignore_index=True)"
   ]
  },
  {
   "cell_type": "code",
   "execution_count": null,
   "id": "0a072106-29d4-4c88-91b3-ccd8aa46b7a2",
   "metadata": {},
   "outputs": [],
   "source": [
    "time_counts = noaa_time_red2.groupby(['dt_time'])['year'].count().reset_index()"
   ]
  },
  {
   "cell_type": "code",
   "execution_count": null,
   "id": "8b4deaf1-c3f6-4bae-971a-f150a34832d4",
   "metadata": {},
   "outputs": [],
   "source": [
    "len(time_counts.loc[time_counts['year'] == 3])"
   ]
  },
  {
   "cell_type": "code",
   "execution_count": null,
   "id": "6a52b744-f7ba-4a22-8991-ee2410791ecb",
   "metadata": {},
   "outputs": [],
   "source": [
    "intersecting_times = time_counts.loc[time_counts['year'] == 3]['dt_time']"
   ]
  },
  {
   "cell_type": "code",
   "execution_count": null,
   "id": "f1059f4c-477c-4586-8c5a-91b263bd0f4b",
   "metadata": {},
   "outputs": [],
   "source": [
    "intersecting_times"
   ]
  },
  {
   "cell_type": "code",
   "execution_count": null,
   "id": "5c367d30-4b36-45a0-81da-bc19667502d9",
   "metadata": {},
   "outputs": [],
   "source": [
    "len(noaa_time_red2.loc[noaa_time_red2['dt_time'].isin(intersecting_times)])"
   ]
  },
  {
   "cell_type": "markdown",
   "id": "31053cf7-d744-44f8-baf4-44962306419a",
   "metadata": {},
   "source": [
    "Remember that the df is not tidy, so it would be multiplied by 3"
   ]
  },
  {
   "cell_type": "code",
   "execution_count": null,
   "id": "e7581f34-8e4f-423e-b97c-e9b284d311d3",
   "metadata": {},
   "outputs": [],
   "source": [
    "len(intersecting_times)*3"
   ]
  },
  {
   "cell_type": "markdown",
   "id": "e9c52e34-b38c-455a-b212-cb18986e1e5c",
   "metadata": {},
   "source": [
    "Great, save out that dataset! "
   ]
  },
  {
   "cell_type": "code",
   "execution_count": null,
   "id": "4065e102-1979-4662-a160-17e773a86d54",
   "metadata": {},
   "outputs": [],
   "source": [
    "noaa_time_intersected2 = noaa_time_red2.loc[noaa_time_red2['dt_time'].isin(intersecting_times)].reset_index()"
   ]
  },
  {
   "cell_type": "code",
   "execution_count": null,
   "id": "f572fca7-f83b-4fb6-9434-8d6cd55cdbad",
   "metadata": {},
   "outputs": [],
   "source": [
    "print(len(noaa_time_intersected2.loc[noaa_time_intersected2['parameter'] == 'c3h8']))\n",
    "print(len(noaa_time_intersected.loc[noaa_time_intersected['parameter'] == 'c3h8']))"
   ]
  },
  {
   "cell_type": "markdown",
   "id": "8b77a0ee-5a2a-4e06-b27c-bb6bdfe32b0d",
   "metadata": {},
   "source": [
    "Great!"
   ]
  },
  {
   "cell_type": "code",
   "execution_count": null,
   "id": "fdc20b59-bd14-4056-9a64-009fce630cfe",
   "metadata": {},
   "outputs": [],
   "source": [
    "fh = 400\n",
    "fw = 400\n",
    "colors = bokeh.palettes.d3['Category20'][20]\n",
    "\n",
    "p = bokeh.plotting.figure(frame_height=fh, \n",
    "                          frame_width=fw, title='',x_axis_type='datetime')\n",
    "dc3 = noaa_time_red2.loc[noaa_time_red2['parameter'] == 'c3h8']\n",
    "dc2 = noaa_time_red2.loc[noaa_time_red2['parameter'] == 'c2h6']\n",
    "\n",
    "\n",
    "p.circle(dc3.dt_time.values, dc3.value.values, \n",
    "         size=5, fill_alpha=.5, color=colors[0], legend_label='c3h8')\n",
    "\n",
    "p.circle(dc2.dt_time.values, dc2.value.values, \n",
    "         size=5, fill_alpha=.1, color=colors[1], legend_label='c2h6')\n",
    "\n",
    "p.xaxis.axis_label = \"time\"\n",
    "p.yaxis.axis_label = \"CxCx ppb\"\n",
    "p.xaxis.axis_label_text_font_size = \"16pt\"\n",
    "p.yaxis.axis_label_text_font_size = \"16pt\"\n",
    "p.xaxis.major_label_text_font_size = \"15pt\"\n",
    "p.yaxis.major_label_text_font_size = \"15pt\"\n",
    "p.xaxis.major_tick_line_width = 3\n",
    "p.yaxis.major_tick_line_width = 3\n",
    "p.axis.axis_label_text_font_style = 'bold'\n",
    "p.xaxis.major_label_orientation = 45\n",
    "bokeh.io.show(p)\n",
    "\n"
   ]
  },
  {
   "cell_type": "code",
   "execution_count": null,
   "id": "7830abc0-bb4b-4420-829f-536ee72ca046",
   "metadata": {},
   "outputs": [],
   "source": [
    "noaa_time_intersected2 = noaa_time_red2.loc[noaa_time_red2['dt_time'].isin(intersecting_times)].reset_index()"
   ]
  },
  {
   "cell_type": "code",
   "execution_count": null,
   "id": "812299a2-2add-4beb-99a9-109265b01187",
   "metadata": {},
   "outputs": [],
   "source": [
    "df_loc_c2h6 = noaa_time_intersected2.loc[noaa_time_intersected2['parameter'] == 'c2h6']\n",
    "df_loc_c3h8 = noaa_time_intersected2.loc[noaa_time_intersected2['parameter'] == 'c3h8']\n",
    "df_loc_ch4 = noaa_time_intersected2.loc[noaa_time_intersected2['parameter'] == 'ch4']\n",
    "\n",
    "\n",
    "df_loc_c2h6 = df_loc_c2h6.drop(columns=['parameter'])\n",
    "df_loc_c3h8 = df_loc_c3h8.drop(columns=['parameter'])\n",
    "df_loc_ch4 = df_loc_ch4.drop(columns=['parameter'])\n"
   ]
  },
  {
   "cell_type": "code",
   "execution_count": null,
   "id": "0092a2b1-703c-4290-ba7c-3162dfadcc21",
   "metadata": {},
   "outputs": [],
   "source": [
    "NOAA_paramaters = pd.DataFrame()\n",
    "NOAA_paramaters['dt_time'] = df_loc_c2h6.copy().dt_time.values\n",
    "NOAA_paramaters['year'] = df_loc_c2h6.copy().year.values\n",
    "NOAA_paramaters['month'] = df_loc_c2h6.copy().month.values\n",
    "NOAA_paramaters['day'] = df_loc_c2h6.copy().day.values\n",
    "NOAA_paramaters['hour'] = df_loc_c2h6.copy().hour.values\n",
    "NOAA_paramaters['minute'] = df_loc_c2h6.copy().minute.values\n",
    "NOAA_paramaters['second'] = df_loc_c2h6.copy().second.values\n",
    "NOAA_paramaters['completetime'] = df_loc_c2h6.copy().completetime.values\n",
    "\n",
    "\n",
    "NOAA_paramaters['c2h6'] = df_loc_c2h6.copy().value.values\n",
    "NOAA_paramaters['c3h8'] = df_loc_c3h8.copy().value.values\n",
    "NOAA_paramaters['ch4'] = df_loc_ch4.copy().value.values\n",
    "NOAA_paramaters['c2h6_unc'] = df_loc_c2h6.copy().value_unc.values\n",
    "NOAA_paramaters['c3h8_unc'] = df_loc_c3h8.copy().value_unc.values\n",
    "NOAA_paramaters['ch4_unc'] = df_loc_ch4.copy().value_unc.values\n",
    "\n",
    "# I double checked lat/lon/alt are the same between the different variables \n",
    "NOAA_paramaters['lat'] = df_loc_c2h6.copy().latitude.values\n",
    "NOAA_paramaters['lon'] = df_loc_c2h6.copy().longitude.values\n",
    "NOAA_paramaters['altitude'] = df_loc_c2h6.copy().altitude.values\n",
    "NOAA_paramaters['elevation'] = df_loc_c2h6.copy().elevation.values\n",
    "NOAA_paramaters['intake_height'] = df_loc_c2h6.copy().intake_height.values"
   ]
  },
  {
   "cell_type": "code",
   "execution_count": null,
   "id": "b2448a93-34f1-4fc3-bffb-2df7aac1e2a9",
   "metadata": {},
   "outputs": [],
   "source": [
    "fh = 400\n",
    "fw = 400\n",
    "\n",
    "p = bokeh.plotting.figure(frame_height=fh, frame_width=fw, title='', x_axis_type=\"log\", y_axis_type=\"log\")\n",
    "colors = bokeh.palettes.d3['Category20'][20]\n",
    "\n",
    "\n",
    "p.circle(NOAA_paramaters.c2h6*1e-3, \n",
    "         NOAA_paramaters.c3h8*1e-3, \n",
    "         color=colors[0], size=5, fill_alpha=.5, legend_label = 'SGP')\n",
    "p.xaxis.axis_label = \"C₂H₆ (ppb)\"\n",
    "p.yaxis.axis_label = \"C₃H₈ (ppb)\"\n",
    "p.xaxis.axis_label_text_font_size = \"16pt\"\n",
    "p.yaxis.axis_label_text_font_size = \"16pt\"\n",
    "p.xaxis.major_label_text_font_size = \"15pt\"\n",
    "p.yaxis.major_label_text_font_size = \"15pt\"\n",
    "p.xaxis.major_tick_line_width = 3\n",
    "p.yaxis.major_tick_line_width = 3\n",
    "p.axis.axis_label_text_font_style = 'bold'\n",
    "p.legend.label_text_font_size = '14pt'\n",
    "\n",
    "p.legend.location = \"bottom_right\"\n",
    "bokeh.io.show(p)"
   ]
  },
  {
   "cell_type": "markdown",
   "id": "6ad4516b-8e70-4716-a04f-8cac608dfb35",
   "metadata": {},
   "source": [
    "Data below 1 ppb c3h8 is aged air. Just going to go off of your paper. "
   ]
  },
  {
   "cell_type": "code",
   "execution_count": null,
   "id": "67aad0e0-dc9d-4958-a16c-752346992833",
   "metadata": {},
   "outputs": [],
   "source": [
    "NOAA_fresh = NOAA_paramaters.loc[NOAA_paramaters['c3h8'] >= 1000.]"
   ]
  },
  {
   "cell_type": "code",
   "execution_count": null,
   "id": "adecb911-649f-473a-88b5-423f20e23259",
   "metadata": {},
   "outputs": [],
   "source": [
    "fh = 400\n",
    "fw = 400\n",
    "colors = bokeh.palettes.d3['Category20'][20]\n",
    "\n",
    "p = bokeh.plotting.figure(frame_height=fh, \n",
    "                          frame_width=fw, title='',x_axis_type='datetime')\n",
    "\n",
    "p.circle(NOAA_fresh.dt_time.values, NOAA_fresh.c3h8.values*1e-3, \n",
    "         size=5, fill_alpha=.5, color=colors[0], legend_label='c3h8')\n",
    "\n",
    "p.circle(NOAA_fresh.dt_time.values, NOAA_fresh.c2h6.values*1e-3, \n",
    "         size=5, fill_alpha=.1, color=colors[1], legend_label='c2h6')\n",
    "\n",
    "p.xaxis.axis_label = \"time\"\n",
    "p.yaxis.axis_label = \"CxCx ppb\"\n",
    "p.xaxis.axis_label_text_font_size = \"16pt\"\n",
    "p.yaxis.axis_label_text_font_size = \"16pt\"\n",
    "p.xaxis.major_label_text_font_size = \"15pt\"\n",
    "p.yaxis.major_label_text_font_size = \"15pt\"\n",
    "p.xaxis.major_tick_line_width = 3\n",
    "p.yaxis.major_tick_line_width = 3\n",
    "p.axis.axis_label_text_font_style = 'bold'\n",
    "p.xaxis.major_label_orientation = 45\n",
    "bokeh.io.show(p)"
   ]
  },
  {
   "cell_type": "markdown",
   "id": "394d9ea7-38af-42c3-89c3-98d55b242ae6",
   "metadata": {},
   "source": [
    "compare to old data again"
   ]
  },
  {
   "cell_type": "code",
   "execution_count": null,
   "id": "9a57a2ec-68c8-4a0e-b15e-1649f9460834",
   "metadata": {},
   "outputs": [],
   "source": [
    "NOAA_fresh_summer = NOAA_fresh.loc[(NOAA_fresh['month'] == 6) | (NOAA_fresh['month'] == 7) | \n",
    "               (NOAA_fresh['month'] == 8) | (NOAA_fresh['month'] == 9)]"
   ]
  },
  {
   "cell_type": "code",
   "execution_count": null,
   "id": "ba67d80e-1241-470d-8a2a-224cbb8649bf",
   "metadata": {},
   "outputs": [],
   "source": [
    "print(len(old_noaa_data2017_summer))\n",
    "print(len(NOAA_fresh_summer.loc[NOAA_fresh_summer['year'] == 2017]))\n"
   ]
  },
  {
   "cell_type": "code",
   "execution_count": null,
   "id": "c8e13f6b-f3b3-4f7f-b2fd-dbc1a11b0559",
   "metadata": {},
   "outputs": [],
   "source": [
    "\n",
    "\n",
    "fh = 400\n",
    "fw = 400\n",
    "colors = bokeh.palettes.d3['Category20'][20]\n",
    "\n",
    "p = bokeh.plotting.figure(frame_height=fh, \n",
    "                          frame_width=fw, title='')\n",
    "\n",
    "p.circle(old_noaa_data2017_summer.c2h6.values, \n",
    "         old_noaa_data2017_summer.c3h8.values, \n",
    "         size=5, color=colors[1],legend_label='old data')\n",
    "\n",
    "p.circle(NOAA_fresh_summer.loc[NOAA_fresh_summer['year'] == 2017].c2h6.values, \n",
    "         NOAA_fresh_summer.loc[NOAA_fresh_summer['year'] == 2017].c3h8.values, \n",
    "         size=5, color=colors[0],legend_label='new data')\n",
    "\n",
    "\n",
    "p.xaxis.axis_label = \"c2h6\"\n",
    "p.yaxis.axis_label = \"c3h8\"\n",
    "p.xaxis.axis_label_text_font_size = \"16pt\"\n",
    "p.yaxis.axis_label_text_font_size = \"16pt\"\n",
    "p.xaxis.major_label_text_font_size = \"15pt\"\n",
    "p.yaxis.major_label_text_font_size = \"15pt\"\n",
    "p.xaxis.major_tick_line_width = 3\n",
    "p.yaxis.major_tick_line_width = 3\n",
    "p.axis.axis_label_text_font_style = 'bold'\n",
    "bokeh.io.show(p)"
   ]
  },
  {
   "cell_type": "code",
   "execution_count": null,
   "id": "8bf302c6-5214-4dcf-b237-9805792710af",
   "metadata": {},
   "outputs": [],
   "source": [
    "NOAA_fresh_summer.groupby(['year','month'])['dt_time'].describe()['first'].values"
   ]
  },
  {
   "cell_type": "markdown",
   "id": "dfd78f2b-c3ac-4c26-9724-6d8b2fcc9fe7",
   "metadata": {},
   "source": [
    "Yes, keeping this dataset. "
   ]
  },
  {
   "cell_type": "markdown",
   "id": "9a160edc-0024-4383-98ba-50bf144a9f34",
   "metadata": {},
   "source": [
    "do the bootstrap for c3 vs c2 "
   ]
  },
  {
   "cell_type": "code",
   "execution_count": null,
   "id": "7b509817-7a75-4c00-915c-3cd914c058c3",
   "metadata": {},
   "outputs": [],
   "source": []
  },
  {
   "cell_type": "code",
   "execution_count": null,
   "id": "c78bb062-1fa6-495a-ab0d-d075a63f04e9",
   "metadata": {},
   "outputs": [],
   "source": [
    "NOAA_fresh_summer.to_csv('../../data/processing/newNOAA_freshemiss2016to2020.csv', index=None)"
   ]
  },
  {
   "cell_type": "markdown",
   "id": "4bd76684-3dbd-4751-a769-a2a5556ed591",
   "metadata": {},
   "source": [
    "Also save out data for summer only but accounting for the background "
   ]
  },
  {
   "cell_type": "code",
   "execution_count": null,
   "id": "0e852c8e-bdb8-4c4c-bd20-4aa0be7718d6",
   "metadata": {},
   "outputs": [],
   "source": [
    "NOAA_summer = NOAA_paramaters.loc[(NOAA_paramaters['month'] == 6) | (NOAA_paramaters['month'] == 7) | \n",
    "               (NOAA_paramaters['month'] == 8) | (NOAA_paramaters['month'] == 9)]"
   ]
  },
  {
   "cell_type": "code",
   "execution_count": null,
   "id": "339f9125-e869-44f4-9664-9af8c358e353",
   "metadata": {},
   "outputs": [],
   "source": [
    "fh = 400\n",
    "fw = 400\n",
    "\n",
    "p = bokeh.plotting.figure(frame_height=fh, frame_width=fw, title='', x_axis_type=\"log\", y_axis_type=\"log\")\n",
    "colors = bokeh.palettes.d3['Category20'][20]\n",
    "\n",
    "\n",
    "p.circle(NOAA_summer.c2h6*1e-3, \n",
    "         NOAA_summer.c3h8*1e-3, \n",
    "         color=colors[0], size=5, fill_alpha=.5, legend_label = 'all')\n",
    "p.circle(NOAA_fresh_summer.c2h6*1e-3, \n",
    "         NOAA_fresh_summer.c3h8*1e-3, \n",
    "         color=colors[1], size=5, fill_alpha=.5, legend_label = 'fresh only')\n",
    "p.xaxis.axis_label = \"C₂H₆ (ppb)\"\n",
    "p.yaxis.axis_label = \"C₃H₈ (ppb)\"\n",
    "p.xaxis.axis_label_text_font_size = \"16pt\"\n",
    "p.yaxis.axis_label_text_font_size = \"16pt\"\n",
    "p.xaxis.major_label_text_font_size = \"15pt\"\n",
    "p.yaxis.major_label_text_font_size = \"15pt\"\n",
    "p.xaxis.major_tick_line_width = 3\n",
    "p.yaxis.major_tick_line_width = 3\n",
    "p.axis.axis_label_text_font_style = 'bold'\n",
    "p.legend.label_text_font_size = '14pt'\n",
    "\n",
    "p.legend.location = \"bottom_right\"\n",
    "bokeh.io.show(p)"
   ]
  },
  {
   "cell_type": "code",
   "execution_count": null,
   "id": "fba292d2-c767-4cb8-bb75-0876dbcdfc0b",
   "metadata": {},
   "outputs": [],
   "source": [
    "NOAA_summer.to_csv('../../data/processing/newNOAA_oldandfreshemiss2016to2020.csv', index=None)"
   ]
  },
  {
   "cell_type": "code",
   "execution_count": null,
   "id": "63dc9a9a-97fb-43cf-be78-8ab1eefebc86",
   "metadata": {},
   "outputs": [],
   "source": []
  }
 ],
 "metadata": {
  "kernelspec": {
   "display_name": "oklahoma_propane_env",
   "language": "python",
   "name": "oklahoma_propane_env"
  },
  "language_info": {
   "codemirror_mode": {
    "name": "ipython",
    "version": 3
   },
   "file_extension": ".py",
   "mimetype": "text/x-python",
   "name": "python",
   "nbconvert_exporter": "python",
   "pygments_lexer": "ipython3",
   "version": "3.8.11"
  }
 },
 "nbformat": 4,
 "nbformat_minor": 5
}
