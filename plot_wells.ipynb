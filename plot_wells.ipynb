{
 "cells": [
  {
   "cell_type": "code",
   "execution_count": null,
   "id": "fde8b898-e89c-4e44-80e6-2f6d9b75f673",
   "metadata": {},
   "outputs": [],
   "source": [
    "import sys\n",
    "import csv\n",
    "import pandas as pd\n",
    "import numpy as np\n",
    "\n",
    "import cartopy\n",
    "import matplotlib.pyplot as plt\n",
    "import cartopy.crs as ccrs\n",
    "import cartopy.feature as cfeature\n",
    "import xarray as xr\n",
    "from cartopy.feature import ShapelyFeature\n",
    "import cartopy.io.shapereader as shpreader\n",
    "import matplotlib.colors as mcolors\n",
    "\n",
    "import holoviews as hv\n",
    "hv.extension('bokeh')\n",
    "\n",
    "import bokeh.io\n",
    "bokeh.io.output_notebook()\n",
    "\n"
   ]
  },
  {
   "cell_type": "markdown",
   "id": "b406e3bb-d8b4-4f2d-90ce-6980a5880750",
   "metadata": {},
   "source": [
    "## Plot oil and gas wells using cartopy"
   ]
  },
  {
   "cell_type": "markdown",
   "id": "71c716d6-7cb5-44b4-8d76-bd106a559488",
   "metadata": {},
   "source": [
    "Import the oil and gas well data "
   ]
  },
  {
   "cell_type": "code",
   "execution_count": null,
   "id": "77cbf71b-91aa-45be-9ef4-47980d6ed6f5",
   "metadata": {},
   "outputs": [],
   "source": [
    "arkog = shpreader.Reader(\"/Users/arianatribby/Documents/oklahoma_c3_c2/OGWells/AR_OG_AllWells_05032021/ArkansasOilandGasWells_05032021.shp\")"
   ]
  },
  {
   "cell_type": "code",
   "execution_count": null,
   "id": "5007cdbf-95b2-49c4-8c34-bc8cf170629d",
   "metadata": {},
   "outputs": [],
   "source": [
    "colog = shpreader.Reader(\"/Users/arianatribby/Documents/oklahoma_c3_c2/OGWells/CO_OilandGas_WELLS_SHP_110321/Wells.shp\")"
   ]
  },
  {
   "cell_type": "code",
   "execution_count": null,
   "id": "54e4dd9c-7640-41fb-8541-30c9f7c2f8bb",
   "metadata": {},
   "outputs": [],
   "source": [
    "kansog = shpreader.Reader(\"/Users/arianatribby/Documents/oklahoma_c3_c2/OGWells/KS_SWD_WELLS_Volumes_End_2018_With_Excel_KML/KS_SWD_WELLS_Volumes_End_2018.shp\")"
   ]
  },
  {
   "cell_type": "code",
   "execution_count": null,
   "id": "d3b09d6c-3ce0-468b-b35d-f563725448ef",
   "metadata": {},
   "outputs": [],
   "source": [
    "missog = shpreader.Reader(\"/Users/arianatribby/Documents/oklahoma_c3_c2/OGWells/MO_OG_AllWells_04142021/MissouriWells.shp\")"
   ]
  },
  {
   "cell_type": "code",
   "execution_count": null,
   "id": "0765326b-cae7-4ca6-8a21-f193ed0c7283",
   "metadata": {},
   "outputs": [],
   "source": [
    "newmexlog = shpreader.Reader(\"/Users/arianatribby/Documents/oklahoma_c3_c2/OGWells/NM_03152022_OGWells/WellsGIS/WellsGIS.shp\")\n"
   ]
  },
  {
   "cell_type": "code",
   "execution_count": null,
   "id": "9db3dbf8-4422-484e-99df-4cc1c3b071c1",
   "metadata": {},
   "outputs": [],
   "source": [
    "oklaog = shpreader.Reader(\"/Users/arianatribby/Documents/oklahoma_c3_c2/OGWells/OK_ClassII_2011_2018_Volumes_WithExcel/OK_ClassII_2011_2018_Volumes.shp\")\n"
   ]
  },
  {
   "cell_type": "code",
   "execution_count": null,
   "id": "235f6a12-6174-4ff6-b711-47de0df4e874",
   "metadata": {},
   "outputs": [],
   "source": [
    "texasog = pd.read_csv(\"/Users/arianatribby/Documents/oklahoma_c3_c2/OGWells/TX_Prod5-8-2021/TX_OGwells_05082021.csv\")"
   ]
  },
  {
   "cell_type": "code",
   "execution_count": null,
   "id": "d5411779-f2fa-4e63-a4ae-e0311aa708dd",
   "metadata": {},
   "outputs": [],
   "source": [
    "texasog.head()"
   ]
  },
  {
   "cell_type": "code",
   "execution_count": null,
   "id": "73824b25-f4a4-426a-8bea-02da6faca9a7",
   "metadata": {},
   "outputs": [],
   "source": [
    "oklaog.records()"
   ]
  },
  {
   "cell_type": "code",
   "execution_count": null,
   "id": "2954ac0c-23c7-4367-88c7-e7cb4dc213d2",
   "metadata": {},
   "outputs": [],
   "source": [
    "next(oklaog.records()).geometry"
   ]
  },
  {
   "cell_type": "code",
   "execution_count": null,
   "id": "746ec162-f436-4e57-a7ac-906ae99e5f70",
   "metadata": {},
   "outputs": [],
   "source": [
    "next(oklaog.records()).attributes"
   ]
  },
  {
   "cell_type": "markdown",
   "id": "f7cd7d17-c6dd-4048-b189-b817f0df43ff",
   "metadata": {},
   "source": [
    "Stack overflow is saying to take a look at the .prj file in the folder, which contains info about units for the geometries. Here is all the file contained: \n",
    "\n",
    "\n",
    "GEOGCS[\"GCS_North_American_1983\",DATUM[\"D_North_American_1983\",SPHEROID[\"GRS_1980\",6378137.0,298.257222101]],PRIMEM[\"Greenwich\",0.0],UNIT[\"Degree\",0.0174532925199433]]\n",
    "\n",
    "\n"
   ]
  },
  {
   "cell_type": "code",
   "execution_count": null,
   "id": "f3325a75-4c64-498f-adb7-ba77272be6a3",
   "metadata": {},
   "outputs": [],
   "source": [
    "next(oklaog.records()).geometry.centroid.xy "
   ]
  },
  {
   "cell_type": "markdown",
   "id": "8bab7ddd-a6ed-483b-9fec-2aa38fdac7e4",
   "metadata": {},
   "source": [
    "so those units look like lat/lon"
   ]
  },
  {
   "cell_type": "code",
   "execution_count": null,
   "id": "6e63f091-e3ef-45f8-90d6-81c5236d5993",
   "metadata": {},
   "outputs": [],
   "source": [
    "fig = plt.figure()\n",
    "# ax = fig.add_axes((0, 0, 1, 1), projection=ccrs.PlateCarree())\n",
    "ax = plt.axes(projection=ccrs.PlateCarree())\n",
    "\n",
    "ax.stock_img()\n",
    "\n",
    "\n",
    "ax.set_extent([-110,-85,25,45])\n",
    "\n",
    "# # Create a feature for States/Admin 1 regions at 1:50m from Natural Earth\n",
    "# states_provinces = cfeature.NaturalEarthFeature(\n",
    "#     category='cultural',\n",
    "#     name='admin_1_states_provinces_lines',\n",
    "#     scale='50m',\n",
    "#     facecolor='none')\n",
    "\n",
    "SOURCE = 'Natural Earth'\n",
    "LICENSE = 'public domain'\n",
    "\n",
    "ax.add_feature(cfeature.LAND)\n",
    "ax.add_feature(cfeature.COASTLINE)\n",
    "ax.add_feature(cfeature.STATES)\n",
    "# ax.add_feature(states_provinces, edgecolor='gray')\n",
    "ax.gridlines(crs=ccrs.PlateCarree(), draw_labels=True,linewidth=2, color='gray', alpha=0.5, linestyle='--')\n",
    "\n",
    "# plt.text(-97.56, 36.69, 'Lamont',\n",
    "#          horizontalalignment='right',\n",
    "#          transform=ccrs.Geodetic())\n",
    "\n",
    "# not sure why the following didn't work: \n",
    "# shape_feature = ShapelyFeature(oklaog.geometries(),ccrs.PlateCarree(), \n",
    "#                                edgecolor='black')\n",
    "# ax.add_feature(shape_feature, facecolor='blue')\n",
    "\n",
    "\n",
    "\n",
    "# the add geometries method below doesn't read from disk so very slow .................\n",
    "# ax.add_geometries([next(oklaog.records()).geometry], ccrs.PlateCarree())\n",
    "# ax.add_geometries([next(oklaog.records()).geometry], ccrs.PlateCarree(),\n",
    "#                   facecolor='blue', alpha=0.4)\n",
    "# ax.add_geometries([next(oklaog.records()).geometry], ccrs.epsg(26910))\n",
    "# ax.add_feature(next(oklaog.records()).geometry, ccrs.PlateCarree(),\n",
    "#                   facecolor='blue', alpha=0.4)\n",
    "\n",
    "for pp in oklaog.records():\n",
    "#     col=colour[1]\n",
    "#     if pp.attributes['ForestType'] == 'OG':\n",
    "#         col = colour[0]\n",
    "#     elif pp.attributes['ForestType'] == 'ML':\n",
    "#         col=colour[2]\n",
    "    ax.plot(pp.geometry.coords.xy[0],pp.geometry.coords.xy[1], marker='o', \n",
    "            mfc='#8B0000',\n",
    "            mec='#8B0000', mew=0.2, markersize=1)\n",
    "\n",
    "# use mcolors.CSS4_COLORS command to get the number id for colors\n",
    "\n",
    "\n",
    "\n",
    "plt.show()"
   ]
  },
  {
   "cell_type": "markdown",
   "id": "5737e0ee-a084-45af-9782-6f89e33b149b",
   "metadata": {},
   "source": [
    "Plot all Wells at once for the paper \n",
    "\n",
    "But some states have their geometries in units of meters. I know you can approximate lat/lon as meter but was not wanting to do that here for fear of introducing additonal uncertainty. Luckily the lat/lon was part of the attributes section. For future if need to convert, here are some (cumbersome) ways of doing it: \n",
    "\n",
    "BEST SOLUTIPN is using pyproj, simple enough but not sure if you can do this all at once on arrays of lat/lon https://gis.stackexchange.com/questions/78838/converting-projected-coordinates-to-lat-lon-using-python but you need to double check what the coordinate is, the 3857 may be mercator projection.  \n",
    "```\n",
    "from pyproj import Proj, transform\n",
    "\n",
    "inProj = Proj(init='epsg:3857')\n",
    "outProj = Proj(init='epsg:4326')\n",
    "x1,y1 = -11705274.6374,4826473.6922\n",
    "x2,y2 = transform(inProj,outProj,x1,y1)\n",
    "print x2,y2\n",
    "```\n",
    "https://stackoverflow.com/questions/56662941/cartopy-convert-point-from-axes-coordinates-to-lat-lon-coordinates \n",
    "https://climate-cms.org/posts/2021-10-01-pyproj.html\n",
    "not changing units, but using different projection (but I tried using different projection while units were in meters and that didn't plot) https://uoftcoders.github.io/studyGroup/lessons/python/cartography/lesson/ \n"
   ]
  },
  {
   "cell_type": "code",
   "execution_count": null,
   "id": "a477aa41-091d-45e2-b7d4-80d3a894f1cb",
   "metadata": {},
   "outputs": [],
   "source": [
    "fig = plt.figure()\n",
    "ax = plt.axes(projection=ccrs.PlateCarree())\n",
    "\n",
    "ax.stock_img()\n",
    "ax.set_extent([-110,-85,25,45])\n",
    "\n",
    "ax.add_feature(cfeature.LAND)\n",
    "ax.add_feature(cfeature.COASTLINE)\n",
    "ax.add_feature(cfeature.STATES)\n",
    "ax.gridlines(crs=ccrs.PlateCarree(), draw_labels=True,linewidth=2, color='gray', alpha=0.5, linestyle='--')\n",
    "\n",
    "ax.scatter(texasog.LONG83.values, texasog.LAT83.values, marker='o', color='#8B0000', s=1, alpha=.5)   \n",
    "\n",
    "\n",
    "for pp in oklaog.records():\n",
    "    ax.plot(pp.geometry.coords.xy[0],pp.geometry.coords.xy[1], marker='o', \n",
    "            mfc='#8B0000',mec='#8B0000', mew=0.2, markersize=1, alpha=.5)\n",
    "\n",
    "for pp in arkog.records():\n",
    "    # the geometry is in units of meters, but the attributes have the lat/lon location\n",
    "    ax.plot(pp.attributes['longitude'],pp.attributes['latitude'], marker='o', \n",
    "            mfc='#8B0000',mec='#8B0000', mew=0.2, markersize=1, alpha=.5)\n",
    "    \n",
    "for pp in colog.records():   \n",
    "    # the geometry is in units of meters, but the attributes have the lat/lon location\n",
    "    ax.plot(pp.attributes['Longitude'],pp.attributes['Latitude'], marker='o', \n",
    "            mfc='#8B0000',mec='#8B0000', mew=0.2, markersize=1, alpha=.5)\n",
    "\n",
    "for pp in kansog.records():\n",
    "     ax.plot(pp.geometry.coords.xy[0],pp.geometry.coords.xy[1], marker='o', \n",
    "            mfc='#8B0000',mec='#8B0000', mew=0.2, markersize=1, alpha=.5)\n",
    "\n",
    "for pp in missog.records():\n",
    "     ax.plot(pp.geometry.coords.xy[0],pp.geometry.coords.xy[1], marker='o', \n",
    "            mfc='#8B0000',mec='#8B0000', mew=0.2, markersize=1, alpha=.5)\n",
    "\n",
    "for pp in newmexlog.records():\n",
    "     ax.plot(pp.geometry.coords.xy[0],pp.geometry.coords.xy[1], marker='o', \n",
    "            mfc='#8B0000',mec='#8B0000', mew=0.2, markersize=1, alpha=.5)\n",
    "\n",
    "plt.savefig(\"allwells_for_emissionsforstilt.png\")\n",
    "plt.show()"
   ]
  },
  {
   "cell_type": "markdown",
   "id": "127873ad-86e3-4521-b74e-20247d375344",
   "metadata": {},
   "source": [
    "Plot the emissions from emissions_forstilt.ipynb"
   ]
  },
  {
   "cell_type": "code",
   "execution_count": null,
   "id": "def9be09-eb8c-41f6-8749-0ce816dbe3de",
   "metadata": {},
   "outputs": [],
   "source": [
    "emiss = shpreader.Reader('/Users/arianatribby/git/oklahoma_propane/data/processing/wellhead_emiss_for_footprint.shp')"
   ]
  },
  {
   "cell_type": "code",
   "execution_count": null,
   "id": "74721787-15db-45a0-b627-45a0b6209dc6",
   "metadata": {},
   "outputs": [],
   "source": [
    "next(emiss.records()).attributes"
   ]
  },
  {
   "cell_type": "code",
   "execution_count": null,
   "id": "d4ce40d5-67cc-4ac6-9cd5-8da5a31dfa70",
   "metadata": {},
   "outputs": [],
   "source": [
    "fig = plt.figure()\n",
    "ax = plt.axes(projection=ccrs.PlateCarree())\n",
    "\n",
    "ax.stock_img()\n",
    "ax.set_extent([-115,-80,25,50])\n",
    "\n",
    "ax.add_feature(cfeature.LAND)\n",
    "ax.add_feature(cfeature.COASTLINE)\n",
    "ax.add_feature(cfeature.STATES)\n",
    "ax.gridlines(crs=ccrs.PlateCarree(), draw_labels=True,linewidth=2, color='gray', alpha=0.5, linestyle='--')\n",
    "\n",
    "emissgrid = cartopy.feature.ShapelyFeature(emiss.geometries(),ccrs.PlateCarree(), facecolor='none')\n",
    "ax.add_feature(emissgrid, edgecolor='r', linewidth=0.5)\n",
    "\n",
    "# neither of these worked \n",
    "# ax.add_geometries(emiss.geometries(), crs=ccrs.PlateCarree(), facecolor='blue', edgecolor='red', alpha=0.8)\n",
    "# for em in emiss.records():\n",
    "# #     name = em.attributes['n_wells']\n",
    "#     ax.add_geometries([em.geometry], ccrs.PlateCarree(), facecolor='k', alpha=0.4)\n",
    "\n",
    "\n",
    "# for pp in oklaog.records():\n",
    "#     ax.plot(pp.geometry.coords.xy[0],pp.geometry.coords.xy[1], marker='o', \n",
    "#             mfc='#8B0000',mec='#8B0000', mew=0.2, markersize=1, alpha=.5)\n",
    "\n",
    "\n",
    "# plt.savefig(\"allwells_for_emissionsforstilt.png\")\n",
    "plt.show()"
   ]
  },
  {
   "cell_type": "markdown",
   "id": "6a076c73-509e-4926-b740-c8242650c97f",
   "metadata": {},
   "source": [
    "why do the geometries extend across the entire grid? \n",
    "these instructions were helping you https://notebook.community/hetland/python4geosciences/materials/ST_shapefiles \n",
    "\n",
    "I double checked that emissions were good in the python file where it came from "
   ]
  },
  {
   "cell_type": "code",
   "execution_count": null,
   "id": "60bbf4cb-36bd-4d79-b69f-5c6130c9cd3d",
   "metadata": {},
   "outputs": [],
   "source": []
  }
 ],
 "metadata": {
  "kernelspec": {
   "display_name": "oklahoma_propane_env",
   "language": "python",
   "name": "oklahoma_propane_env"
  },
  "language_info": {
   "codemirror_mode": {
    "name": "ipython",
    "version": 3
   },
   "file_extension": ".py",
   "mimetype": "text/x-python",
   "name": "python",
   "nbconvert_exporter": "python",
   "pygments_lexer": "ipython3",
   "version": "3.8.11"
  }
 },
 "nbformat": 4,
 "nbformat_minor": 5
}
